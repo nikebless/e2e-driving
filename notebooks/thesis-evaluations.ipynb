{
 "cells": [
  {
   "cell_type": "code",
   "execution_count": 4,
   "metadata": {},
   "outputs": [],
   "source": [
    "import wandb\n",
    "import os\n",
    "\n",
    "WANDB_USER = 'nikebless-thesis'\n",
    "WANDB_PROJECT = 'ibc'\n",
    "SAVEDIR = '../_models'\n",
    "\n",
    "os.makedirs(SAVEDIR, exist_ok=True)\n",
    "\n",
    "models = { \n",
    "    'ebm-unregularized-v1': '2fszoqji',\n",
    "    'ebm-unregularized-v2': '2rnlr80k',\n",
    "    'ebm-unregularized-v3': '2h2223nm',\n",
    "    'mae-v1': '13vssg6f',\n",
    "    'mae-v2': '1369ywfp',\n",
    "    'mae-v3': '17q16jkl',\n",
    "    'ebm-regularized-v1': '2x8qclz8',\n",
    "    'ebm-regularized-v2': '31ua9ivf',\n",
    "    'ebm-regularized-v3': '9bwouhzr',\n",
    "    # 'ebm-12-5%-v1': '1qs4417o',\n",
    "    # 'ebm-12-5%-v2': '',\n",
    "    # 'ebm-12-5%-v3': '',\n",
    "    # 'ebm-1-25%-v1': '2vxae1ae',\n",
    "    # 'ebm-1-25%-v2': '',\n",
    "    # 'ebm-1-25%-v3': '',\n",
    "    # 'mae-12-5%-v1': '2ing0vso',\n",
    "    # 'mae-12-5%-v2': '',\n",
    "    # 'mae-12-5%-v3': '',\n",
    "    # 'mae-1-25%-v1': '2ubymmju',\n",
    "    # 'mae-1-25%-v2': '',\n",
    "    # 'mae-1-25%-v3': '',\n",
    "    'ebm-50%-v1': '3dbratb5', # TODO: download\n",
    "    'ebm-10%-v1': '3dabg6cd',\n",
    "    'mae-50%-v1': '2keinev2',\n",
    "    'mae-10%-v1': '1i1dadsh',\n",
    "}"
   ]
  },
  {
   "cell_type": "markdown",
   "metadata": {},
   "source": [
    "### Download models from Wandb"
   ]
  },
  {
   "cell_type": "code",
   "execution_count": 5,
   "metadata": {},
   "outputs": [
    {
     "name": "stdout",
     "output_type": "stream",
     "text": [
      "Skipping ebm-unregularized-v1 because it's already downloaded.\n",
      "Skipping ebm-unregularized-v1 because it's already downloaded.\n",
      "Skipping ebm-unregularized-v2 because it's already downloaded.\n",
      "Skipping ebm-unregularized-v2 because it's already downloaded.\n",
      "Skipping ebm-unregularized-v3 because it's already downloaded.\n",
      "Skipping ebm-unregularized-v3 because it's already downloaded.\n",
      "Skipping mae-v1 because it's already downloaded.\n",
      "Skipping mae-v1 because it's already downloaded.\n",
      "Skipping mae-v2 because it's already downloaded.\n",
      "Skipping mae-v2 because it's already downloaded.\n",
      "Skipping mae-v3 because it's already downloaded.\n",
      "Skipping mae-v3 because it's already downloaded.\n",
      "Skipping ebm-regularized-v1 because it's already downloaded.\n",
      "Skipping ebm-regularized-v1 because it's already downloaded.\n",
      "Skipping ebm-regularized-v2 because it's already downloaded.\n",
      "Skipping ebm-regularized-v2 because it's already downloaded.\n",
      "Skipping ebm-regularized-v3 because it's already downloaded.\n",
      "Skipping ebm-regularized-v3 because it's already downloaded.\n",
      "Skipping ebm-10%-v1 because it's already downloaded.\n",
      "Skipping ebm-10%-v1 because it's already downloaded.\n",
      "Skipping mae-50%-v1 because it's already downloaded.\n",
      "Skipping mae-50%-v1 because it's already downloaded.\n",
      "Skipping mae-10%-v1 because it's already downloaded.\n",
      "Skipping mae-10%-v1 because it's already downloaded.\n"
     ]
    }
   ],
   "source": [
    "api = wandb.Api()\n",
    "\n",
    "for model_name, run_hash in models.items():\n",
    "\n",
    "    run = api.run(f\"{WANDB_USER}/{WANDB_PROJECT}/{run_hash}\")\n",
    "\n",
    "    output_path = os.path.join(SAVEDIR, f'{model_name}.pt')\n",
    "    if not os.path.exists(output_path):\n",
    "        last_pt_model = [file for file in run.files() if file.name.endswith('last.pt')][0]\n",
    "        last_pt_model.download()\n",
    "        os.rename(last_pt_model.name, output_path)\n",
    "        print(f'Saved {model_name} to {output_path}.')\n",
    "    else:\n",
    "        print(f'Skipping {model_name} because it\\'s already downloaded.')\n",
    "\n",
    "    last_onnx_models = [file for file in run.files() if file.name.endswith('last.onnx')]\n",
    "    output_path = os.path.join(SAVEDIR, f'{model_name}.onnx')\n",
    "    if len(last_onnx_models) and not os.path.exists(output_path):\n",
    "        last_onnx_model = last_onnx_models[0]\n",
    "        last_onnx_model.download()\n",
    "        os.rename(last_onnx_model.name, output_path)\n",
    "        print(f'Saved {model_name} to {output_path}.')\n",
    "    else:\n",
    "        print(f'Skipping {model_name} because it\\'s already downloaded.')"
   ]
  },
  {
   "cell_type": "markdown",
   "metadata": {},
   "source": [
    "### Convert models to ONNX"
   ]
  },
  {
   "cell_type": "code",
   "execution_count": 6,
   "metadata": {},
   "outputs": [
    {
     "name": "stdout",
     "output_type": "stream",
     "text": [
      "Skipping steering model ebm-unregularized-v1 because it's already downloaded.\n",
      "Skipping energy model ebm-unregularized-v1 because it's already downloaded.\n",
      "Skipping steering model ebm-unregularized-v2 because it's already downloaded.\n",
      "Skipping energy model ebm-unregularized-v2 because it's already downloaded.\n",
      "Skipping steering model ebm-unregularized-v3 because it's already downloaded.\n",
      "Skipping energy model ebm-unregularized-v3 because it's already downloaded.\n",
      "Skipping steering model ebm-regularized-v1 because it's already downloaded.\n",
      "Skipping energy model ebm-regularized-v1 because it's already downloaded.\n",
      "Skipping steering model ebm-regularized-v2 because it's already downloaded.\n",
      "Skipping energy model ebm-regularized-v2 because it's already downloaded.\n",
      "Skipping steering model ebm-regularized-v3 because it's already downloaded.\n",
      "Skipping energy model ebm-regularized-v3 because it's already downloaded.\n",
      "/data/Bolt/dataset-new-small/summer2021/2021-05-28-15-19-48_e2e_sulaoja_20_30: length=10708, filtered=0\n",
      "/data/Bolt/dataset-new-small/summer2021/2021-06-07-14-20-07_e2e_rec_ss6: length=25836, filtered=1\n",
      "/data/Bolt/dataset-new-small/summer2021/2021-06-07-14-06-31_e2e_rec_ss6: length=3003, filtered=0\n",
      "/data/Bolt/dataset-new-small/summer2021/2021-06-07-14-09-18_e2e_rec_ss6: length=4551, filtered=1\n",
      "/data/Bolt/dataset-new-small/summer2021/2021-06-07-14-36-16_e2e_rec_ss6: length=25368, filtered=1\n",
      "/data/Bolt/dataset-new-small/summer2021/2021-09-24-14-03-45_e2e_rec_ss11_backwards: length=25172, filtered=0\n",
      "/data/Bolt/dataset-new-small/summer2021/2021-10-26-10-49-06_e2e_rec_ss20_elva: length=33045, filtered=0\n",
      "/data/Bolt/dataset-new-small/summer2021/2021-10-26-11-08-59_e2e_rec_ss20_elva_back: length=33281, filtered=0\n",
      "/data/Bolt/dataset-new-small/summer2021/2021-10-20-15-11-29_e2e_rec_vastse_ss13_17_back: length=26763, filtered=0\n",
      "/data/Bolt/dataset-new-small/summer2021/2021-10-11-14-50-59_e2e_rec_vahi: length=21211, filtered=2\n"
     ]
    },
    {
     "name": "stderr",
     "output_type": "stream",
     "text": [
      "WARNING:root:inference_samples is not equal to train_samples, which will likely cause poor performance when using constant samples\n"
     ]
    },
    {
     "name": "stdout",
     "output_type": "stream",
     "text": [
      "/data/Bolt/dataset-new-small/summer2021/2021-10-14-13-08-51_e2e_rec_vahi_backwards: length=13442, filtered=0\n"
     ]
    },
    {
     "name": "stderr",
     "output_type": "stream",
     "text": [
      "/home/nikita/e2e-driving/ibc/optimizers.py:120: UserWarning: __floordiv__ is deprecated, and its behavior will change in a future version of pytorch. It currently rounds toward 0 (like the 'trunc' function NOT 'floor'). This results in incorrect rounding for negative values. To keep the current behavior, use torch.div(a, b, rounding_mode='trunc'), or for actual floor division, use torch.div(a, b, rounding_mode='floor').\n",
      "  batch_size = num_samples // self.inference_samples\n",
      "/home/nikita/miniconda3/envs/e2e/lib/python3.9/site-packages/torch/onnx/symbolic_opset9.py:2905: UserWarning: Exporting aten::index operator of advanced indexing in opset 9 is achieved by combination of multiple ONNX operators, including Reshape, Transpose, Concat, and Gather. If indices include negative values, the exported graph will produce incorrect results.\n",
      "  warnings.warn(\"Exporting aten::index operator of advanced indexing in opset \" +\n"
     ]
    },
    {
     "name": "stdout",
     "output_type": "stream",
     "text": [
      "Converted steering model ebm-10%-v1 to ../_models/ebm-10%-v1.onnx.\n",
      "/data/Bolt/dataset-new-small/summer2021/2021-05-28-15-19-48_e2e_sulaoja_20_30: length=10708, filtered=0\n",
      "/data/Bolt/dataset-new-small/summer2021/2021-06-07-14-20-07_e2e_rec_ss6: length=25836, filtered=1\n",
      "/data/Bolt/dataset-new-small/summer2021/2021-06-07-14-06-31_e2e_rec_ss6: length=3003, filtered=0\n",
      "/data/Bolt/dataset-new-small/summer2021/2021-06-07-14-09-18_e2e_rec_ss6: length=4551, filtered=1\n",
      "/data/Bolt/dataset-new-small/summer2021/2021-06-07-14-36-16_e2e_rec_ss6: length=25368, filtered=1\n",
      "/data/Bolt/dataset-new-small/summer2021/2021-09-24-14-03-45_e2e_rec_ss11_backwards: length=25172, filtered=0\n",
      "/data/Bolt/dataset-new-small/summer2021/2021-10-26-10-49-06_e2e_rec_ss20_elva: length=33045, filtered=0\n",
      "/data/Bolt/dataset-new-small/summer2021/2021-10-26-11-08-59_e2e_rec_ss20_elva_back: length=33281, filtered=0\n",
      "/data/Bolt/dataset-new-small/summer2021/2021-10-20-15-11-29_e2e_rec_vastse_ss13_17_back: length=26763, filtered=0\n",
      "/data/Bolt/dataset-new-small/summer2021/2021-10-11-14-50-59_e2e_rec_vahi: length=21211, filtered=2\n",
      "/data/Bolt/dataset-new-small/summer2021/2021-10-14-13-08-51_e2e_rec_vahi_backwards: length=13442, filtered=0\n",
      "Converted energy model ebm-10%-v1 to ../_models/ebm-10%-v1-energy.onnx.\n"
     ]
    }
   ],
   "source": [
    "import sys\n",
    "import os\n",
    "sys.path.append('/home/nikita/e2e-driving/')\n",
    "\n",
    "from scripts.pt_to_onnx import convert_pt_to_onnx\n",
    "\n",
    "conf = {\n",
    "    'steering_bound': 4.5,\n",
    "    'use_constant_samples': True,\n",
    "}\n",
    "\n",
    "for model_name in models.keys():\n",
    "    if 'ebm' in model_name:\n",
    "        pt_model_path = os.path.join(SAVEDIR, f'{model_name}.pt')\n",
    "        onnx_steering_model_path = pt_model_path.replace('.pt', '.onnx')\n",
    "        onnx_energy_model_path = pt_model_path.replace('.pt', '-energy.onnx')\n",
    "\n",
    "        if not os.path.exists(onnx_steering_model_path):\n",
    "            steering_model_path = convert_pt_to_onnx(pt_model_path, 1, onnx_steering_model_path, with_choice=True, n_samples=1024, iters=0, args=conf)\n",
    "            print(f'Converted steering model {model_name} to {onnx_steering_model_path}.')\n",
    "        else:\n",
    "            print(f'Skipping steering model {model_name} because it\\'s already downloaded.')\n",
    "\n",
    "        if not os.path.exists(onnx_energy_model_path):\n",
    "            energy_model_path = convert_pt_to_onnx(pt_model_path, 256, onnx_energy_model_path, with_choice=False, n_samples=1024, iters=0, args=conf)\n",
    "            print(f'Converted energy model {model_name} to {onnx_energy_model_path}.')\n",
    "        else:\n",
    "            print(f'Skipping energy model {model_name} because it\\'s already downloaded.')\n"
   ]
  },
  {
   "cell_type": "markdown",
   "metadata": {},
   "source": [
    "### Now convert the MAE models to dynamic batch size on HPC"
   ]
  },
  {
   "cell_type": "markdown",
   "metadata": {},
   "source": []
  }
 ],
 "metadata": {
  "kernelspec": {
   "display_name": "Python 3.9.12 ('e2e')",
   "language": "python",
   "name": "python3"
  },
  "language_info": {
   "codemirror_mode": {
    "name": "ipython",
    "version": 3
   },
   "file_extension": ".py",
   "mimetype": "text/x-python",
   "name": "python",
   "nbconvert_exporter": "python",
   "pygments_lexer": "ipython3",
   "version": "3.9.12"
  },
  "orig_nbformat": 4,
  "vscode": {
   "interpreter": {
    "hash": "322c5c4facabdc6bcc8c78b7959ccdee3ccc8c0dc306e4585416789305ea23e7"
   }
  }
 },
 "nbformat": 4,
 "nbformat_minor": 2
}
