{
 "cells": [
  {
   "cell_type": "code",
   "execution_count": 4,
   "metadata": {},
   "outputs": [],
   "source": [
    "import os, sys\n",
    "import dotenv\n",
    "dotenv.load_dotenv('../.env')\n",
    "\n",
    "import numpy as np\n",
    "import torch\n",
    "import pandas as pd\n",
    "from scipy.stats import kendalltau, pearsonr, spearmanr\n",
    "import pandas as pd\n",
    "from torchvision import transforms\n",
    "\n",
    "import wandb\n",
    "from collections import defaultdict\n",
    "import json\n",
    "from pathlib import Path\n",
    "from tqdm import tqdm\n",
    "from copy import deepcopy\n",
    "import warnings\n",
    "import matplotlib.pyplot as plt\n",
    "import time\n",
    "\n",
    "sys.path.append('../')\n",
    "from common import OnnxModel, BOLT_DIR\n",
    "from metrics.metrics import calculate_open_loop_metrics, calculate_closed_loop_metrics\n",
    "from dataloading.nvidia import NvidiaElvaDataset, NvidiaDataset\n",
    "\n",
    "WANDB_ENTITY = os.getenv('WANDB_ENTITY')\n",
    "WANDB_PROJECT = os.getenv('WANDB_PROJECT')"
   ]
  },
  {
   "cell_type": "code",
   "execution_count": 3,
   "metadata": {},
   "outputs": [
    {
     "data": {
      "text/html": [
       "<div>\n",
       "<style scoped>\n",
       "    .dataframe tbody tr th:only-of-type {\n",
       "        vertical-align: middle;\n",
       "    }\n",
       "\n",
       "    .dataframe tbody tr th {\n",
       "        vertical-align: top;\n",
       "    }\n",
       "\n",
       "    .dataframe thead th {\n",
       "        text-align: right;\n",
       "    }\n",
       "</style>\n",
       "<table border=\"1\" class=\"dataframe\">\n",
       "  <thead>\n",
       "    <tr style=\"text-align: right;\">\n",
       "      <th></th>\n",
       "      <th>training_run</th>\n",
       "      <th>model_name</th>\n",
       "      <th>real_interventions</th>\n",
       "      <th>drive</th>\n",
       "      <th>elva_mae</th>\n",
       "      <th>elva_whiteness</th>\n",
       "      <th>elva_expert_whiteness</th>\n",
       "      <th>val_mae</th>\n",
       "      <th>model_type</th>\n",
       "      <th>traj_mae</th>\n",
       "      <th>traj_rmse</th>\n",
       "      <th>traj_max</th>\n",
       "      <th>traj_failure_rate</th>\n",
       "      <th>distance</th>\n",
       "      <th>distance_per_intervention</th>\n",
       "      <th>whiteness</th>\n",
       "      <th>cmd_whiteness</th>\n",
       "      <th>expert_whiteness</th>\n",
       "    </tr>\n",
       "  </thead>\n",
       "  <tbody>\n",
       "    <tr>\n",
       "      <th>0</th>\n",
       "      <td>3ftnqxcb</td>\n",
       "      <td>ebm-512-s1</td>\n",
       "      <td>4</td>\n",
       "      <td>[ebm-paper-ebm-512-s1-forward_2022-09-21-10-51...</td>\n",
       "      <td>7.487386</td>\n",
       "      <td>191.060638</td>\n",
       "      <td>17.679368</td>\n",
       "      <td>8.607146</td>\n",
       "      <td>pilotnet-ebm</td>\n",
       "      <td>0.502133</td>\n",
       "      <td>0.617828</td>\n",
       "      <td>1.716365</td>\n",
       "      <td>10.592712</td>\n",
       "      <td>8479.229138</td>\n",
       "      <td>2119.807285</td>\n",
       "      <td>35.247937</td>\n",
       "      <td>176.928088</td>\n",
       "      <td>17.655094</td>\n",
       "    </tr>\n",
       "    <tr>\n",
       "      <th>1</th>\n",
       "      <td>3ftnqxcb</td>\n",
       "      <td>ebm-512-s1</td>\n",
       "      <td>1</td>\n",
       "      <td>[ebm-paper-ebm-512-s1-forward_2022-09-22-11-02...</td>\n",
       "      <td>7.487386</td>\n",
       "      <td>191.060638</td>\n",
       "      <td>17.679368</td>\n",
       "      <td>8.607146</td>\n",
       "      <td>pilotnet-ebm</td>\n",
       "      <td>0.449918</td>\n",
       "      <td>0.564381</td>\n",
       "      <td>1.713574</td>\n",
       "      <td>8.773010</td>\n",
       "      <td>8535.219556</td>\n",
       "      <td>8535.219556</td>\n",
       "      <td>32.340420</td>\n",
       "      <td>96.937671</td>\n",
       "      <td>17.655094</td>\n",
       "    </tr>\n",
       "    <tr>\n",
       "      <th>2</th>\n",
       "      <td>3ftnqxcb</td>\n",
       "      <td>ebm-512-s1</td>\n",
       "      <td>2</td>\n",
       "      <td>[ebm-paper-ebm-512-s1-forward_2022-09-23-11-18...</td>\n",
       "      <td>7.487386</td>\n",
       "      <td>191.060638</td>\n",
       "      <td>17.679368</td>\n",
       "      <td>8.607146</td>\n",
       "      <td>pilotnet-ebm</td>\n",
       "      <td>0.482874</td>\n",
       "      <td>0.592681</td>\n",
       "      <td>1.718401</td>\n",
       "      <td>9.072609</td>\n",
       "      <td>8519.657455</td>\n",
       "      <td>4259.828728</td>\n",
       "      <td>28.570325</td>\n",
       "      <td>223.588494</td>\n",
       "      <td>17.655094</td>\n",
       "    </tr>\n",
       "    <tr>\n",
       "      <th>3</th>\n",
       "      <td>3jk7cnqa</td>\n",
       "      <td>ebm-normal-1-s1</td>\n",
       "      <td>5</td>\n",
       "      <td>[e2e-ebm-normal-1-s1-day1-forward_2022-09-20-1...</td>\n",
       "      <td>6.974703</td>\n",
       "      <td>152.191879</td>\n",
       "      <td>17.679368</td>\n",
       "      <td>8.437540</td>\n",
       "      <td>pilotnet-ebm</td>\n",
       "      <td>0.412358</td>\n",
       "      <td>0.524989</td>\n",
       "      <td>1.721364</td>\n",
       "      <td>5.836352</td>\n",
       "      <td>8473.096473</td>\n",
       "      <td>1694.619295</td>\n",
       "      <td>49.922412</td>\n",
       "      <td>119.390706</td>\n",
       "      <td>17.655094</td>\n",
       "    </tr>\n",
       "    <tr>\n",
       "      <th>4</th>\n",
       "      <td>3jk7cnqa</td>\n",
       "      <td>ebm-normal-1-s1</td>\n",
       "      <td>2</td>\n",
       "      <td>[ebm-paper-ebm-normal-1-s1-forward_2022-09-22-...</td>\n",
       "      <td>6.974703</td>\n",
       "      <td>152.191879</td>\n",
       "      <td>17.679368</td>\n",
       "      <td>8.437540</td>\n",
       "      <td>pilotnet-ebm</td>\n",
       "      <td>0.407956</td>\n",
       "      <td>0.512668</td>\n",
       "      <td>1.708277</td>\n",
       "      <td>5.597071</td>\n",
       "      <td>8473.696547</td>\n",
       "      <td>4236.848274</td>\n",
       "      <td>38.956632</td>\n",
       "      <td>137.220901</td>\n",
       "      <td>17.655094</td>\n",
       "    </tr>\n",
       "    <tr>\n",
       "      <th>5</th>\n",
       "      <td>3jk7cnqa</td>\n",
       "      <td>ebm-normal-1-s1</td>\n",
       "      <td>3</td>\n",
       "      <td>[ebm-paper-ebm-normal-1-s1-forward_2022-09-23-...</td>\n",
       "      <td>6.974703</td>\n",
       "      <td>152.191879</td>\n",
       "      <td>17.679368</td>\n",
       "      <td>8.437540</td>\n",
       "      <td>pilotnet-ebm</td>\n",
       "      <td>0.447816</td>\n",
       "      <td>0.552821</td>\n",
       "      <td>1.596786</td>\n",
       "      <td>7.919993</td>\n",
       "      <td>8520.976775</td>\n",
       "      <td>2840.325592</td>\n",
       "      <td>34.206305</td>\n",
       "      <td>77.275104</td>\n",
       "      <td>17.655094</td>\n",
       "    </tr>\n",
       "    <tr>\n",
       "      <th>6</th>\n",
       "      <td>2jvl4yhn</td>\n",
       "      <td>ebm-spatial-0-s2</td>\n",
       "      <td>5</td>\n",
       "      <td>[e2e-ebm-spatial-0-s2-day1-forward_2022-09-20-...</td>\n",
       "      <td>6.909929</td>\n",
       "      <td>125.816818</td>\n",
       "      <td>17.679368</td>\n",
       "      <td>8.738031</td>\n",
       "      <td>pilotnet-ebm</td>\n",
       "      <td>0.436406</td>\n",
       "      <td>0.548320</td>\n",
       "      <td>1.640132</td>\n",
       "      <td>6.909590</td>\n",
       "      <td>8444.219201</td>\n",
       "      <td>1688.843840</td>\n",
       "      <td>27.796907</td>\n",
       "      <td>56.328374</td>\n",
       "      <td>17.655094</td>\n",
       "    </tr>\n",
       "    <tr>\n",
       "      <th>7</th>\n",
       "      <td>2jvl4yhn</td>\n",
       "      <td>ebm-spatial-0-s2</td>\n",
       "      <td>5</td>\n",
       "      <td>[ebm-paper-ebm-spatial-0-s2-forward_2022-09-21...</td>\n",
       "      <td>6.909929</td>\n",
       "      <td>125.816818</td>\n",
       "      <td>17.679368</td>\n",
       "      <td>8.738031</td>\n",
       "      <td>pilotnet-ebm</td>\n",
       "      <td>0.442618</td>\n",
       "      <td>0.559457</td>\n",
       "      <td>1.509779</td>\n",
       "      <td>8.546063</td>\n",
       "      <td>8442.245854</td>\n",
       "      <td>1688.449171</td>\n",
       "      <td>46.829478</td>\n",
       "      <td>57.148334</td>\n",
       "      <td>17.655094</td>\n",
       "    </tr>\n",
       "    <tr>\n",
       "      <th>8</th>\n",
       "      <td>2jvl4yhn</td>\n",
       "      <td>ebm-spatial-0-s2</td>\n",
       "      <td>4</td>\n",
       "      <td>[ebm-paper-ebm-spatial-0-s2-forward_2022-09-23...</td>\n",
       "      <td>6.909929</td>\n",
       "      <td>125.816818</td>\n",
       "      <td>17.679368</td>\n",
       "      <td>8.738031</td>\n",
       "      <td>pilotnet-ebm</td>\n",
       "      <td>0.464354</td>\n",
       "      <td>0.583141</td>\n",
       "      <td>1.689208</td>\n",
       "      <td>8.905860</td>\n",
       "      <td>8466.304693</td>\n",
       "      <td>2116.576173</td>\n",
       "      <td>33.723343</td>\n",
       "      <td>56.861922</td>\n",
       "      <td>17.655094</td>\n",
       "    </tr>\n",
       "    <tr>\n",
       "      <th>9</th>\n",
       "      <td>bxd5wtqk</td>\n",
       "      <td>mae-s2</td>\n",
       "      <td>2</td>\n",
       "      <td>[e2e-mae-s2-day1-forward_2022-09-20-11-25-14, ...</td>\n",
       "      <td>7.196932</td>\n",
       "      <td>54.846653</td>\n",
       "      <td>17.679368</td>\n",
       "      <td>7.828012</td>\n",
       "      <td>pilotnet</td>\n",
       "      <td>0.400974</td>\n",
       "      <td>0.504417</td>\n",
       "      <td>1.597662</td>\n",
       "      <td>5.848605</td>\n",
       "      <td>8516.510890</td>\n",
       "      <td>4258.255445</td>\n",
       "      <td>26.690530</td>\n",
       "      <td>37.836591</td>\n",
       "      <td>17.655094</td>\n",
       "    </tr>\n",
       "    <tr>\n",
       "      <th>10</th>\n",
       "      <td>bxd5wtqk</td>\n",
       "      <td>mae-s2</td>\n",
       "      <td>2</td>\n",
       "      <td>[ebm-paper-mae-s2-forward_2022-09-21-12-22-57,...</td>\n",
       "      <td>7.196932</td>\n",
       "      <td>54.846653</td>\n",
       "      <td>17.679368</td>\n",
       "      <td>7.828012</td>\n",
       "      <td>pilotnet</td>\n",
       "      <td>0.444160</td>\n",
       "      <td>0.550030</td>\n",
       "      <td>1.700503</td>\n",
       "      <td>6.200212</td>\n",
       "      <td>8558.516801</td>\n",
       "      <td>4279.258400</td>\n",
       "      <td>29.645191</td>\n",
       "      <td>75.343871</td>\n",
       "      <td>17.655094</td>\n",
       "    </tr>\n",
       "    <tr>\n",
       "      <th>11</th>\n",
       "      <td>bxd5wtqk</td>\n",
       "      <td>mae-s2</td>\n",
       "      <td>1</td>\n",
       "      <td>[ebm-paper-mae-s2-forward_2022-09-23-10-31-24,...</td>\n",
       "      <td>7.196932</td>\n",
       "      <td>54.846653</td>\n",
       "      <td>17.679368</td>\n",
       "      <td>7.828012</td>\n",
       "      <td>pilotnet</td>\n",
       "      <td>0.440934</td>\n",
       "      <td>0.540331</td>\n",
       "      <td>1.559173</td>\n",
       "      <td>5.361873</td>\n",
       "      <td>8566.365133</td>\n",
       "      <td>8566.365133</td>\n",
       "      <td>26.277066</td>\n",
       "      <td>33.102612</td>\n",
       "      <td>17.655094</td>\n",
       "    </tr>\n",
       "    <tr>\n",
       "      <th>12</th>\n",
       "      <td>3g3wwx73</td>\n",
       "      <td>classifier-512</td>\n",
       "      <td>1</td>\n",
       "      <td>[ebm-paper-classifier-512-forward_2022-09-21-1...</td>\n",
       "      <td>8.117841</td>\n",
       "      <td>208.457916</td>\n",
       "      <td>17.679368</td>\n",
       "      <td>9.925803</td>\n",
       "      <td>pilotnet-classifier</td>\n",
       "      <td>0.394003</td>\n",
       "      <td>0.498311</td>\n",
       "      <td>1.721310</td>\n",
       "      <td>4.982657</td>\n",
       "      <td>8506.076813</td>\n",
       "      <td>8506.076813</td>\n",
       "      <td>41.047364</td>\n",
       "      <td>182.392543</td>\n",
       "      <td>17.655094</td>\n",
       "    </tr>\n",
       "    <tr>\n",
       "      <th>13</th>\n",
       "      <td>3g3wwx73</td>\n",
       "      <td>classifier-512</td>\n",
       "      <td>7</td>\n",
       "      <td>[ebm-paper-classifier-512-forward_2022-09-22-1...</td>\n",
       "      <td>8.117841</td>\n",
       "      <td>208.457916</td>\n",
       "      <td>17.679368</td>\n",
       "      <td>9.925803</td>\n",
       "      <td>pilotnet-classifier</td>\n",
       "      <td>0.473865</td>\n",
       "      <td>0.589811</td>\n",
       "      <td>1.606098</td>\n",
       "      <td>9.690126</td>\n",
       "      <td>8453.523026</td>\n",
       "      <td>1207.646147</td>\n",
       "      <td>62.167397</td>\n",
       "      <td>287.140884</td>\n",
       "      <td>17.655094</td>\n",
       "    </tr>\n",
       "    <tr>\n",
       "      <th>14</th>\n",
       "      <td>3g3wwx73</td>\n",
       "      <td>classifier-512</td>\n",
       "      <td>1</td>\n",
       "      <td>[ebm-paper-classifier-512-forward_2022-09-23-1...</td>\n",
       "      <td>8.117841</td>\n",
       "      <td>208.457916</td>\n",
       "      <td>17.679368</td>\n",
       "      <td>9.925803</td>\n",
       "      <td>pilotnet-classifier</td>\n",
       "      <td>0.424417</td>\n",
       "      <td>0.527431</td>\n",
       "      <td>1.715849</td>\n",
       "      <td>5.548120</td>\n",
       "      <td>8560.665268</td>\n",
       "      <td>8560.665268</td>\n",
       "      <td>34.107032</td>\n",
       "      <td>162.274624</td>\n",
       "      <td>17.655094</td>\n",
       "    </tr>\n",
       "    <tr>\n",
       "      <th>15</th>\n",
       "      <td>1hbbr6dm</td>\n",
       "      <td>mdn-5-s1</td>\n",
       "      <td>1</td>\n",
       "      <td>[ebm-paper-mdn-5-s1-forward_2022-09-21-10-29-0...</td>\n",
       "      <td>6.734990</td>\n",
       "      <td>74.416840</td>\n",
       "      <td>17.679368</td>\n",
       "      <td>9.070600</td>\n",
       "      <td>pilotnet-mdn</td>\n",
       "      <td>0.427198</td>\n",
       "      <td>0.531700</td>\n",
       "      <td>1.718781</td>\n",
       "      <td>4.938918</td>\n",
       "      <td>8517.875823</td>\n",
       "      <td>8517.875823</td>\n",
       "      <td>25.315615</td>\n",
       "      <td>33.621627</td>\n",
       "      <td>17.655094</td>\n",
       "    </tr>\n",
       "    <tr>\n",
       "      <th>16</th>\n",
       "      <td>1hbbr6dm</td>\n",
       "      <td>mdn-5-s1</td>\n",
       "      <td>5</td>\n",
       "      <td>[ebm-paper-mdn-5-s1-forward_2022-09-22-10-38-1...</td>\n",
       "      <td>6.734990</td>\n",
       "      <td>74.416840</td>\n",
       "      <td>17.679368</td>\n",
       "      <td>9.070600</td>\n",
       "      <td>pilotnet-mdn</td>\n",
       "      <td>0.406217</td>\n",
       "      <td>0.518859</td>\n",
       "      <td>1.640880</td>\n",
       "      <td>5.782046</td>\n",
       "      <td>8417.548265</td>\n",
       "      <td>1683.509653</td>\n",
       "      <td>24.819459</td>\n",
       "      <td>35.460870</td>\n",
       "      <td>17.655094</td>\n",
       "    </tr>\n",
       "    <tr>\n",
       "      <th>17</th>\n",
       "      <td>1hbbr6dm</td>\n",
       "      <td>mdn-5-s1</td>\n",
       "      <td>5</td>\n",
       "      <td>[ebm-paper-mdn-5-s1-forward_2022-09-23-10-55-2...</td>\n",
       "      <td>6.734990</td>\n",
       "      <td>74.416840</td>\n",
       "      <td>17.679368</td>\n",
       "      <td>9.070600</td>\n",
       "      <td>pilotnet-mdn</td>\n",
       "      <td>0.466654</td>\n",
       "      <td>0.576458</td>\n",
       "      <td>1.721694</td>\n",
       "      <td>8.932255</td>\n",
       "      <td>8433.066474</td>\n",
       "      <td>1686.613295</td>\n",
       "      <td>26.663340</td>\n",
       "      <td>37.388061</td>\n",
       "      <td>17.655094</td>\n",
       "    </tr>\n",
       "  </tbody>\n",
       "</table>\n",
       "</div>"
      ],
      "text/plain": [
       "   training_run        model_name  real_interventions  \\\n",
       "0      3ftnqxcb        ebm-512-s1                   4   \n",
       "1      3ftnqxcb        ebm-512-s1                   1   \n",
       "2      3ftnqxcb        ebm-512-s1                   2   \n",
       "3      3jk7cnqa   ebm-normal-1-s1                   5   \n",
       "4      3jk7cnqa   ebm-normal-1-s1                   2   \n",
       "5      3jk7cnqa   ebm-normal-1-s1                   3   \n",
       "6      2jvl4yhn  ebm-spatial-0-s2                   5   \n",
       "7      2jvl4yhn  ebm-spatial-0-s2                   5   \n",
       "8      2jvl4yhn  ebm-spatial-0-s2                   4   \n",
       "9      bxd5wtqk            mae-s2                   2   \n",
       "10     bxd5wtqk            mae-s2                   2   \n",
       "11     bxd5wtqk            mae-s2                   1   \n",
       "12     3g3wwx73    classifier-512                   1   \n",
       "13     3g3wwx73    classifier-512                   7   \n",
       "14     3g3wwx73    classifier-512                   1   \n",
       "15     1hbbr6dm          mdn-5-s1                   1   \n",
       "16     1hbbr6dm          mdn-5-s1                   5   \n",
       "17     1hbbr6dm          mdn-5-s1                   5   \n",
       "\n",
       "                                                drive  elva_mae  \\\n",
       "0   [ebm-paper-ebm-512-s1-forward_2022-09-21-10-51...  7.487386   \n",
       "1   [ebm-paper-ebm-512-s1-forward_2022-09-22-11-02...  7.487386   \n",
       "2   [ebm-paper-ebm-512-s1-forward_2022-09-23-11-18...  7.487386   \n",
       "3   [e2e-ebm-normal-1-s1-day1-forward_2022-09-20-1...  6.974703   \n",
       "4   [ebm-paper-ebm-normal-1-s1-forward_2022-09-22-...  6.974703   \n",
       "5   [ebm-paper-ebm-normal-1-s1-forward_2022-09-23-...  6.974703   \n",
       "6   [e2e-ebm-spatial-0-s2-day1-forward_2022-09-20-...  6.909929   \n",
       "7   [ebm-paper-ebm-spatial-0-s2-forward_2022-09-21...  6.909929   \n",
       "8   [ebm-paper-ebm-spatial-0-s2-forward_2022-09-23...  6.909929   \n",
       "9   [e2e-mae-s2-day1-forward_2022-09-20-11-25-14, ...  7.196932   \n",
       "10  [ebm-paper-mae-s2-forward_2022-09-21-12-22-57,...  7.196932   \n",
       "11  [ebm-paper-mae-s2-forward_2022-09-23-10-31-24,...  7.196932   \n",
       "12  [ebm-paper-classifier-512-forward_2022-09-21-1...  8.117841   \n",
       "13  [ebm-paper-classifier-512-forward_2022-09-22-1...  8.117841   \n",
       "14  [ebm-paper-classifier-512-forward_2022-09-23-1...  8.117841   \n",
       "15  [ebm-paper-mdn-5-s1-forward_2022-09-21-10-29-0...  6.734990   \n",
       "16  [ebm-paper-mdn-5-s1-forward_2022-09-22-10-38-1...  6.734990   \n",
       "17  [ebm-paper-mdn-5-s1-forward_2022-09-23-10-55-2...  6.734990   \n",
       "\n",
       "    elva_whiteness  elva_expert_whiteness   val_mae           model_type  \\\n",
       "0       191.060638              17.679368  8.607146         pilotnet-ebm   \n",
       "1       191.060638              17.679368  8.607146         pilotnet-ebm   \n",
       "2       191.060638              17.679368  8.607146         pilotnet-ebm   \n",
       "3       152.191879              17.679368  8.437540         pilotnet-ebm   \n",
       "4       152.191879              17.679368  8.437540         pilotnet-ebm   \n",
       "5       152.191879              17.679368  8.437540         pilotnet-ebm   \n",
       "6       125.816818              17.679368  8.738031         pilotnet-ebm   \n",
       "7       125.816818              17.679368  8.738031         pilotnet-ebm   \n",
       "8       125.816818              17.679368  8.738031         pilotnet-ebm   \n",
       "9        54.846653              17.679368  7.828012             pilotnet   \n",
       "10       54.846653              17.679368  7.828012             pilotnet   \n",
       "11       54.846653              17.679368  7.828012             pilotnet   \n",
       "12      208.457916              17.679368  9.925803  pilotnet-classifier   \n",
       "13      208.457916              17.679368  9.925803  pilotnet-classifier   \n",
       "14      208.457916              17.679368  9.925803  pilotnet-classifier   \n",
       "15       74.416840              17.679368  9.070600         pilotnet-mdn   \n",
       "16       74.416840              17.679368  9.070600         pilotnet-mdn   \n",
       "17       74.416840              17.679368  9.070600         pilotnet-mdn   \n",
       "\n",
       "    traj_mae  traj_rmse  traj_max  traj_failure_rate     distance  \\\n",
       "0   0.502133   0.617828  1.716365          10.592712  8479.229138   \n",
       "1   0.449918   0.564381  1.713574           8.773010  8535.219556   \n",
       "2   0.482874   0.592681  1.718401           9.072609  8519.657455   \n",
       "3   0.412358   0.524989  1.721364           5.836352  8473.096473   \n",
       "4   0.407956   0.512668  1.708277           5.597071  8473.696547   \n",
       "5   0.447816   0.552821  1.596786           7.919993  8520.976775   \n",
       "6   0.436406   0.548320  1.640132           6.909590  8444.219201   \n",
       "7   0.442618   0.559457  1.509779           8.546063  8442.245854   \n",
       "8   0.464354   0.583141  1.689208           8.905860  8466.304693   \n",
       "9   0.400974   0.504417  1.597662           5.848605  8516.510890   \n",
       "10  0.444160   0.550030  1.700503           6.200212  8558.516801   \n",
       "11  0.440934   0.540331  1.559173           5.361873  8566.365133   \n",
       "12  0.394003   0.498311  1.721310           4.982657  8506.076813   \n",
       "13  0.473865   0.589811  1.606098           9.690126  8453.523026   \n",
       "14  0.424417   0.527431  1.715849           5.548120  8560.665268   \n",
       "15  0.427198   0.531700  1.718781           4.938918  8517.875823   \n",
       "16  0.406217   0.518859  1.640880           5.782046  8417.548265   \n",
       "17  0.466654   0.576458  1.721694           8.932255  8433.066474   \n",
       "\n",
       "    distance_per_intervention  whiteness  cmd_whiteness  expert_whiteness  \n",
       "0                 2119.807285  35.247937     176.928088         17.655094  \n",
       "1                 8535.219556  32.340420      96.937671         17.655094  \n",
       "2                 4259.828728  28.570325     223.588494         17.655094  \n",
       "3                 1694.619295  49.922412     119.390706         17.655094  \n",
       "4                 4236.848274  38.956632     137.220901         17.655094  \n",
       "5                 2840.325592  34.206305      77.275104         17.655094  \n",
       "6                 1688.843840  27.796907      56.328374         17.655094  \n",
       "7                 1688.449171  46.829478      57.148334         17.655094  \n",
       "8                 2116.576173  33.723343      56.861922         17.655094  \n",
       "9                 4258.255445  26.690530      37.836591         17.655094  \n",
       "10                4279.258400  29.645191      75.343871         17.655094  \n",
       "11                8566.365133  26.277066      33.102612         17.655094  \n",
       "12                8506.076813  41.047364     182.392543         17.655094  \n",
       "13                1207.646147  62.167397     287.140884         17.655094  \n",
       "14                8560.665268  34.107032     162.274624         17.655094  \n",
       "15                8517.875823  25.315615      33.621627         17.655094  \n",
       "16                1683.509653  24.819459      35.460870         17.655094  \n",
       "17                1686.613295  26.663340      37.388061         17.655094  "
      ]
     },
     "execution_count": 3,
     "metadata": {},
     "output_type": "execute_result"
    }
   ],
   "source": [
    "df = pd.read_csv('results/ebm-experiments-final-results.csv')\n",
    "# convert str to tuple\n",
    "df['drive'] = df['drive'].apply(lambda x: tuple(x[1:-1].replace('\\'', '').split(',')))\n",
    "df['drive'] = df['drive'].apply(lambda x: [i.strip() for i in x if i != ''])\n",
    "df"
   ]
  },
  {
   "cell_type": "code",
   "execution_count": 5,
   "metadata": {},
   "outputs": [],
   "source": [
    "def smoothed_steering_angle(curr_eff_steering_angle, new_cmd_steering_angle, alpha=0.1):\n",
    "    return alpha * new_cmd_steering_angle + (1 - alpha) * curr_eff_steering_angle"
   ]
  },
  {
   "cell_type": "code",
   "execution_count": 10,
   "metadata": {},
   "outputs": [],
   "source": [
    "import math\n",
    "from torch.utils.data import DataLoader\n",
    "\n",
    "root_path = Path(BOLT_DIR) / 'end-to-end/drives-ebm-paper'\n",
    "\n",
    "class DynamicsDataset(torch.utils.data.IterableDataset):\n",
    "    def __init__(self, nvidia_datasets, seq_len=2*30):\n",
    "        self.datasets = nvidia_datasets\n",
    "        self.seq_len = seq_len\n",
    "\n",
    "        for i, ds in enumerate(self.datasets):\n",
    "            ds.frames = ds.frames[ds.frames['autonomous'] == True]\n",
    "            ds.frames = ds.frames.loc[:, ['steering_angle', 'cmd_steering_angle']]\n",
    "            ds.frames['cmd_steering_angle'] = ds.frames['cmd_steering_angle'] * 14.7\n",
    "\n",
    "            # we want to predict a_eff[t] using a_eff[0:t-1] and a_cmd[1:t],\n",
    "            # where len(a_eff[0:t-1]) == len(a_cmd[1:t])\n",
    "            ds.frames['cmd_steering_angle'] = ds.frames['cmd_steering_angle'].shift(-1) \n",
    "\n",
    "            # don't drop last row, because we can still use it as a_eff[t]\n",
    "            # ds.frames.dropna(inplace=True)\n",
    "    \n",
    "    def __len__(self):\n",
    "        return math.ceil(sum([len(ds.frames) for ds in self.datasets]) / self.seq_len)\n",
    "    \n",
    "    def __iter__(self):\n",
    "        for ds in self.datasets:\n",
    "            for i in range(0, len(ds.frames), self.seq_len):\n",
    "                frames = ds.frames[i:i+self.seq_len]\n",
    "                cmd = frames['cmd_steering_angle'].values\n",
    "                eff = frames['steering_angle'].values\n",
    "\n",
    "                if len(cmd) < self.seq_len:\n",
    "                    continue\n",
    "\n",
    "                yield cmd, eff\n",
    "\n",
    "def make_dataset(experiments_df):\n",
    "    experiments_df['run_id'] = experiments_df.index\n",
    "    val_runs_df = experiments_df.groupby('model_name').last().reset_index()\n",
    "    train_runs_df = experiments_df[~experiments_df['run_id'].isin(val_runs_df['run_id'])]\n",
    "\n",
    "    train_drives = sum(train_runs_df['drive'].values, [])\n",
    "    val_drives = sum(val_runs_df['drive'].values, [])\n",
    "\n",
    "    train_nvidia_ds_list = [NvidiaDataset([root_path / drive]) for drive in train_drives]\n",
    "    val_nvidia_ds_list = [NvidiaDataset([root_path / drive]) for drive in val_drives]\n",
    "    train_ds = DynamicsDataset(train_nvidia_ds_list)\n",
    "    val_ds = DynamicsDataset(val_nvidia_ds_list)\n",
    "\n",
    "    return train_ds, val_ds    "
   ]
  },
  {
   "cell_type": "code",
   "execution_count": 7,
   "metadata": {},
   "outputs": [],
   "source": [
    "device = torch.device('cuda' if torch.cuda.is_available() else 'cpu')\n",
    "import torch.nn.functional as F\n",
    "\n",
    "class DynamicsGRU(torch.nn.Module):\n",
    "    def __init__(self, hidden_size, num_layers=1):\n",
    "        super().__init__()\n",
    "        self.hidden_size = hidden_size\n",
    "        self.num_layers = num_layers\n",
    "        self.gru = torch.nn.GRU(2, hidden_size, num_layers, batch_first=False)\n",
    "        self.fc_out = torch.nn.Linear(hidden_size, 1)\n",
    "    \n",
    "    def forward(self, x, y, h0=None, return_hidden=False, teacher_forcing=True):\n",
    "        # reorder x from (batch_size, seq_len) to (seq_len, batch_size)\n",
    "        x = x.permute(1, 0)\n",
    "        y = y.permute(1, 0)\n",
    "\n",
    "        # add feature dimension\n",
    "        x = x.unsqueeze(2) \n",
    "        y = y.unsqueeze(2)\n",
    "\n",
    "        seq_len, batch_size, _ = x.shape\n",
    "\n",
    "        if h0 is None:\n",
    "            h0 = torch.zeros(self.num_layers, batch_size, self.hidden_size).to(device)\n",
    "\n",
    "        if teacher_forcing:\n",
    "            x_y = torch.cat([x, y], dim=2) # (seq_len, batch_size, 2)\n",
    "            out, h_out = self.gru(x_y, h0) # outs: (seq_len, batch_size, hidden_size)\n",
    "            out = self.fc_out(out.reshape(-1, self.hidden_size))\n",
    "            out = out.reshape(seq_len, batch_size).permute(1, 0)\n",
    "\n",
    "        elif not teacher_forcing:\n",
    "            # this one will have an explicit loop\n",
    "            # and will be slower\n",
    "            # but it should learn to recover from its mistakes\n",
    "            preds = torch.zeros(seq_len+1, batch_size, 1).to(device)\n",
    "            preds[0] = x[0] # initialize with first command\n",
    "            hidden = h0\n",
    "            for i in range(seq_len):\n",
    "                x_y = torch.cat([x[i:i+1, :], preds[i:i+1, :]], dim=2)\n",
    "                # print('x_y.shape', x_y.shape)\n",
    "                out, hidden = self.gru(x_y, hidden)\n",
    "                # torch.testing.assert_allclose(out, hidden)\n",
    "                preds[i+1] = self.fc_out(out)\n",
    "            out = preds[1:].squeeze(2).permute(1, 0)\n",
    "            \n",
    "        if return_hidden:\n",
    "            return out, h_out\n",
    "        return out"
   ]
  },
  {
   "cell_type": "code",
   "execution_count": 11,
   "metadata": {},
   "outputs": [
    {
     "name": "stdout",
     "output_type": "stream",
     "text": [
      "[NvidiaDataset] Using default transform: Compose(\n",
      "    <dataloading.nvidia.Normalize object at 0x7faa4a881070>\n",
      ")\n",
      "/data/Bolt/end-to-end/drives-ebm-paper/ebm-paper-ebm-512-s1-forward_2022-09-21-10-51-39: length=17873, filtered=0\n",
      "[NvidiaDataset] Using default transform: Compose(\n",
      "    <dataloading.nvidia.Normalize object at 0x7faa4a881610>\n",
      ")\n",
      "/data/Bolt/end-to-end/drives-ebm-paper/ebm-paper-ebm-512-s1-backward_2022-09-21-11-02-14: length=18309, filtered=0\n",
      "[NvidiaDataset] Using default transform: Compose(\n",
      "    <dataloading.nvidia.Normalize object at 0x7faa4a881c70>\n",
      ")\n",
      "/data/Bolt/end-to-end/drives-ebm-paper/ebm-paper-ebm-512-s1-forward_2022-09-22-11-02-58: length=17899, filtered=0\n",
      "[NvidiaDataset] Using default transform: Compose(\n",
      "    <dataloading.nvidia.Normalize object at 0x7faa4a881940>\n",
      ")\n",
      "/data/Bolt/end-to-end/drives-ebm-paper/ebm-paper-ebm-512-s1-backward_2022-09-22-11-13-52: length=18671, filtered=0\n",
      "[NvidiaDataset] Using default transform: Compose(\n",
      "    <dataloading.nvidia.Normalize object at 0x7faa4a90b460>\n",
      ")\n",
      "/data/Bolt/end-to-end/drives-ebm-paper/e2e-ebm-normal-1-s1-day1-forward_2022-09-20-13-37-56: length=18183, filtered=0\n",
      "[NvidiaDataset] Using default transform: Compose(\n",
      "    <dataloading.nvidia.Normalize object at 0x7faa4a90aa30>\n",
      ")\n",
      "/data/Bolt/end-to-end/drives-ebm-paper/e2e-ebm-normal-1-s1-day1-backward_2022-09-20-13-48-42: length=18696, filtered=0\n",
      "[NvidiaDataset] Using default transform: Compose(\n",
      "    <dataloading.nvidia.Normalize object at 0x7faa4a90a9d0>\n",
      ")\n",
      "/data/Bolt/end-to-end/drives-ebm-paper/ebm-paper-ebm-normal-1-s1-forward_2022-09-22-12-15-22: length=17960, filtered=0\n",
      "[NvidiaDataset] Using default transform: Compose(\n",
      "    <dataloading.nvidia.Normalize object at 0x7faa4a90d3a0>\n",
      ")\n",
      "/data/Bolt/end-to-end/drives-ebm-paper/ebm-paper-ebm-normal-1-s1-backward_2022-09-22-12-25-57: length=19279, filtered=0\n",
      "[NvidiaDataset] Using default transform: Compose(\n",
      "    <dataloading.nvidia.Normalize object at 0x7faa4a966e80>\n",
      ")\n",
      "/data/Bolt/end-to-end/drives-ebm-paper/e2e-ebm-spatial-0-s2-day1-forward_2022-09-20-12-44-32: length=17939, filtered=0\n",
      "[NvidiaDataset] Using default transform: Compose(\n",
      "    <dataloading.nvidia.Normalize object at 0x7faa4fe4cac0>\n",
      ")\n",
      "/data/Bolt/end-to-end/drives-ebm-paper/e2e-ebm-spatial-0-s2-day1-backward_2022-09-20-12-55-04: length=18375, filtered=0\n",
      "[NvidiaDataset] Using default transform: Compose(\n",
      "    <dataloading.nvidia.Normalize object at 0x7fa86712f370>\n",
      ")\n",
      "/data/Bolt/end-to-end/drives-ebm-paper/ebm-paper-ebm-spatial-0-s2-forward_2022-09-21-11-13-54: length=17839, filtered=0\n",
      "[NvidiaDataset] Using default transform: Compose(\n",
      "    <dataloading.nvidia.Normalize object at 0x7fa86712fb20>\n",
      ")\n",
      "/data/Bolt/end-to-end/drives-ebm-paper/ebm-paper-ebm-spatial-0-s2-backward_2022-09-21-11-24-29: length=18328, filtered=0\n",
      "[NvidiaDataset] Using default transform: Compose(\n",
      "    <dataloading.nvidia.Normalize object at 0x7fa86712fd00>\n",
      ")\n",
      "/data/Bolt/end-to-end/drives-ebm-paper/e2e-mae-s2-day1-forward_2022-09-20-11-25-14: length=18017, filtered=0\n",
      "[NvidiaDataset] Using default transform: Compose(\n",
      "    <dataloading.nvidia.Normalize object at 0x7fa865c7c2e0>\n",
      ")\n",
      "/data/Bolt/end-to-end/drives-ebm-paper/e2e-mae-s2-day1-backward_2022-09-20-11-35-49: length=18347, filtered=0\n",
      "[NvidiaDataset] Using default transform: Compose(\n",
      "    <dataloading.nvidia.Normalize object at 0x7fa865c7c5e0>\n",
      ")\n",
      "/data/Bolt/end-to-end/drives-ebm-paper/ebm-paper-mae-s2-forward_2022-09-21-12-22-57: length=18787, filtered=0\n",
      "[NvidiaDataset] Using default transform: Compose(\n",
      "    <dataloading.nvidia.Normalize object at 0x7fa865c7c670>\n",
      ")\n",
      "/data/Bolt/end-to-end/drives-ebm-paper/ebm-paper-mae-s2-backward_2022-09-21-12-34-47: length=18355, filtered=0\n",
      "[NvidiaDataset] Using default transform: Compose(\n",
      "    <dataloading.nvidia.Normalize object at 0x7fa864820040>\n",
      ")\n",
      "/data/Bolt/end-to-end/drives-ebm-paper/ebm-paper-classifier-512-forward_2022-09-21-11-36-50: length=18101, filtered=0\n",
      "[NvidiaDataset] Using default transform: Compose(\n",
      "    <dataloading.nvidia.Normalize object at 0x7fa864820cd0>\n",
      ")\n",
      "/data/Bolt/end-to-end/drives-ebm-paper/ebm-paper-classifier-512-backward_2022-09-21-11-47-38: length=18289, filtered=0\n",
      "[NvidiaDataset] Using default transform: Compose(\n",
      "    <dataloading.nvidia.Normalize object at 0x7fa864820700>\n",
      ")\n",
      "/data/Bolt/end-to-end/drives-ebm-paper/ebm-paper-classifier-512-forward_2022-09-22-11-47-18: length=18334, filtered=0\n",
      "[NvidiaDataset] Using default transform: Compose(\n",
      "    <dataloading.nvidia.Normalize object at 0x7fa864820b80>\n",
      ")\n",
      "/data/Bolt/end-to-end/drives-ebm-paper/ebm-paper-classifier-512-backward_2022-09-22-11-58-03: length=18259, filtered=0\n",
      "[NvidiaDataset] Using default transform: Compose(\n",
      "    <dataloading.nvidia.Normalize object at 0x7fa862c80340>\n",
      ")\n",
      "/data/Bolt/end-to-end/drives-ebm-paper/ebm-paper-mdn-5-s1-forward_2022-09-21-10-29-09: length=17849, filtered=0\n",
      "[NvidiaDataset] Using default transform: Compose(\n",
      "    <dataloading.nvidia.Normalize object at 0x7fa862c80af0>\n",
      ")\n",
      "/data/Bolt/end-to-end/drives-ebm-paper/ebm-paper-mdn-5-s1-backward_2022-09-21-10-39-43: length=18234, filtered=0\n",
      "[NvidiaDataset] Using default transform: Compose(\n",
      "    <dataloading.nvidia.Normalize object at 0x7fa862c80cd0>\n",
      ")\n",
      "/data/Bolt/end-to-end/drives-ebm-paper/ebm-paper-mdn-5-s1-forward_2022-09-22-10-38-10: length=17961, filtered=0\n",
      "[NvidiaDataset] Using default transform: Compose(\n",
      "    <dataloading.nvidia.Normalize object at 0x7fa861845190>\n",
      ")\n",
      "/data/Bolt/end-to-end/drives-ebm-paper/ebm-paper-mdn-5-s1-backward_2022-09-22-10-49-36: length=18523, filtered=0\n",
      "[NvidiaDataset] Using default transform: Compose(\n",
      "    <dataloading.nvidia.Normalize object at 0x7fa861845e20>\n",
      ")\n",
      "/data/Bolt/end-to-end/drives-ebm-paper/ebm-paper-classifier-512-forward_2022-09-23-12-05-48: length=17966, filtered=0\n",
      "[NvidiaDataset] Using default transform: Compose(\n",
      "    <dataloading.nvidia.Normalize object at 0x7fa8618455b0>\n",
      ")\n",
      "/data/Bolt/end-to-end/drives-ebm-paper/ebm-paper-classifier-512-backwards_2022-09-23-11-54-32: length=18349, filtered=0\n",
      "[NvidiaDataset] Using default transform: Compose(\n",
      "    <dataloading.nvidia.Normalize object at 0x7fa860338250>\n",
      ")\n",
      "/data/Bolt/end-to-end/drives-ebm-paper/ebm-paper-ebm-512-s1-forward_2022-09-23-11-18-29: length=17934, filtered=0\n",
      "[NvidiaDataset] Using default transform: Compose(\n",
      "    <dataloading.nvidia.Normalize object at 0x7fa860338c70>\n",
      ")\n",
      "/data/Bolt/end-to-end/drives-ebm-paper/ebm-paper-ebm-512-s1-backwards_2022-09-23-11-07-13: length=18310, filtered=0\n",
      "[NvidiaDataset] Using default transform: Compose(\n",
      "    <dataloading.nvidia.Normalize object at 0x7fa860338f10>\n",
      ")\n",
      "/data/Bolt/end-to-end/drives-ebm-paper/ebm-paper-ebm-normal-1-s1-forward_2022-09-23-12-28-45: length=18014, filtered=0\n",
      "[NvidiaDataset] Using default transform: Compose(\n",
      "    <dataloading.nvidia.Normalize object at 0x7fa860338f40>\n",
      ")\n",
      "/data/Bolt/end-to-end/drives-ebm-paper/ebm-paper-ebm-normal-1-s1-backwards_2022-09-23-12-17-08: length=18364, filtered=0\n",
      "[NvidiaDataset] Using default transform: Compose(\n",
      "    <dataloading.nvidia.Normalize object at 0x7fa85e879250>\n",
      ")\n",
      "/data/Bolt/end-to-end/drives-ebm-paper/ebm-paper-ebm-spatial-0-s2-forward_2022-09-23-11-43-09: length=17909, filtered=0\n",
      "[NvidiaDataset] Using default transform: Compose(\n",
      "    <dataloading.nvidia.Normalize object at 0x7fa85e879460>\n",
      ")\n",
      "/data/Bolt/end-to-end/drives-ebm-paper/ebm-paper-ebm-spatial-0-s2-backwards_2022-09-23-11-31-39: length=18294, filtered=0\n",
      "[NvidiaDataset] Using default transform: Compose(\n",
      "    <dataloading.nvidia.Normalize object at 0x7fa85e879c70>\n",
      ")\n",
      "/data/Bolt/end-to-end/drives-ebm-paper/ebm-paper-mae-s2-forward_2022-09-23-10-31-24: length=17905, filtered=0\n",
      "[NvidiaDataset] Using default transform: Compose(\n",
      "    <dataloading.nvidia.Normalize object at 0x7fa85d3cb070>\n",
      ")\n",
      "/data/Bolt/end-to-end/drives-ebm-paper/ebm-paper-mae-s2-backward_2022-09-23-10-19-55: length=18382, filtered=0\n",
      "[NvidiaDataset] Using default transform: Compose(\n",
      "    <dataloading.nvidia.Normalize object at 0x7fa85d3cb610>\n",
      ")\n",
      "/data/Bolt/end-to-end/drives-ebm-paper/ebm-paper-mdn-5-s1-forward_2022-09-23-10-55-27: length=18415, filtered=0\n",
      "[NvidiaDataset] Using default transform: Compose(\n",
      "    <dataloading.nvidia.Normalize object at 0x7fa85d3cba00>\n",
      ")\n",
      "/data/Bolt/end-to-end/drives-ebm-paper/ebm-paper-mdn-5-s1-backwards_2022-09-23-10-43-34: length=18635, filtered=0\n"
     ]
    }
   ],
   "source": [
    "train_ds, val_ds = make_dataset(df)"
   ]
  },
  {
   "cell_type": "code",
   "execution_count": 12,
   "metadata": {},
   "outputs": [],
   "source": [
    "class RMSELoss(torch.nn.Module):\n",
    "    def __init__(self):\n",
    "        super().__init__()\n",
    "        self.mse = torch.nn.MSELoss()\n",
    "    \n",
    "    def forward(self, y_pred, y_true):\n",
    "        return torch.sqrt(self.mse(y_pred, y_true))"
   ]
  },
  {
   "cell_type": "code",
   "execution_count": 49,
   "metadata": {},
   "outputs": [
    {
     "name": "stdout",
     "output_type": "stream",
     "text": [
      "> Epoch 1\n"
     ]
    },
    {
     "name": "stderr",
     "output_type": "stream",
     "text": [
      "loss: 0.0173 | val_loss: 0.0000: 100%|██████████| 55/55 [00:04<00:00, 11.37it/s]\n",
      "27it [00:00, 28.75it/s]\n"
     ]
    },
    {
     "name": "stdout",
     "output_type": "stream",
     "text": [
      "> Epoch 2\n"
     ]
    },
    {
     "name": "stderr",
     "output_type": "stream",
     "text": [
      "loss: 0.0157 | val_loss: 0.0278: 100%|██████████| 55/55 [00:04<00:00, 11.05it/s]\n",
      "27it [00:00, 33.65it/s]\n"
     ]
    },
    {
     "name": "stdout",
     "output_type": "stream",
     "text": [
      "> Epoch 3\n"
     ]
    },
    {
     "name": "stderr",
     "output_type": "stream",
     "text": [
      "loss: 0.0147 | val_loss: 0.0253: 100%|██████████| 55/55 [00:04<00:00, 11.12it/s]\n",
      "27it [00:00, 29.49it/s]\n"
     ]
    },
    {
     "name": "stdout",
     "output_type": "stream",
     "text": [
      "> Epoch 4\n"
     ]
    },
    {
     "name": "stderr",
     "output_type": "stream",
     "text": [
      "loss: 0.0141 | val_loss: 0.0231: 100%|██████████| 55/55 [00:05<00:00, 10.76it/s]\n",
      "27it [00:00, 31.57it/s]\n"
     ]
    },
    {
     "name": "stdout",
     "output_type": "stream",
     "text": [
      "> Epoch 5\n"
     ]
    },
    {
     "name": "stderr",
     "output_type": "stream",
     "text": [
      "loss: 0.0105 | val_loss: 0.0177: 100%|██████████| 55/55 [00:04<00:00, 11.43it/s]\n",
      "27it [00:00, 30.08it/s]\n"
     ]
    },
    {
     "name": "stdout",
     "output_type": "stream",
     "text": [
      "> Epoch 6\n"
     ]
    },
    {
     "name": "stderr",
     "output_type": "stream",
     "text": [
      "loss: 0.0097 | val_loss: 0.0147: 100%|██████████| 55/55 [00:05<00:00, 10.95it/s]\n",
      "27it [00:00, 29.98it/s]\n"
     ]
    },
    {
     "name": "stdout",
     "output_type": "stream",
     "text": [
      "> Epoch 7\n"
     ]
    },
    {
     "name": "stderr",
     "output_type": "stream",
     "text": [
      "loss: 0.0093 | val_loss: 0.0135: 100%|██████████| 55/55 [00:05<00:00, 10.67it/s]\n",
      "27it [00:00, 31.02it/s]\n"
     ]
    },
    {
     "name": "stdout",
     "output_type": "stream",
     "text": [
      "> Epoch 8\n"
     ]
    },
    {
     "name": "stderr",
     "output_type": "stream",
     "text": [
      "loss: 0.0090 | val_loss: 0.0130: 100%|██████████| 55/55 [00:05<00:00, 10.75it/s]\n",
      "27it [00:00, 29.05it/s]\n"
     ]
    },
    {
     "name": "stdout",
     "output_type": "stream",
     "text": [
      "> Epoch 9\n"
     ]
    },
    {
     "name": "stderr",
     "output_type": "stream",
     "text": [
      "loss: 0.0088 | val_loss: 0.0126: 100%|██████████| 55/55 [00:04<00:00, 11.53it/s]\n",
      "27it [00:00, 30.39it/s]\n"
     ]
    },
    {
     "name": "stdout",
     "output_type": "stream",
     "text": [
      "> Epoch 10\n"
     ]
    },
    {
     "name": "stderr",
     "output_type": "stream",
     "text": [
      "loss: 0.0086 | val_loss: 0.0123: 100%|██████████| 55/55 [00:04<00:00, 11.20it/s]\n",
      "27it [00:00, 32.03it/s]\n"
     ]
    },
    {
     "name": "stdout",
     "output_type": "stream",
     "text": [
      "> Epoch 11\n"
     ]
    },
    {
     "name": "stderr",
     "output_type": "stream",
     "text": [
      "loss: 0.0085 | val_loss: 0.0121: 100%|██████████| 55/55 [00:04<00:00, 11.23it/s]\n",
      "27it [00:00, 32.60it/s]\n"
     ]
    },
    {
     "name": "stdout",
     "output_type": "stream",
     "text": [
      "> Epoch 12\n"
     ]
    },
    {
     "name": "stderr",
     "output_type": "stream",
     "text": [
      "loss: 0.0083 | val_loss: 0.0119: 100%|██████████| 55/55 [00:04<00:00, 11.52it/s]\n",
      "27it [00:00, 31.04it/s]\n"
     ]
    },
    {
     "name": "stdout",
     "output_type": "stream",
     "text": [
      "> Epoch 13\n"
     ]
    },
    {
     "name": "stderr",
     "output_type": "stream",
     "text": [
      "loss: 0.0082 | val_loss: 0.0118: 100%|██████████| 55/55 [00:05<00:00, 10.83it/s]\n",
      "27it [00:00, 30.76it/s]\n"
     ]
    },
    {
     "name": "stdout",
     "output_type": "stream",
     "text": [
      "> Epoch 14\n"
     ]
    },
    {
     "name": "stderr",
     "output_type": "stream",
     "text": [
      "loss: 0.0081 | val_loss: 0.0116: 100%|██████████| 55/55 [00:04<00:00, 11.53it/s]\n",
      "27it [00:00, 30.94it/s]\n"
     ]
    },
    {
     "name": "stdout",
     "output_type": "stream",
     "text": [
      "> Epoch 15\n"
     ]
    },
    {
     "name": "stderr",
     "output_type": "stream",
     "text": [
      "loss: 0.0080 | val_loss: 0.0115: 100%|██████████| 55/55 [00:04<00:00, 11.48it/s]\n",
      "27it [00:00, 30.30it/s]\n"
     ]
    },
    {
     "name": "stdout",
     "output_type": "stream",
     "text": [
      "> Epoch 16\n"
     ]
    },
    {
     "name": "stderr",
     "output_type": "stream",
     "text": [
      "loss: 0.0079 | val_loss: 0.0113: 100%|██████████| 55/55 [00:04<00:00, 11.30it/s]\n",
      "27it [00:00, 30.86it/s]\n"
     ]
    },
    {
     "name": "stdout",
     "output_type": "stream",
     "text": [
      "> Epoch 17\n"
     ]
    },
    {
     "name": "stderr",
     "output_type": "stream",
     "text": [
      "loss: 0.0077 | val_loss: 0.0112: 100%|██████████| 55/55 [00:04<00:00, 11.46it/s]\n",
      "27it [00:00, 30.13it/s]\n"
     ]
    },
    {
     "name": "stdout",
     "output_type": "stream",
     "text": [
      "> Epoch 18\n"
     ]
    },
    {
     "name": "stderr",
     "output_type": "stream",
     "text": [
      "loss: 0.0076 | val_loss: 0.0110: 100%|██████████| 55/55 [00:04<00:00, 11.47it/s]\n",
      "27it [00:00, 31.54it/s]\n"
     ]
    },
    {
     "name": "stdout",
     "output_type": "stream",
     "text": [
      "> Epoch 19\n"
     ]
    },
    {
     "name": "stderr",
     "output_type": "stream",
     "text": [
      "loss: 0.0075 | val_loss: 0.0109: 100%|██████████| 55/55 [00:05<00:00, 10.96it/s]\n",
      "27it [00:00, 32.99it/s]\n"
     ]
    },
    {
     "name": "stdout",
     "output_type": "stream",
     "text": [
      "> Epoch 20\n"
     ]
    },
    {
     "name": "stderr",
     "output_type": "stream",
     "text": [
      "loss: 0.0073 | val_loss: 0.0107: 100%|██████████| 55/55 [00:04<00:00, 12.02it/s]\n",
      "27it [00:00, 31.16it/s]\n"
     ]
    },
    {
     "name": "stdout",
     "output_type": "stream",
     "text": [
      "> Epoch 21\n"
     ]
    },
    {
     "name": "stderr",
     "output_type": "stream",
     "text": [
      "loss: 0.0072 | val_loss: 0.0105: 100%|██████████| 55/55 [00:04<00:00, 11.60it/s]\n",
      "27it [00:00, 30.57it/s]\n"
     ]
    },
    {
     "name": "stdout",
     "output_type": "stream",
     "text": [
      "> Epoch 22\n"
     ]
    },
    {
     "name": "stderr",
     "output_type": "stream",
     "text": [
      "loss: 0.0071 | val_loss: 0.0103: 100%|██████████| 55/55 [00:04<00:00, 11.24it/s]\n",
      "27it [00:00, 30.58it/s]\n"
     ]
    },
    {
     "name": "stdout",
     "output_type": "stream",
     "text": [
      "> Epoch 23\n"
     ]
    },
    {
     "name": "stderr",
     "output_type": "stream",
     "text": [
      "loss: 0.0070 | val_loss: 0.0102: 100%|██████████| 55/55 [00:04<00:00, 11.59it/s]\n",
      "27it [00:00, 30.26it/s]\n"
     ]
    },
    {
     "name": "stdout",
     "output_type": "stream",
     "text": [
      "> Epoch 24\n"
     ]
    },
    {
     "name": "stderr",
     "output_type": "stream",
     "text": [
      "loss: 0.0070 | val_loss: 0.0100: 100%|██████████| 55/55 [00:04<00:00, 11.54it/s]\n",
      "27it [00:00, 30.95it/s]\n"
     ]
    },
    {
     "name": "stdout",
     "output_type": "stream",
     "text": [
      "> Epoch 25\n"
     ]
    },
    {
     "name": "stderr",
     "output_type": "stream",
     "text": [
      "loss: 0.0069 | val_loss: 0.0099: 100%|██████████| 55/55 [00:04<00:00, 11.65it/s]\n",
      "27it [00:00, 31.33it/s]\n"
     ]
    },
    {
     "name": "stdout",
     "output_type": "stream",
     "text": [
      "> Epoch 26\n"
     ]
    },
    {
     "name": "stderr",
     "output_type": "stream",
     "text": [
      "loss: 0.0069 | val_loss: 0.0098: 100%|██████████| 55/55 [00:04<00:00, 11.07it/s]\n",
      "27it [00:00, 29.85it/s]\n"
     ]
    },
    {
     "name": "stdout",
     "output_type": "stream",
     "text": [
      "> Epoch 27\n"
     ]
    },
    {
     "name": "stderr",
     "output_type": "stream",
     "text": [
      "loss: 0.0069 | val_loss: 0.0098: 100%|██████████| 55/55 [00:04<00:00, 11.39it/s]\n",
      "27it [00:00, 31.11it/s]\n"
     ]
    },
    {
     "name": "stdout",
     "output_type": "stream",
     "text": [
      "> Epoch 28\n"
     ]
    },
    {
     "name": "stderr",
     "output_type": "stream",
     "text": [
      "loss: 0.0069 | val_loss: 0.0097: 100%|██████████| 55/55 [00:05<00:00, 10.89it/s]\n",
      "27it [00:00, 31.06it/s]\n"
     ]
    },
    {
     "name": "stdout",
     "output_type": "stream",
     "text": [
      "> Epoch 29\n"
     ]
    },
    {
     "name": "stderr",
     "output_type": "stream",
     "text": [
      "loss: 0.0069 | val_loss: 0.0096: 100%|██████████| 55/55 [00:04<00:00, 11.09it/s]\n",
      "27it [00:00, 29.84it/s]\n"
     ]
    },
    {
     "name": "stdout",
     "output_type": "stream",
     "text": [
      "> Epoch 30\n"
     ]
    },
    {
     "name": "stderr",
     "output_type": "stream",
     "text": [
      "loss: 0.0069 | val_loss: 0.0096: 100%|██████████| 55/55 [00:05<00:00, 11.00it/s]\n",
      "27it [00:00, 32.20it/s]\n"
     ]
    },
    {
     "data": {
      "image/png": "[encoded data removed]",
      "text/plain": [
       "<Figure size 432x288 with 1 Axes>"
      ]
     },
     "metadata": {
      "needs_background": "light"
     },
     "output_type": "display_data"
    }
   ],
   "source": [
    "batch_size = 128\n",
    "num_workers = 0\n",
    "gru_hidden_size = 128\n",
    "gru_layers = 1\n",
    "\n",
    "dataloader = DataLoader(train_ds, \n",
    "            pin_memory=True,\n",
    "            batch_size=batch_size,\n",
    "            num_workers=num_workers,\n",
    "            shuffle=False,\n",
    "            drop_last=True,\n",
    ")\n",
    "val_dataloader = DataLoader(val_ds,\n",
    "            pin_memory=True,\n",
    "            batch_size=batch_size,\n",
    "            num_workers=num_workers,\n",
    "            shuffle=False,\n",
    "            drop_last=True,\n",
    ")\n",
    "\n",
    "model = DynamicsGRU(gru_hidden_size, gru_layers).to(device)\n",
    "optimizer = torch.optim.Adam(model.parameters(), lr=1e-3)\n",
    "criterion = torch.nn.MSELoss()\n",
    "\n",
    "iter_num = 0\n",
    "\n",
    "def train(model, dataloader, val_dataloader, optimizer, criterion, device, num_epochs=10):\n",
    "    loss_history = {}\n",
    "    val_loss_history = {}\n",
    "    loss = 0\n",
    "    val_loss = 0\n",
    "    for epoch in range(num_epochs):\n",
    "        print(f'> Epoch {epoch+1}')\n",
    "        progress = tqdm(enumerate(dataloader), total=len(dataloader))\n",
    "        for i, (cmd, eff) in progress:\n",
    "            cmd = cmd.to(device, dtype=torch.float32)\n",
    "            eff = eff.to(device, dtype=torch.float32)\n",
    "\n",
    "            model.train()\n",
    "            outputs = model(cmd[:, :-1], eff[:, :-1], teacher_forcing=False) # -> a_eff[1:t]\n",
    "\n",
    "            # print('outputs:', outputs.shape)\n",
    "            # print('eff:', eff.shape)\n",
    "            loss = criterion(outputs, eff[:, 1:])\n",
    "\n",
    "            # backprop and update the parameters\n",
    "            model.zero_grad(set_to_none=True)\n",
    "            loss.backward()\n",
    "            torch.nn.utils.clip_grad_norm_(model.parameters(), 1.)\n",
    "            optimizer.step()\n",
    "\n",
    "            loss_history[epoch*len(dataloader) + i] = loss.detach().cpu().item()\n",
    "\n",
    "            description = f'loss: {loss.detach().cpu().item():.4f} | val_loss: {val_loss:.4f}'\n",
    "            progress.set_description(description)\n",
    "            progress.update(1)\n",
    "\n",
    "        val_loss = validation_loss(model, val_dataloader, criterion, device)\n",
    "        val_loss_history[epoch*len(dataloader) + i] = val_loss\n",
    "        description = f'loss: {loss.detach().cpu().item():.4f} | val_loss: {val_loss:.4f}'\n",
    "        progress.set_description(description)\n",
    "\n",
    "    history = {\n",
    "        'loss': loss_history,\n",
    "        'val_loss': val_loss_history,\n",
    "    }\n",
    "    return model, history\n",
    "\n",
    "def validation_loss(model, val_dataloader, criterion, device):\n",
    "    model.eval()\n",
    "    val_loss_history = []\n",
    "    with torch.no_grad():\n",
    "        for i, (cmd, eff) in tqdm(enumerate(val_dataloader)):\n",
    "            cmd = cmd.to(device, dtype=torch.float32)\n",
    "            eff = eff.to(device, dtype=torch.float32)\n",
    "\n",
    "            outputs = model(cmd[:, :-1], eff[:, :-1], teacher_forcing=False) # -> a_eff[1:t]\n",
    "            loss = criterion(outputs, eff[:, 1:])\n",
    "            val_loss_history.append(loss.detach().cpu().item())\n",
    "\n",
    "    return np.mean(val_loss_history)\n",
    "\n",
    "model, history = train(model, dataloader, val_dataloader, optimizer, criterion, device, num_epochs=30)\n",
    "\n",
    "plt.plot(history['loss'].values(), label='train loss')\n",
    "plt.plot(history['val_loss'].keys(), history['val_loss'].values(), label='validation loss')\n",
    "\n",
    "plt.legend()\n",
    "plt.show()"
   ]
  },
  {
   "cell_type": "code",
   "execution_count": 14,
   "metadata": {},
   "outputs": [],
   "source": [
    "def infer(model, cmd_values, initial_eff_val=0.0):\n",
    "    model.eval()\n",
    "    outputs = [initial_eff_val]\n",
    "    with torch.no_grad():\n",
    "        hidden = None\n",
    "        for i in range(len(cmd_values)):\n",
    "            cmd = cmd_values[i]\n",
    "            eff = outputs[i]\n",
    "            if i == len(cmd_values)-1: break\n",
    "\n",
    "            gru_inputs_cmd = torch.tensor([cmd]).reshape(1, 1).to(device, dtype=torch.float32)\n",
    "            gru_inputs_eff = torch.tensor([eff]).reshape(1, 1).to(device, dtype=torch.float32)\n",
    "            out, hidden = model(gru_inputs_cmd, gru_inputs_eff, h0=hidden, return_hidden=True)\n",
    "            outputs.append(out.detach().cpu().item())\n",
    "\n",
    "    return outputs\n",
    "\n",
    "def infer_baseline(cmd_values, initial_eff_val=0.0, alpha: int = 0.075):\n",
    "    outputs = [initial_eff_val]\n",
    "    for i in range(len(cmd_values)):\n",
    "        new_cmd = cmd_values[i]\n",
    "        last_eff = outputs[i]\n",
    "\n",
    "        last_eff = smoothed_steering_angle(last_eff, new_cmd, alpha=alpha)\n",
    "\n",
    "        outputs.append(last_eff)\n",
    "    return outputs\n"
   ]
  },
  {
   "cell_type": "code",
   "execution_count": 15,
   "metadata": {},
   "outputs": [],
   "source": [
    "import torch.nn.functional as F\n",
    "from collections import defaultdict\n",
    "\n",
    "def evaluate(model, val_dataloader, device):\n",
    "    model.eval()\n",
    "    metrics = defaultdict(int)\n",
    "    with torch.no_grad():\n",
    "        for i, (cmd, eff) in tqdm(enumerate(val_dataloader)):\n",
    "            cmd = cmd.to(device, dtype=torch.float32)\n",
    "            eff = eff.to(device, dtype=torch.float32)\n",
    "\n",
    "            outputs = model(cmd[:, :-1], eff[:, :-1], teacher_forcing=False) # -> a_eff[1:t]\n",
    "            mse = F.mse_loss(outputs, eff[:, 1:])\n",
    "            rmse = torch.sqrt(mse)\n",
    "            mae = F.l1_loss(outputs, eff[:, 1:])\n",
    "            bias = torch.mean(outputs - eff[:, 1:])\n",
    "\n",
    "            metrics['mse'] += mse.detach().cpu().item()\n",
    "            metrics['rmse'] += rmse.detach().cpu().item()\n",
    "            metrics['mae'] += mae.detach().cpu().item()\n",
    "            metrics['bias'] += bias.detach().cpu().item()\n",
    "\n",
    "    for k in metrics.keys():\n",
    "        metrics[k] /= len(val_dataloader)\n",
    "        metrics[k] = np.degrees(metrics[k])\n",
    "\n",
    "    return metrics"
   ]
  },
  {
   "cell_type": "code",
   "execution_count": 51,
   "metadata": {},
   "outputs": [
    {
     "name": "stderr",
     "output_type": "stream",
     "text": [
      "27it [00:00, 31.19it/s]\n",
      "27it [00:00, 34.30it/s]\n"
     ]
    },
    {
     "name": "stdout",
     "output_type": "stream",
     "text": [
      "model v1: defaultdict(<class 'int'>, {'mse': 0.6834244885458519, 'rmse': 5.326402764117986, 'mae': 2.5138058968888783, 'bias': 0.37205360149207034})\n",
      "model v2: defaultdict(<class 'int'>, {'mse': 0.5283897781782281, 'rmse': 4.8446347535498395, 'mae': 2.3531688655943173, 'bias': 0.26629109587088107})\n",
      "smoothing baseline: 30.775\n"
     ]
    }
   ],
   "source": [
    "trues = []\n",
    "preds_gru = []\n",
    "preds_baseline = []\n",
    "\n",
    "for ds in val_ds.datasets:\n",
    "    frames = ds.frames.loc[:, ['steering_angle', 'cmd_steering_angle']]\n",
    "    true = frames['steering_angle'].values\n",
    "    cmd = frames['cmd_steering_angle'].values\n",
    "\n",
    "    pred_baseline = infer_baseline(cmd[1:], true[0])\n",
    "    trues.extend(true[1:])\n",
    "    preds_baseline.extend(pred_baseline[:-1])\n",
    "\n",
    "    assert len(trues) == len(preds_baseline)\n",
    "\n",
    "trues = np.degrees(trues)\n",
    "preds_baseline = np.degrees(preds_baseline)\n",
    "\n",
    "metrics_model_v1 = evaluate(model_v1, val_dataloader, device)\n",
    "metrics_model_v2 = evaluate(model, val_dataloader, device)\n",
    "\n",
    "# print('RMSE model:', metrics_rmse_model)\n",
    "print('model v1:', metrics_model_v1)\n",
    "print('model v2:', metrics_model_v2)\n",
    "\n",
    "mse_baseline = np.mean((trues - preds_baseline)**2)\n",
    "print(f'smoothing baseline: {mse_baseline:.3f}')"
   ]
  },
  {
   "cell_type": "code",
   "execution_count": 50,
   "metadata": {},
   "outputs": [],
   "source": [
    "model_v1 = DynamicsGRU(128, 1)\n",
    "model_v1.load_state_dict(torch.load('dynamics_model_mae_val_loss_0.408_bias_0.42.pt'))\n",
    "model_v1 = model_v1.to(device)"
   ]
  },
  {
   "cell_type": "code",
   "execution_count": 53,
   "metadata": {},
   "outputs": [
    {
     "data": {
      "text/plain": [
       "<matplotlib.legend.Legend at 0x7fa85edf6730>"
      ]
     },
     "execution_count": 53,
     "metadata": {},
     "output_type": "execute_result"
    },
    {
     "data": {
      "image/png": "[encoded data removed]",
      "text/plain": [
       "<Figure size 1440x576 with 1 Axes>"
      ]
     },
     "metadata": {
      "needs_background": "light"
     },
     "output_type": "display_data"
    }
   ],
   "source": [
    "ds = val_ds.datasets[0]\n",
    "alpha = 0.1\n",
    "\n",
    "stuff = ds.frames.loc[:, ['steering_angle', 'cmd_steering_angle']].iloc[210:1100]\n",
    "\n",
    "plt.figure(figsize=(20,8))\n",
    "plt.xlabel('Frame # (@30 Hz')\n",
    "plt.ylabel('Steering Angle (deg)')\n",
    "\n",
    "eff_steering = stuff['steering_angle'].values\n",
    "cmd_steering = stuff['cmd_steering_angle'].values\n",
    "simple_preds = infer_baseline(cmd_steering[1:], eff_steering[0], alpha=alpha)\n",
    "gru_preds_v1 = infer(model_v1, cmd_steering[1:], cmd_steering[0])\n",
    "gru_preds = infer(model, cmd_steering[1:], cmd_steering[0])\n",
    "\n",
    "zoom_start, zoom_end = [0, 1000]\n",
    "\n",
    "plt.plot(np.arange(len(stuff))[zoom_start:zoom_end], np.degrees(cmd_steering)[zoom_start:zoom_end], label='cmd', color='grey')\n",
    "plt.plot(np.arange(len(stuff))[zoom_start:zoom_end], np.degrees(eff_steering)[zoom_start:zoom_end], label='eff, true', color='black')\n",
    "plt.plot(np.arange(len(stuff))[zoom_start:zoom_end], np.degrees(simple_preds)[zoom_start:zoom_end], label=f'eff, simple smoothing (alpha={alpha})', color='green')\n",
    "plt.plot(np.arange(1, len(stuff))[zoom_start:zoom_end], np.degrees(gru_preds_v1)[zoom_start:zoom_end], label=f'GRU v1', color='blue')\n",
    "plt.plot(np.arange(1, len(stuff))[zoom_start:zoom_end], np.degrees(gru_preds)[zoom_start:zoom_end], label=f'GRU new', color='red')\n",
    "\n",
    "plt.legend()"
   ]
  },
  {
   "cell_type": "code",
   "execution_count": 54,
   "metadata": {},
   "outputs": [],
   "source": [
    "torch.save(model.state_dict(), 'dynamics_model_v2.pt')"
   ]
  },
  {
   "cell_type": "code",
   "execution_count": 274,
   "metadata": {},
   "outputs": [],
   "source": [
    "model = DynamicsGRU(128, 1)\n",
    "model.load_state_dict(torch.load('dynamics_model_v2.pt'))\n",
    "model = model.to(device)"
   ]
  },
  {
   "cell_type": "code",
   "execution_count": 55,
   "metadata": {},
   "outputs": [
    {
     "name": "stdout",
     "output_type": "stream",
     "text": [
      "torch.Size([1, 1]) torch.Size([1, 1]) torch.Size([1, 1, 128])\n"
     ]
    },
    {
     "name": "stderr",
     "output_type": "stream",
     "text": [
      "/tmp/ipykernel_27088/744702219.py:26: TracerWarning: Converting a tensor to a Python boolean might cause the trace to be incorrect. We can't record the data flow of Python values, so this value will be treated as a constant in the future. This means that the trace might not generalize to other inputs!\n",
      "  if teacher_forcing:\n",
      "/tmp/ipykernel_27088/744702219.py:47: TracerWarning: Converting a tensor to a Python boolean might cause the trace to be incorrect. We can't record the data flow of Python values, so this value will be treated as a constant in the future. This means that the trace might not generalize to other inputs!\n",
      "  if return_hidden:\n",
      "/home/nikita/miniconda3/envs/e2e/lib/python3.9/site-packages/torch/onnx/symbolic_opset9.py:2188: UserWarning: Exporting a model to ONNX with a batch_size other than 1, with a variable length with GRU can cause an error when running the ONNX model with a different batch size. Make sure to save the model with a batch size of 1, or define the initial states (h0/c0) as inputs of the model. \n",
      "  warnings.warn(\"Exporting a model to ONNX with a batch_size other than 1, \" +\n",
      "WARNING: The shape inference of prim::Constant type is missing, so it may result in wrong shape inference for the exported graph. Please consider adding it in symbolic function.\n",
      "WARNING: The shape inference of prim::Constant type is missing, so it may result in wrong shape inference for the exported graph. Please consider adding it in symbolic function.\n",
      "WARNING: The shape inference of prim::Constant type is missing, so it may result in wrong shape inference for the exported graph. Please consider adding it in symbolic function.\n"
     ]
    }
   ],
   "source": [
    "import onnx\n",
    "\n",
    "cmd, eff = iter(val_dataloader).next()\n",
    "cmd = cmd[0:1, 0:1].to(device, dtype=torch.float32)\n",
    "eff = eff[0:1, 0:1].to(device, dtype=torch.float32)\n",
    "hidden = torch.zeros(1, 1, 128).to(device, dtype=torch.float32)\n",
    "\n",
    "print(cmd.shape, eff.shape, hidden.shape)\n",
    "\n",
    "sample_inputs = [cmd, eff, hidden, True, True, {}]\n",
    "\n",
    "torch.onnx.export(model,\n",
    "                  sample_inputs,\n",
    "                  'dynamics_model_v2.onnx',\n",
    "                  input_names=['cmd', 'eff'],\n",
    "                  output_names=['eff_pred', 'hidden_state'],\n",
    "                  opset_version=9,\n",
    "                  do_constant_folding=False,\n",
    "                )\n",
    "onnx.checker.check_model('dynamics_model_v2.onnx')\n"
   ]
  },
  {
   "cell_type": "code",
   "execution_count": 56,
   "metadata": {},
   "outputs": [],
   "source": [
    "import onnxruntime as ort\n",
    "\n",
    "ort_session = ort.InferenceSession('dynamics_model_v2.onnx', providers=['CUDAExecutionProvider'])\n",
    "\n",
    "ds = val_ds.datasets[0]\n",
    "stuff = ds.frames.loc[:, ['steering_angle', 'cmd_steering_angle']].iloc[1500:2000]\n",
    "\n",
    "eff_steering = stuff['steering_angle'].values.astype(np.float32)\n",
    "cmd_steering = stuff['cmd_steering_angle'].values.astype(np.float32)\n",
    "hidden = np.zeros((1, 1, 128)).astype(np.float32)\n",
    "\n",
    "preds = [cmd_steering[0]]\n",
    "\n",
    "for i in range(cmd_steering.shape[0]):\n",
    "    ort_inputs = {\n",
    "        ort_session.get_inputs()[0].name: np.array(cmd_steering[i:i+1]).reshape(1,1),\n",
    "        ort_session.get_inputs()[1].name: np.array(preds[i]).astype(np.float32).reshape(1, -1),\n",
    "        ort_session.get_inputs()[2].name: hidden,\n",
    "    }\n",
    "\n",
    "    ort_outs = ort_session.run(None, ort_inputs)\n",
    "    outs, hidden = ort_outs\n",
    "\n",
    "    preds.append(outs.astype(np.float32).item())"
   ]
  },
  {
   "cell_type": "code",
   "execution_count": 57,
   "metadata": {},
   "outputs": [
    {
     "data": {
      "text/plain": [
       "<matplotlib.legend.Legend at 0x7fa8644f9f70>"
      ]
     },
     "execution_count": 57,
     "metadata": {},
     "output_type": "execute_result"
    },
    {
     "data": {
      "image/png": "[encoded data removed]",
      "text/plain": [
       "<Figure size 1440x576 with 1 Axes>"
      ]
     },
     "metadata": {
      "needs_background": "light"
     },
     "output_type": "display_data"
    }
   ],
   "source": [
    "plt.figure(figsize=(20,8))\n",
    "plt.xlabel('Frame # (@30 Hz')\n",
    "plt.ylabel('Steering Angle (deg)')\n",
    "plt.plot(np.arange(len(cmd_steering)), np.degrees(cmd_steering), label='cmd', color='grey')\n",
    "plt.plot(np.arange(len(cmd_steering)), np.degrees(infer_baseline(cmd_steering[1:], cmd_steering[0])), label='smoothing', color='green')\n",
    "plt.plot(np.arange(len(eff_steering[1:])), np.degrees(eff_steering[1:]), label='eff, true', color='black')\n",
    "plt.plot(np.arange(len(preds)), np.degrees(preds), label='GRU v2', color='blue')\n",
    "plt.legend()\n",
    "\n"
   ]
  },
  {
   "cell_type": "code",
   "execution_count": 338,
   "metadata": {},
   "outputs": [
    {
     "data": {
      "text/plain": [
       "<matplotlib.collections.PathCollection at 0x7f8c943e4c70>"
      ]
     },
     "execution_count": 338,
     "metadata": {},
     "output_type": "execute_result"
    },
    {
     "data": {
      "image/png": "[encoded data removed]",
      "text/plain": [
       "<Figure size 432x288 with 1 Axes>"
      ]
     },
     "metadata": {
      "needs_background": "light"
     },
     "output_type": "display_data"
    }
   ],
   "source": [
    "plt.scatter(np.arange(len(learned_initial_hidden_state.squeeze())), learned_initial_hidden_state.squeeze())"
   ]
  }
 ],
 "metadata": {
  "kernelspec": {
   "display_name": "Python 3.9.12 ('e2e')",
   "language": "python",
   "name": "python3"
  },
  "language_info": {
   "codemirror_mode": {
    "name": "ipython",
    "version": 3
   },
   "file_extension": ".py",
   "mimetype": "text/x-python",
   "name": "python",
   "nbconvert_exporter": "python",
   "pygments_lexer": "ipython3",
   "version": "3.9.12"
  },
  "orig_nbformat": 4,
  "vscode": {
   "interpreter": {
    "hash": "322c5c4facabdc6bcc8c78b7959ccdee3ccc8c0dc306e4585416789305ea23e7"
   }
  }
 },
 "nbformat": 4,
 "nbformat_minor": 2
}
