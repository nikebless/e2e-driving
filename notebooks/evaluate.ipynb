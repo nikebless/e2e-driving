{
 "cells": [
  {
   "cell_type": "code",
   "execution_count": 1,
   "metadata": {},
   "outputs": [],
   "source": [
    "import torch\n",
    "import numpy as np\n",
    "\n",
    "import sys\n",
    "from pathlib import Path\n",
    "\n",
    "sys.path.append('/home/nikita/e2e-driving')\n",
    "\n",
    "import time\n",
    "from tqdm.notebook import tqdm\n",
    "import torch.nn.functional as F\n",
    "import math\n",
    "\n",
    "from ibc import optimizers\n",
    "from dataloading.nvidia import NvidiaValidationDataset\n",
    "from metrics.metrics import calculate_open_loop_metrics\n",
    "from pilotnet import PilotnetEBM\n"
   ]
  },
  {
   "cell_type": "code",
   "execution_count": 9,
   "metadata": {},
   "outputs": [],
   "source": [
    "device = torch.device('cuda' if torch.cuda.is_available() else 'cpu')\n",
    "\n",
    "@torch.no_grad()\n",
    "def evaluate(model, dataloader):\n",
    "    model.eval()\n",
    "    all_predictions = []\n",
    "    inference_times = []\n",
    "    progress_bar = tqdm(total=len(dataloader), smoothing=0)\n",
    "\n",
    "    epoch_mae = 0.0\n",
    "    ask_batch_timestamp = time.time()\n",
    "    for i, (input, target, _) in enumerate(dataloader):\n",
    "        recv_batch_timestap = time.time()\n",
    "\n",
    "        inputs = input['image'].to(device)\n",
    "        target = target.to(device, torch.float32)\n",
    "\n",
    "        inference_start = time.perf_counter()\n",
    "        preds, energy = model(inputs)\n",
    "        inference_end = time.perf_counter()\n",
    "\n",
    "        inference_time = inference_end - inference_start\n",
    "        inference_times.append(inference_time)\n",
    "\n",
    "        mae = F.l1_loss(preds, target.view(-1, 1))\n",
    "        mae_degrees = math.degrees(mae.item())\n",
    "        epoch_mae += mae_degrees\n",
    "\n",
    "        all_predictions.extend(preds.cpu().squeeze().numpy())\n",
    "\n",
    "        progress_bar.update(1)\n",
    "        progress_bar.set_description(f'MAE: {(epoch_mae / (i + 1)):.4f}')\n",
    "\n",
    "        ask_batch_timestamp = time.time()\n",
    "\n",
    "    avg_mae = epoch_mae / len(dataloader)\n",
    "    result = np.array(all_predictions)\n",
    "    return avg_mae, result\n",
    "\n",
    "\n",
    "def calculate_metrics(fps, predictions, valid_loader):\n",
    "    '''For steering angle only.'''\n",
    "\n",
    "    frames_df = valid_loader.dataset.frames\n",
    "    true_steering_angles = frames_df.steering_angle.to_numpy()\n",
    "    metrics = calculate_open_loop_metrics(predictions, true_steering_angles, fps=fps)\n",
    "\n",
    "    left_turns = frames_df[\"turn_signal\"] == 0  # TODO: remove magic values\n",
    "    left_metrics = calculate_open_loop_metrics(predictions[left_turns], true_steering_angles[left_turns], fps=fps)\n",
    "    metrics[\"left_mae\"] = left_metrics[\"mae\"]\n",
    "\n",
    "    straight = frames_df[\"turn_signal\"] == 1\n",
    "    straight_metrics = calculate_open_loop_metrics(predictions[straight], true_steering_angles[straight], fps=fps)\n",
    "    metrics[\"straight_mae\"] = straight_metrics[\"mae\"]\n",
    "\n",
    "    right_turns = frames_df[\"turn_signal\"] == 2\n",
    "    right_metrics = calculate_open_loop_metrics(predictions[right_turns], true_steering_angles[right_turns], fps=fps)\n",
    "    metrics[\"right_mae\"] = right_metrics[\"mae\"]\n",
    "\n",
    "    return metrics"
   ]
  },
  {
   "cell_type": "code",
   "execution_count": 6,
   "metadata": {},
   "outputs": [
    {
     "name": "stdout",
     "output_type": "stream",
     "text": [
      "/data/Bolt/dataset-new-small/summer2021/2021-05-28-15-19-48_e2e_sulaoja_20_30: length=10708, filtered=0\n",
      "/data/Bolt/dataset-new-small/summer2021/2021-06-07-14-20-07_e2e_rec_ss6: length=25836, filtered=1\n",
      "/data/Bolt/dataset-new-small/summer2021/2021-06-07-14-06-31_e2e_rec_ss6: length=3003, filtered=0\n",
      "/data/Bolt/dataset-new-small/summer2021/2021-06-07-14-09-18_e2e_rec_ss6: length=4551, filtered=1\n",
      "/data/Bolt/dataset-new-small/summer2021/2021-06-07-14-36-16_e2e_rec_ss6: length=25368, filtered=1\n",
      "/data/Bolt/dataset-new-small/summer2021/2021-09-24-14-03-45_e2e_rec_ss11_backwards: length=25172, filtered=0\n",
      "/data/Bolt/dataset-new-small/summer2021/2021-10-26-10-49-06_e2e_rec_ss20_elva: length=33045, filtered=0\n",
      "/data/Bolt/dataset-new-small/summer2021/2021-10-26-11-08-59_e2e_rec_ss20_elva_back: length=33281, filtered=0\n",
      "/data/Bolt/dataset-new-small/summer2021/2021-10-20-15-11-29_e2e_rec_vastse_ss13_17_back: length=26763, filtered=0\n",
      "/data/Bolt/dataset-new-small/summer2021/2021-10-11-14-50-59_e2e_rec_vahi: length=21211, filtered=2\n",
      "/data/Bolt/dataset-new-small/summer2021/2021-10-14-13-08-51_e2e_rec_vahi_backwards: length=13442, filtered=0\n"
     ]
    }
   ],
   "source": [
    "dataset_path = '/data/Bolt/dataset-new-small/summer2021'\n",
    "output_modality = 'steering_angle'\n",
    "n_branches = 1\n",
    "n_waypoints = 1\n",
    "batch_size = 256\n",
    "num_workers = 8\n",
    "\n",
    "validset = NvidiaValidationDataset(Path(dataset_path), output_modality, n_branches, n_waypoints=1, group_size=1)\n",
    "valid_loader = torch.utils.data.DataLoader(validset, batch_size=batch_size, shuffle=False,\n",
    "                                          num_workers=num_workers, pin_memory=True,\n",
    "                                          persistent_workers=True)"
   ]
  },
  {
   "cell_type": "code",
   "execution_count": 14,
   "metadata": {},
   "outputs": [],
   "source": [
    "pt_model_path = '/home/nikita/e2e-driving/models/20220618185552_steering-angle/last.pt'\n",
    "\n",
    "def evaluate_model(constant_actions=False, **kwargs):\n",
    "  model = PilotnetEBM()\n",
    "  inference_model = optimizers.DFOptimizerConst if constant_actions else optimizers.DFOptimizer\n",
    "  model = inference_model(model, optimizers.DerivativeFreeConfig(**kwargs))\n",
    "  model.load_state_dict(torch.load(pt_model_path))\n",
    "  model.to(device)\n",
    "  mae, preds = evaluate(model, valid_loader)\n",
    "\n",
    "  return mae, preds"
   ]
  },
  {
   "cell_type": "code",
   "execution_count": 7,
   "metadata": {},
   "outputs": [
    {
     "name": "stdout",
     "output_type": "stream",
     "text": [
      "torch.Size([1, 3, 68, 264])\n"
     ]
    }
   ],
   "source": [
    "inputs = iter(valid_loader).next()[0]['image'][0].unsqueeze(0).to(device)\n",
    "print(inputs.shape)"
   ]
  },
  {
   "cell_type": "code",
   "execution_count": 15,
   "metadata": {},
   "outputs": [
    {
     "data": {
      "text/html": [
       "Tracking run with wandb version 0.12.21"
      ],
      "text/plain": [
       "<IPython.core.display.HTML object>"
      ]
     },
     "metadata": {},
     "output_type": "display_data"
    },
    {
     "data": {
      "text/html": [
       "Run data is saved locally in <code>/home/nikita/e2e-driving/notebooks/wandb/run-20220802_103412-2fwpthhc</code>"
      ],
      "text/plain": [
       "<IPython.core.display.HTML object>"
      ]
     },
     "metadata": {},
     "output_type": "display_data"
    },
    {
     "data": {
      "text/html": [
       "Syncing run <strong><a href=\"https://wandb.ai/nikebless-thesis/ibc-tuning/runs/2fwpthhc\" target=\"_blank\">1024s0it</a></strong> to <a href=\"https://wandb.ai/nikebless-thesis/ibc-tuning\" target=\"_blank\">Weights & Biases</a> (<a href=\"https://wandb.me/run\" target=\"_blank\">docs</a>)<br/>"
      ],
      "text/plain": [
       "<IPython.core.display.HTML object>"
      ]
     },
     "metadata": {},
     "output_type": "display_data"
    },
    {
     "name": "stderr",
     "output_type": "stream",
     "text": [
      "WARNING:root:inference_samples is not equal to train_samples, which will likely cause poor performance when using constant samples\n"
     ]
    },
    {
     "name": "stdout",
     "output_type": "stream",
     "text": [
      "running experiment 1/1. samples: 1024, iters: 0\n"
     ]
    },
    {
     "data": {
      "application/vnd.jupyter.widget-view+json": {
       "model_id": "a211df907b98494e80e6fc9afce0474d",
       "version_major": 2,
       "version_minor": 0
      },
      "text/plain": [
       "  0%|          | 0/869 [00:00<?, ?it/s]"
      ]
     },
     "metadata": {},
     "output_type": "display_data"
    },
    {
     "name": "stdout",
     "output_type": "stream",
     "text": [
      "experiment metrics:\n",
      "\"{'mae': 8.361593943192089, 'rmse': 33.65489972678105, 'max': 921.8890671983361, 'whiteness': 634.46564, 'expert_whiteness': 25.61257234059799, 'left_mae': 42.129001539884996, 'straight_mae': 5.378298346175109, 'right_mae': 78.43601723044296, '_timestamp': 1659425774, '_runtime': 122}\"\n",
      "\n"
     ]
    }
   ],
   "source": [
    "import itertools\n",
    "import json\n",
    "import wandb\n",
    "\n",
    "fps = 30\n",
    "\n",
    "samples = [1024]\n",
    "iters = [0]\n",
    "constant_actions = [True]\n",
    "\n",
    "run_hparams = list(itertools.product(samples, iters, constant_actions))\n",
    "\n",
    "for idx, (samples, iters, constant_actions) in enumerate(run_hparams):\n",
    "    wandb.init(project=\"ibc-tuning\", name=f'{samples}s{iters}it', config={\"samples\": samples, \"iters\": iters, \"model_path\": pt_model_path, \"constant_actions\": constant_actions})\n",
    "\n",
    "    print(f'running experiment {idx+1}/{len(run_hparams)}. samples: {samples}, iters: {iters}')\n",
    "    mae, preds = evaluate_model(constant_actions=constant_actions, inference_samples=samples, iters=iters)\n",
    "    metrics = calculate_metrics(fps, preds, valid_loader)\n",
    "    wandb.log(metrics)\n",
    "    print('experiment metrics:')\n",
    "    print(json.dumps(str(metrics), indent=2))\n",
    "    print()"
   ]
  },
  {
   "cell_type": "code",
   "execution_count": null,
   "metadata": {},
   "outputs": [],
   "source": []
  }
 ],
 "metadata": {
  "kernelspec": {
   "display_name": "Python 3.8.10 ('e2e')",
   "language": "python",
   "name": "python3"
  },
  "language_info": {
   "codemirror_mode": {
    "name": "ipython",
    "version": 3
   },
   "file_extension": ".py",
   "mimetype": "text/x-python",
   "name": "python",
   "nbconvert_exporter": "python",
   "pygments_lexer": "ipython3",
   "version": "3.9.12"
  },
  "orig_nbformat": 4,
  "vscode": {
   "interpreter": {
    "hash": "322c5c4facabdc6bcc8c78b7959ccdee3ccc8c0dc306e4585416789305ea23e7"
   }
  }
 },
 "nbformat": 4,
 "nbformat_minor": 2
}
