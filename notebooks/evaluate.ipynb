{
 "cells": [
  {
   "cell_type": "code",
   "execution_count": 4,
   "metadata": {},
   "outputs": [
    {
     "name": "stdout",
     "output_type": "stream",
     "text": [
      "1\n"
     ]
    }
   ],
   "source": [
    "import torch\n",
    "import os\n",
    "os.environ[\"CUDA_VISIBLE_DEVICES\"] = \"1\" \n",
    "print(torch.cuda.device_count())  # print 1\n",
    "\n",
    "import numpy as np\n",
    "\n",
    "import sys\n",
    "from pathlib import Path\n",
    "\n",
    "sys.path.append('/home/nikita/e2e-driving')\n",
    "\n",
    "import time\n",
    "from tqdm.notebook import tqdm\n",
    "import torch.nn.functional as F\n",
    "from torch.distributions import Categorical\n",
    "import math\n",
    "\n",
    "from ebm import optimizers\n",
    "from dataloading.nvidia import NvidiaValidationDataset\n",
    "from metrics.metrics import calculate_open_loop_metrics\n",
    "from pilotnet import PilotnetEBM\n",
    "import pandas as pd\n"
   ]
  },
  {
   "cell_type": "code",
   "execution_count": 5,
   "metadata": {},
   "outputs": [],
   "source": [
    "device = torch.device('cuda' if torch.cuda.is_available() else 'cpu')\n",
    "\n",
    "@torch.no_grad()\n",
    "def evaluate(model, dataloader, dfo_reorder=False):\n",
    "    model.eval()\n",
    "    all_predictions = []\n",
    "    inference_times = []\n",
    "    progress_bar = tqdm(total=len(dataloader), smoothing=0)\n",
    "\n",
    "    epoch_mae = 0.0\n",
    "    epoch_entropy = 0.0\n",
    "    ask_batch_timestamp = time.time()\n",
    "    for i, (input, target, _) in enumerate(dataloader):\n",
    "        recv_batch_timestap = time.time()\n",
    "\n",
    "        inputs = input['image'].to(device)\n",
    "        target = target.to(device, torch.float32)\n",
    "\n",
    "        inference_start = time.perf_counter()\n",
    "        preds, energy = model(inputs, dfo_reorder=False)\n",
    "        inference_end = time.perf_counter()\n",
    "\n",
    "        inference_time = inference_end - inference_start\n",
    "        inference_times.append(inference_time)\n",
    "\n",
    "        mae = F.l1_loss(preds, target.view(-1, 1))\n",
    "        mae_degrees = math.degrees(mae.item())\n",
    "        epoch_mae += mae_degrees\n",
    "\n",
    "        entropy = Categorical(F.softmax(-energy, dim=-1)).entropy().mean() / math.log(energy.shape[-1])\n",
    "        epoch_entropy += entropy.item()\n",
    "\n",
    "        all_predictions.extend(preds.cpu().squeeze().numpy())\n",
    "\n",
    "        progress_bar.update(1)\n",
    "        progress_bar.set_description(f'MAE: {(epoch_mae / (i + 1)):.4f} | Entropy: {(epoch_entropy / (i + 1)):.4f}')\n",
    "\n",
    "        ask_batch_timestamp = time.time()\n",
    "\n",
    "    avg_mae = epoch_mae / len(dataloader)\n",
    "    avg_entropy = epoch_entropy / len(dataloader)\n",
    "    result = np.array(all_predictions)\n",
    "    return avg_mae, avg_entropy, result\n",
    "\n",
    "\n",
    "def calculate_metrics(fps, predictions, valid_loader):\n",
    "    '''For steering angle only.'''\n",
    "\n",
    "    frames_df = valid_loader.dataset.frames\n",
    "    true_steering_angles = frames_df.steering_angle.to_numpy()\n",
    "    metrics = calculate_open_loop_metrics(predictions, true_steering_angles, fps=fps)\n",
    "    return metrics"
   ]
  },
  {
   "cell_type": "code",
   "execution_count": 6,
   "metadata": {},
   "outputs": [
    {
     "name": "stdout",
     "output_type": "stream",
     "text": [
      "/data/Bolt/dataset-new-small/summer2021/2021-05-28-15-19-48_e2e_sulaoja_20_30: length=10708, filtered=0\n",
      "/data/Bolt/dataset-new-small/summer2021/2021-06-07-14-20-07_e2e_rec_ss6: length=25836, filtered=1\n",
      "/data/Bolt/dataset-new-small/summer2021/2021-06-07-14-06-31_e2e_rec_ss6: length=3003, filtered=0\n",
      "/data/Bolt/dataset-new-small/summer2021/2021-06-07-14-09-18_e2e_rec_ss6: length=4551, filtered=1\n",
      "/data/Bolt/dataset-new-small/summer2021/2021-06-07-14-36-16_e2e_rec_ss6: length=25368, filtered=1\n",
      "/data/Bolt/dataset-new-small/summer2021/2021-09-24-14-03-45_e2e_rec_ss11_backwards: length=25172, filtered=0\n",
      "/data/Bolt/dataset-new-small/summer2021/2021-10-26-10-49-06_e2e_rec_ss20_elva: length=33045, filtered=0\n",
      "/data/Bolt/dataset-new-small/summer2021/2021-10-26-11-08-59_e2e_rec_ss20_elva_back: length=33281, filtered=0\n",
      "/data/Bolt/dataset-new-small/summer2021/2021-10-20-15-11-29_e2e_rec_vastse_ss13_17_back: length=26763, filtered=0\n",
      "/data/Bolt/dataset-new-small/summer2021/2021-10-11-14-50-59_e2e_rec_vahi: length=21211, filtered=2\n",
      "/data/Bolt/dataset-new-small/summer2021/2021-10-14-13-08-51_e2e_rec_vahi_backwards: length=13442, filtered=0\n"
     ]
    }
   ],
   "source": [
    "dataset_path = '/data/Bolt/dataset-new-small/summer2021'\n",
    "batch_size = 256\n",
    "num_workers = 8\n",
    "\n",
    "validset = NvidiaValidationDataset(Path(dataset_path), group_size=1)\n",
    "valid_loader = torch.utils.data.DataLoader(validset, batch_size=batch_size, shuffle=False,\n",
    "                                          num_workers=num_workers, pin_memory=True,\n",
    "                                          persistent_workers=True)"
   ]
  },
  {
   "cell_type": "code",
   "execution_count": 7,
   "metadata": {},
   "outputs": [],
   "source": [
    "pt_model_path = '/home/nikita/e2e-driving/models/20220618185552_steering-angle/last.pt'\n",
    "\n",
    "def evaluate_model(constant_actions=False, dfo_reorder=False, **kwargs):\n",
    "  model = PilotnetEBM()\n",
    "  inference_model = optimizers.DFOptimizerConst if constant_actions else optimizers.DFOptimizer\n",
    "  model = inference_model(model, optimizers.DerivativeFreeConfig(**kwargs))\n",
    "  model.load_state_dict(torch.load(pt_model_path))\n",
    "  model.to(device)\n",
    "  mae, entropy, preds = evaluate(model, valid_loader, dfo_reorder=dfo_reorder)\n",
    "\n",
    "  return mae, entropy, preds"
   ]
  },
  {
   "cell_type": "code",
   "execution_count": 8,
   "metadata": {},
   "outputs": [
    {
     "name": "stdout",
     "output_type": "stream",
     "text": [
      "torch.Size([1, 3, 68, 264])\n"
     ]
    }
   ],
   "source": [
    "inputs = iter(valid_loader).next()[0]['image'][0].unsqueeze(0).to(device)\n",
    "print(inputs.shape)"
   ]
  },
  {
   "cell_type": "code",
   "execution_count": 11,
   "metadata": {},
   "outputs": [
    {
     "data": {
      "text/html": [
       "Finishing last run (ID:39m5e8ol) before initializing another..."
      ],
      "text/plain": [
       "<IPython.core.display.HTML object>"
      ]
     },
     "metadata": {},
     "output_type": "display_data"
    },
    {
     "data": {
      "text/html": [
       "Waiting for W&B process to finish... <strong style=\"color:green\">(success).</strong>"
      ],
      "text/plain": [
       "<IPython.core.display.HTML object>"
      ]
     },
     "metadata": {},
     "output_type": "display_data"
    },
    {
     "data": {
      "application/vnd.jupyter.widget-view+json": {
       "model_id": "576054ea077d4958a435f492472234f4",
       "version_major": 2,
       "version_minor": 0
      },
      "text/plain": [
       "VBox(children=(Label(value='6.044 MB of 6.044 MB uploaded (0.000 MB deduped)\\r'), FloatProgress(value=1.0, max…"
      ]
     },
     "metadata": {},
     "output_type": "display_data"
    },
    {
     "data": {
      "text/html": [
       "Synced <strong style=\"color:#cdcd00\">1024s3it</strong>: <a href=\"https://wandb.ai/nikebless-thesis/ibc-tuning/runs/39m5e8ol\" target=\"_blank\">https://wandb.ai/nikebless-thesis/ibc-tuning/runs/39m5e8ol</a><br/>Synced 7 W&B file(s), 0 media file(s), 0 artifact file(s) and 1 other file(s)"
      ],
      "text/plain": [
       "<IPython.core.display.HTML object>"
      ]
     },
     "metadata": {},
     "output_type": "display_data"
    },
    {
     "data": {
      "text/html": [
       "Find logs at: <code>./wandb/run-20220808_132002-39m5e8ol/logs</code>"
      ],
      "text/plain": [
       "<IPython.core.display.HTML object>"
      ]
     },
     "metadata": {},
     "output_type": "display_data"
    },
    {
     "data": {
      "text/html": [
       "Successfully finished last run (ID:39m5e8ol). Initializing new run:<br/>"
      ],
      "text/plain": [
       "<IPython.core.display.HTML object>"
      ]
     },
     "metadata": {},
     "output_type": "display_data"
    },
    {
     "data": {
      "text/html": [
       "wandb version 0.13.1 is available!  To upgrade, please run:\n",
       " $ pip install wandb --upgrade"
      ],
      "text/plain": [
       "<IPython.core.display.HTML object>"
      ]
     },
     "metadata": {},
     "output_type": "display_data"
    },
    {
     "data": {
      "text/html": [
       "Tracking run with wandb version 0.12.21"
      ],
      "text/plain": [
       "<IPython.core.display.HTML object>"
      ]
     },
     "metadata": {},
     "output_type": "display_data"
    },
    {
     "data": {
      "text/html": [
       "Run data is saved locally in <code>/home/nikita/e2e-driving/notebooks/wandb/run-20220808_132026-19wbbex4</code>"
      ],
      "text/plain": [
       "<IPython.core.display.HTML object>"
      ]
     },
     "metadata": {},
     "output_type": "display_data"
    },
    {
     "data": {
      "text/html": [
       "Syncing run <strong><a href=\"https://wandb.ai/nikebless-thesis/ibc-tuning/runs/19wbbex4\" target=\"_blank\">1024s3it</a></strong> to <a href=\"https://wandb.ai/nikebless-thesis/ibc-tuning\" target=\"_blank\">Weights & Biases</a> (<a href=\"https://wandb.me/run\" target=\"_blank\">docs</a>)<br/>"
      ],
      "text/plain": [
       "<IPython.core.display.HTML object>"
      ]
     },
     "metadata": {},
     "output_type": "display_data"
    },
    {
     "name": "stdout",
     "output_type": "stream",
     "text": [
      "running experiment 1/4. samples: 1024, iters: 3\n"
     ]
    },
    {
     "data": {
      "application/vnd.jupyter.widget-view+json": {
       "model_id": "ec07015d12c1446498b8090cfec0fb7f",
       "version_major": 2,
       "version_minor": 0
      },
      "text/plain": [
       "  0%|          | 0/869 [00:00<?, ?it/s]"
      ]
     },
     "metadata": {},
     "output_type": "display_data"
    },
    {
     "name": "stdout",
     "output_type": "stream",
     "text": [
      "experiment metrics:\n",
      "\"{'mae': 8.043990276034657, 'rmse': 27.661250920183427, 'max': 718.4823656119165, 'whiteness': 384.7091, 'expert_whiteness': 25.61257234059799, 'entropy': 0.9686547157679384, '_timestamp': 1659955012, '_runtime': 981}\"\n",
      "\n"
     ]
    },
    {
     "data": {
      "text/html": [
       "Waiting for W&B process to finish... <strong style=\"color:green\">(success).</strong>"
      ],
      "text/plain": [
       "<IPython.core.display.HTML object>"
      ]
     },
     "metadata": {},
     "output_type": "display_data"
    },
    {
     "data": {
      "application/vnd.jupyter.widget-view+json": {
       "model_id": "95a7f0b0893341f984afb7c32e5ff80c",
       "version_major": 2,
       "version_minor": 0
      },
      "text/plain": [
       "VBox(children=(Label(value='6.044 MB of 6.044 MB uploaded (0.000 MB deduped)\\r'), FloatProgress(value=1.0, max…"
      ]
     },
     "metadata": {},
     "output_type": "display_data"
    },
    {
     "data": {
      "text/html": [
       "<style>\n",
       "    table.wandb td:nth-child(1) { padding: 0 10px; text-align: left ; width: auto;} td:nth-child(2) {text-align: left ; width: 100%}\n",
       "    .wandb-row { display: flex; flex-direction: row; flex-wrap: wrap; justify-content: flex-start; width: 100% }\n",
       "    .wandb-col { display: flex; flex-direction: column; flex-basis: 100%; flex: 1; padding: 10px; }\n",
       "    </style>\n",
       "<div class=\"wandb-row\"><div class=\"wandb-col\"><h3>Run history:</h3><br/><table class=\"wandb\"><tr><td>entropy</td><td>▁</td></tr><tr><td>expert_whiteness</td><td>▁</td></tr><tr><td>mae</td><td>▁</td></tr><tr><td>max</td><td>▁</td></tr><tr><td>rmse</td><td>▁</td></tr><tr><td>whiteness</td><td>▁</td></tr></table><br/></div><div class=\"wandb-col\"><h3>Run summary:</h3><br/><table class=\"wandb\"><tr><td>entropy</td><td>0.96865</td></tr><tr><td>expert_whiteness</td><td>25.61257</td></tr><tr><td>mae</td><td>8.04399</td></tr><tr><td>max</td><td>718.48237</td></tr><tr><td>rmse</td><td>27.66125</td></tr><tr><td>whiteness</td><td>384.70911</td></tr></table><br/></div></div>"
      ],
      "text/plain": [
       "<IPython.core.display.HTML object>"
      ]
     },
     "metadata": {},
     "output_type": "display_data"
    },
    {
     "data": {
      "text/html": [
       "Synced <strong style=\"color:#cdcd00\">1024s3it</strong>: <a href=\"https://wandb.ai/nikebless-thesis/ibc-tuning/runs/19wbbex4\" target=\"_blank\">https://wandb.ai/nikebless-thesis/ibc-tuning/runs/19wbbex4</a><br/>Synced 7 W&B file(s), 0 media file(s), 0 artifact file(s) and 0 other file(s)"
      ],
      "text/plain": [
       "<IPython.core.display.HTML object>"
      ]
     },
     "metadata": {},
     "output_type": "display_data"
    },
    {
     "data": {
      "text/html": [
       "Find logs at: <code>./wandb/run-20220808_132026-19wbbex4/logs</code>"
      ],
      "text/plain": [
       "<IPython.core.display.HTML object>"
      ]
     },
     "metadata": {},
     "output_type": "display_data"
    },
    {
     "data": {
      "text/html": [
       "wandb version 0.13.1 is available!  To upgrade, please run:\n",
       " $ pip install wandb --upgrade"
      ],
      "text/plain": [
       "<IPython.core.display.HTML object>"
      ]
     },
     "metadata": {},
     "output_type": "display_data"
    },
    {
     "data": {
      "text/html": [
       "Tracking run with wandb version 0.12.21"
      ],
      "text/plain": [
       "<IPython.core.display.HTML object>"
      ]
     },
     "metadata": {},
     "output_type": "display_data"
    },
    {
     "data": {
      "text/html": [
       "Run data is saved locally in <code>/home/nikita/e2e-driving/notebooks/wandb/run-20220808_133659-2joyz6et</code>"
      ],
      "text/plain": [
       "<IPython.core.display.HTML object>"
      ]
     },
     "metadata": {},
     "output_type": "display_data"
    },
    {
     "data": {
      "text/html": [
       "Syncing run <strong><a href=\"https://wandb.ai/nikebless-thesis/ibc-tuning/runs/2joyz6et\" target=\"_blank\">1024s3it</a></strong> to <a href=\"https://wandb.ai/nikebless-thesis/ibc-tuning\" target=\"_blank\">Weights & Biases</a> (<a href=\"https://wandb.me/run\" target=\"_blank\">docs</a>)<br/>"
      ],
      "text/plain": [
       "<IPython.core.display.HTML object>"
      ]
     },
     "metadata": {},
     "output_type": "display_data"
    },
    {
     "name": "stdout",
     "output_type": "stream",
     "text": [
      "running experiment 2/4. samples: 1024, iters: 3\n"
     ]
    },
    {
     "data": {
      "application/vnd.jupyter.widget-view+json": {
       "model_id": "dcd1c8e56e604d06b01e3d6fbf0b85b3",
       "version_major": 2,
       "version_minor": 0
      },
      "text/plain": [
       "  0%|          | 0/869 [00:00<?, ?it/s]"
      ]
     },
     "metadata": {},
     "output_type": "display_data"
    },
    {
     "name": "stdout",
     "output_type": "stream",
     "text": [
      "experiment metrics:\n",
      "\"{'mae': 8.045367902792977, 'rmse': 27.66904965824609, 'max': 718.4823656119165, 'whiteness': 384.82556, 'expert_whiteness': 25.61257234059799, 'entropy': 0.9686635664060832, '_timestamp': 1659955619, '_runtime': 600}\"\n",
      "\n"
     ]
    },
    {
     "data": {
      "text/html": [
       "Waiting for W&B process to finish... <strong style=\"color:green\">(success).</strong>"
      ],
      "text/plain": [
       "<IPython.core.display.HTML object>"
      ]
     },
     "metadata": {},
     "output_type": "display_data"
    },
    {
     "data": {
      "application/vnd.jupyter.widget-view+json": {
       "model_id": "c0eac09807414a0f888e67d5f95eac61",
       "version_major": 2,
       "version_minor": 0
      },
      "text/plain": [
       "VBox(children=(Label(value='6.044 MB of 6.044 MB uploaded (0.000 MB deduped)\\r'), FloatProgress(value=1.0, max…"
      ]
     },
     "metadata": {},
     "output_type": "display_data"
    },
    {
     "data": {
      "text/html": [
       "<style>\n",
       "    table.wandb td:nth-child(1) { padding: 0 10px; text-align: left ; width: auto;} td:nth-child(2) {text-align: left ; width: 100%}\n",
       "    .wandb-row { display: flex; flex-direction: row; flex-wrap: wrap; justify-content: flex-start; width: 100% }\n",
       "    .wandb-col { display: flex; flex-direction: column; flex-basis: 100%; flex: 1; padding: 10px; }\n",
       "    </style>\n",
       "<div class=\"wandb-row\"><div class=\"wandb-col\"><h3>Run history:</h3><br/><table class=\"wandb\"><tr><td>entropy</td><td>▁</td></tr><tr><td>expert_whiteness</td><td>▁</td></tr><tr><td>mae</td><td>▁</td></tr><tr><td>max</td><td>▁</td></tr><tr><td>rmse</td><td>▁</td></tr><tr><td>whiteness</td><td>▁</td></tr></table><br/></div><div class=\"wandb-col\"><h3>Run summary:</h3><br/><table class=\"wandb\"><tr><td>entropy</td><td>0.96866</td></tr><tr><td>expert_whiteness</td><td>25.61257</td></tr><tr><td>mae</td><td>8.04537</td></tr><tr><td>max</td><td>718.48237</td></tr><tr><td>rmse</td><td>27.66905</td></tr><tr><td>whiteness</td><td>384.82556</td></tr></table><br/></div></div>"
      ],
      "text/plain": [
       "<IPython.core.display.HTML object>"
      ]
     },
     "metadata": {},
     "output_type": "display_data"
    },
    {
     "data": {
      "text/html": [
       "Synced <strong style=\"color:#cdcd00\">1024s3it</strong>: <a href=\"https://wandb.ai/nikebless-thesis/ibc-tuning/runs/2joyz6et\" target=\"_blank\">https://wandb.ai/nikebless-thesis/ibc-tuning/runs/2joyz6et</a><br/>Synced 7 W&B file(s), 0 media file(s), 0 artifact file(s) and 1 other file(s)"
      ],
      "text/plain": [
       "<IPython.core.display.HTML object>"
      ]
     },
     "metadata": {},
     "output_type": "display_data"
    },
    {
     "data": {
      "text/html": [
       "Find logs at: <code>./wandb/run-20220808_133659-2joyz6et/logs</code>"
      ],
      "text/plain": [
       "<IPython.core.display.HTML object>"
      ]
     },
     "metadata": {},
     "output_type": "display_data"
    },
    {
     "data": {
      "text/html": [
       "wandb version 0.13.1 is available!  To upgrade, please run:\n",
       " $ pip install wandb --upgrade"
      ],
      "text/plain": [
       "<IPython.core.display.HTML object>"
      ]
     },
     "metadata": {},
     "output_type": "display_data"
    },
    {
     "data": {
      "text/html": [
       "Tracking run with wandb version 0.12.21"
      ],
      "text/plain": [
       "<IPython.core.display.HTML object>"
      ]
     },
     "metadata": {},
     "output_type": "display_data"
    },
    {
     "data": {
      "text/html": [
       "Run data is saved locally in <code>/home/nikita/e2e-driving/notebooks/wandb/run-20220808_134706-h90gs6rn</code>"
      ],
      "text/plain": [
       "<IPython.core.display.HTML object>"
      ]
     },
     "metadata": {},
     "output_type": "display_data"
    },
    {
     "data": {
      "text/html": [
       "Syncing run <strong><a href=\"https://wandb.ai/nikebless-thesis/ibc-tuning/runs/h90gs6rn\" target=\"_blank\">1024s0it</a></strong> to <a href=\"https://wandb.ai/nikebless-thesis/ibc-tuning\" target=\"_blank\">Weights & Biases</a> (<a href=\"https://wandb.me/run\" target=\"_blank\">docs</a>)<br/>"
      ],
      "text/plain": [
       "<IPython.core.display.HTML object>"
      ]
     },
     "metadata": {},
     "output_type": "display_data"
    },
    {
     "name": "stdout",
     "output_type": "stream",
     "text": [
      "running experiment 3/4. samples: 1024, iters: 0\n"
     ]
    },
    {
     "data": {
      "application/vnd.jupyter.widget-view+json": {
       "model_id": "7d06717de5a8496ba870193f5705c4d2",
       "version_major": 2,
       "version_minor": 0
      },
      "text/plain": [
       "  0%|          | 0/869 [00:00<?, ?it/s]"
      ]
     },
     "metadata": {},
     "output_type": "display_data"
    },
    {
     "name": "stdout",
     "output_type": "stream",
     "text": [
      "experiment metrics:\n",
      "\"{'mae': 8.022325578902462, 'rmse': 27.678917181830933, 'max': 717.7423753775415, 'whiteness': 383.50488, 'expert_whiteness': 25.61257234059799, 'entropy': 0.5582352387274093, '_timestamp': 1659955794, '_runtime': 168}\"\n",
      "\n"
     ]
    },
    {
     "data": {
      "text/html": [
       "Waiting for W&B process to finish... <strong style=\"color:green\">(success).</strong>"
      ],
      "text/plain": [
       "<IPython.core.display.HTML object>"
      ]
     },
     "metadata": {},
     "output_type": "display_data"
    },
    {
     "data": {
      "application/vnd.jupyter.widget-view+json": {
       "model_id": "f1f7b5439b5d4420b7a2d721b3e0ace3",
       "version_major": 2,
       "version_minor": 0
      },
      "text/plain": [
       "VBox(children=(Label(value='6.044 MB of 6.044 MB uploaded (0.000 MB deduped)\\r'), FloatProgress(value=1.0, max…"
      ]
     },
     "metadata": {},
     "output_type": "display_data"
    },
    {
     "data": {
      "text/html": [
       "<style>\n",
       "    table.wandb td:nth-child(1) { padding: 0 10px; text-align: left ; width: auto;} td:nth-child(2) {text-align: left ; width: 100%}\n",
       "    .wandb-row { display: flex; flex-direction: row; flex-wrap: wrap; justify-content: flex-start; width: 100% }\n",
       "    .wandb-col { display: flex; flex-direction: column; flex-basis: 100%; flex: 1; padding: 10px; }\n",
       "    </style>\n",
       "<div class=\"wandb-row\"><div class=\"wandb-col\"><h3>Run history:</h3><br/><table class=\"wandb\"><tr><td>entropy</td><td>▁</td></tr><tr><td>expert_whiteness</td><td>▁</td></tr><tr><td>mae</td><td>▁</td></tr><tr><td>max</td><td>▁</td></tr><tr><td>rmse</td><td>▁</td></tr><tr><td>whiteness</td><td>▁</td></tr></table><br/></div><div class=\"wandb-col\"><h3>Run summary:</h3><br/><table class=\"wandb\"><tr><td>entropy</td><td>0.55824</td></tr><tr><td>expert_whiteness</td><td>25.61257</td></tr><tr><td>mae</td><td>8.02233</td></tr><tr><td>max</td><td>717.74238</td></tr><tr><td>rmse</td><td>27.67892</td></tr><tr><td>whiteness</td><td>383.50488</td></tr></table><br/></div></div>"
      ],
      "text/plain": [
       "<IPython.core.display.HTML object>"
      ]
     },
     "metadata": {},
     "output_type": "display_data"
    },
    {
     "data": {
      "text/html": [
       "Synced <strong style=\"color:#cdcd00\">1024s0it</strong>: <a href=\"https://wandb.ai/nikebless-thesis/ibc-tuning/runs/h90gs6rn\" target=\"_blank\">https://wandb.ai/nikebless-thesis/ibc-tuning/runs/h90gs6rn</a><br/>Synced 7 W&B file(s), 0 media file(s), 0 artifact file(s) and 1 other file(s)"
      ],
      "text/plain": [
       "<IPython.core.display.HTML object>"
      ]
     },
     "metadata": {},
     "output_type": "display_data"
    },
    {
     "data": {
      "text/html": [
       "Find logs at: <code>./wandb/run-20220808_134706-h90gs6rn/logs</code>"
      ],
      "text/plain": [
       "<IPython.core.display.HTML object>"
      ]
     },
     "metadata": {},
     "output_type": "display_data"
    },
    {
     "data": {
      "text/html": [
       "wandb version 0.13.1 is available!  To upgrade, please run:\n",
       " $ pip install wandb --upgrade"
      ],
      "text/plain": [
       "<IPython.core.display.HTML object>"
      ]
     },
     "metadata": {},
     "output_type": "display_data"
    },
    {
     "data": {
      "text/html": [
       "Tracking run with wandb version 0.12.21"
      ],
      "text/plain": [
       "<IPython.core.display.HTML object>"
      ]
     },
     "metadata": {},
     "output_type": "display_data"
    },
    {
     "data": {
      "text/html": [
       "Run data is saved locally in <code>/home/nikita/e2e-driving/notebooks/wandb/run-20220808_134959-3jaaytf1</code>"
      ],
      "text/plain": [
       "<IPython.core.display.HTML object>"
      ]
     },
     "metadata": {},
     "output_type": "display_data"
    },
    {
     "data": {
      "text/html": [
       "Syncing run <strong><a href=\"https://wandb.ai/nikebless-thesis/ibc-tuning/runs/3jaaytf1\" target=\"_blank\">1024s0it</a></strong> to <a href=\"https://wandb.ai/nikebless-thesis/ibc-tuning\" target=\"_blank\">Weights & Biases</a> (<a href=\"https://wandb.me/run\" target=\"_blank\">docs</a>)<br/>"
      ],
      "text/plain": [
       "<IPython.core.display.HTML object>"
      ]
     },
     "metadata": {},
     "output_type": "display_data"
    },
    {
     "name": "stdout",
     "output_type": "stream",
     "text": [
      "running experiment 4/4. samples: 1024, iters: 0\n"
     ]
    },
    {
     "data": {
      "application/vnd.jupyter.widget-view+json": {
       "model_id": "54952073eec14fe185783a157127fca2",
       "version_major": 2,
       "version_minor": 0
      },
      "text/plain": [
       "  0%|          | 0/869 [00:00<?, ?it/s]"
      ]
     },
     "metadata": {},
     "output_type": "display_data"
    },
    {
     "name": "stdout",
     "output_type": "stream",
     "text": [
      "experiment metrics:\n",
      "\"{'mae': 8.01759233223066, 'rmse': 27.647336869973067, 'max': 718.3598985709009, 'whiteness': 383.9023, 'expert_whiteness': 25.61257234059799, 'entropy': 0.5581876525464623, '_timestamp': 1659955942, '_runtime': 143}\"\n",
      "\n"
     ]
    },
    {
     "data": {
      "text/html": [
       "Waiting for W&B process to finish... <strong style=\"color:green\">(success).</strong>"
      ],
      "text/plain": [
       "<IPython.core.display.HTML object>"
      ]
     },
     "metadata": {},
     "output_type": "display_data"
    },
    {
     "data": {
      "application/vnd.jupyter.widget-view+json": {
       "model_id": "8110e517ca574ea9b89f9f7a753e6881",
       "version_major": 2,
       "version_minor": 0
      },
      "text/plain": [
       "VBox(children=(Label(value='6.044 MB of 6.044 MB uploaded (0.000 MB deduped)\\r'), FloatProgress(value=1.0, max…"
      ]
     },
     "metadata": {},
     "output_type": "display_data"
    },
    {
     "data": {
      "text/html": [
       "<style>\n",
       "    table.wandb td:nth-child(1) { padding: 0 10px; text-align: left ; width: auto;} td:nth-child(2) {text-align: left ; width: 100%}\n",
       "    .wandb-row { display: flex; flex-direction: row; flex-wrap: wrap; justify-content: flex-start; width: 100% }\n",
       "    .wandb-col { display: flex; flex-direction: column; flex-basis: 100%; flex: 1; padding: 10px; }\n",
       "    </style>\n",
       "<div class=\"wandb-row\"><div class=\"wandb-col\"><h3>Run history:</h3><br/><table class=\"wandb\"><tr><td>entropy</td><td>▁</td></tr><tr><td>expert_whiteness</td><td>▁</td></tr><tr><td>mae</td><td>▁</td></tr><tr><td>max</td><td>▁</td></tr><tr><td>rmse</td><td>▁</td></tr><tr><td>whiteness</td><td>▁</td></tr></table><br/></div><div class=\"wandb-col\"><h3>Run summary:</h3><br/><table class=\"wandb\"><tr><td>entropy</td><td>0.55819</td></tr><tr><td>expert_whiteness</td><td>25.61257</td></tr><tr><td>mae</td><td>8.01759</td></tr><tr><td>max</td><td>718.3599</td></tr><tr><td>rmse</td><td>27.64734</td></tr><tr><td>whiteness</td><td>383.90231</td></tr></table><br/></div></div>"
      ],
      "text/plain": [
       "<IPython.core.display.HTML object>"
      ]
     },
     "metadata": {},
     "output_type": "display_data"
    },
    {
     "data": {
      "text/html": [
       "Synced <strong style=\"color:#cdcd00\">1024s0it</strong>: <a href=\"https://wandb.ai/nikebless-thesis/ibc-tuning/runs/3jaaytf1\" target=\"_blank\">https://wandb.ai/nikebless-thesis/ibc-tuning/runs/3jaaytf1</a><br/>Synced 7 W&B file(s), 0 media file(s), 0 artifact file(s) and 1 other file(s)"
      ],
      "text/plain": [
       "<IPython.core.display.HTML object>"
      ]
     },
     "metadata": {},
     "output_type": "display_data"
    },
    {
     "data": {
      "text/html": [
       "Find logs at: <code>./wandb/run-20220808_134959-3jaaytf1/logs</code>"
      ],
      "text/plain": [
       "<IPython.core.display.HTML object>"
      ]
     },
     "metadata": {},
     "output_type": "display_data"
    }
   ],
   "source": [
    "import itertools\n",
    "import json\n",
    "import wandb\n",
    "\n",
    "fps = 30\n",
    "\n",
    "samples = [1024]\n",
    "iters = [3, 0]\n",
    "constant_actions = [False]\n",
    "dfo_reorders = [True, False]\n",
    "\n",
    "run_hparams = list(itertools.product(samples, iters, constant_actions, dfo_reorders))\n",
    "\n",
    "for idx, (samples, iters, constant_actions, dfo_reorder) in enumerate(run_hparams):\n",
    "    wandb.init(project=\"ibc-tuning\", name=f'{samples}s{iters}it', config={\"samples\": samples, \"iters\": iters, \"model_path\": pt_model_path, \"constant_actions\": constant_actions, \"dfo_reorder\": dfo_reorder})\n",
    "\n",
    "    print(f'running experiment {idx+1}/{len(run_hparams)}. samples: {samples}, iters: {iters}')\n",
    "    mae, entropy, preds = evaluate_model(constant_actions=constant_actions, dfo_reorder=dfo_reorder, inference_samples=samples, iters=iters)\n",
    "    metrics = calculate_metrics(fps, preds, valid_loader)\n",
    "    metrics[\"entropy\"] = entropy\n",
    "    wandb.log(metrics)\n",
    "    print('experiment metrics:')\n",
    "    print(json.dumps(str(metrics), indent=2))\n",
    "    print()\n",
    "    wandb.finish()"
   ]
  },
  {
   "cell_type": "code",
   "execution_count": null,
   "metadata": {},
   "outputs": [],
   "source": []
  }
 ],
 "metadata": {
  "kernelspec": {
   "display_name": "Python 3.8.10 ('e2e')",
   "language": "python",
   "name": "python3"
  },
  "language_info": {
   "codemirror_mode": {
    "name": "ipython",
    "version": 3
   },
   "file_extension": ".py",
   "mimetype": "text/x-python",
   "name": "python",
   "nbconvert_exporter": "python",
   "pygments_lexer": "ipython3",
   "version": "3.9.12"
  },
  "orig_nbformat": 4,
  "vscode": {
   "interpreter": {
    "hash": "322c5c4facabdc6bcc8c78b7959ccdee3ccc8c0dc306e4585416789305ea23e7"
   }
  }
 },
 "nbformat": 4,
 "nbformat_minor": 2
}
