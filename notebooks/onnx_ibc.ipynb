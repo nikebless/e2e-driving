{
 "cells": [
  {
   "cell_type": "code",
   "execution_count": 1,
   "metadata": {},
   "outputs": [],
   "source": [
    "import torch\n",
    "import onnx\n",
    "import numpy as np\n",
    "import onnxruntime as ort\n",
    "\n",
    "import sys\n",
    "import os\n",
    "from pathlib import Path\n",
    "\n",
    "sys.path.append('/home/nikita/e2e-driving')\n",
    "\n",
    "from dataloading.nvidia import NvidiaValidationDataset\n",
    "from ibc import optimizers\n",
    "\n",
    "import logging"
   ]
  },
  {
   "cell_type": "code",
   "execution_count": 3,
   "metadata": {},
   "outputs": [],
   "source": [
    "import torch.nn as nn\n",
    "\n",
    "class IbcPilotNet(nn.Module):\n",
    "    \"\"\"\n",
    "    PilotNet with action candidates (Implicit Behavior Cloning)\n",
    "    https://implicitbc.github.io/\n",
    "    \"\"\"\n",
    "\n",
    "    def __init__(self, samples=1024, iters=3, n_input_channels=3):\n",
    "        super().__init__()\n",
    "\n",
    "        self.device = torch.device('cuda' if torch.cuda.is_available() else 'cpu')\n",
    "\n",
    "        self.features = nn.Sequential(\n",
    "            nn.Conv2d(n_input_channels, 24, 5, stride=2),\n",
    "            nn.BatchNorm2d(24),\n",
    "            nn.LeakyReLU(),\n",
    "            nn.Conv2d(24, 36, 5, stride=2),\n",
    "            nn.BatchNorm2d(36),\n",
    "            nn.LeakyReLU(),\n",
    "            nn.Conv2d(36, 48, 5, stride=2),\n",
    "            nn.BatchNorm2d(48),\n",
    "            nn.LeakyReLU(),\n",
    "            nn.Conv2d(48, 64, 3, stride=1),\n",
    "            nn.BatchNorm2d(64),\n",
    "            nn.LeakyReLU(),\n",
    "            nn.Conv2d(64, 64, 3, stride=1),\n",
    "            nn.BatchNorm2d(64),\n",
    "            nn.LeakyReLU(),\n",
    "            nn.Flatten()\n",
    "        )\n",
    "\n",
    "        self.regressor = nn.Sequential(\n",
    "            nn.Linear(1664+1, 100), # plus one for target candidate\n",
    "            nn.BatchNorm1d(100),\n",
    "            nn.LeakyReLU(),\n",
    "            nn.Linear(100, 50),\n",
    "            nn.BatchNorm1d(50),\n",
    "            nn.LeakyReLU(),\n",
    "            nn.Linear(50, 10),\n",
    "            nn.LeakyReLU(),\n",
    "            nn.Linear(10, 1),\n",
    "        )\n",
    "\n",
    "        inference_config = optimizers.DerivativeFreeConfig(\n",
    "            bounds=self.get_target_bounds(),\n",
    "            train_samples=0,\n",
    "            inference_samples=samples,\n",
    "            iters=iters,\n",
    "        )\n",
    "        \n",
    "        self.stochastic_optimizer = optimizers.DFOptimizer.initialize(\n",
    "            inference_config,\n",
    "            'cpu',\n",
    "        )\n",
    "\n",
    "    def get_target_bounds(self):\n",
    "        return torch.tensor([[-8.0], [8.0]]), # radians for ±450 degrees steering wheel rotation\n",
    "\n",
    "    def _forward(self, x, y):\n",
    "        logging.debug(f'x: {x.shape} {x.dtype}')\n",
    "        logging.debug(f'y: {y.shape} {y.dtype}')\n",
    "        out = self.features(x)\n",
    "        logging.debug(f'after features(): {out.shape} {out.dtype}')\n",
    "        fused = torch.cat([out.unsqueeze(1).expand(-1, y.size(1), -1), y], dim=-1)\n",
    "        logging.debug(f'fused: {fused.shape} {fused.dtype}')\n",
    "        B, N, D = fused.size()\n",
    "        logging.debug(f'B, N, D: {B} {N} {D}')\n",
    "        fused = fused.reshape(B * N, D)\n",
    "        logging.debug(f'fused (reshaped): {fused.shape} {fused.dtype}')\n",
    "        out = self.regressor(fused)\n",
    "        logging.debug(f'output: {out.shape} {out.dtype}')\n",
    "        return out.view(B, N)\n",
    "\n",
    "    def forward(self, inputs):\n",
    "        return self.stochastic_optimizer.infer(inputs, self._forward)\n",
    "        "
   ]
  },
  {
   "cell_type": "code",
   "execution_count": 4,
   "metadata": {},
   "outputs": [
    {
     "name": "stdout",
     "output_type": "stream",
     "text": [
      "/data/Bolt/dataset-new-small/summer2021/2021-05-28-15-19-48_e2e_sulaoja_20_30: lenght=10708, filtered=0\n",
      "/data/Bolt/dataset-new-small/summer2021/2021-06-07-14-20-07_e2e_rec_ss6: lenght=25836, filtered=1\n",
      "/data/Bolt/dataset-new-small/summer2021/2021-06-07-14-06-31_e2e_rec_ss6: lenght=3003, filtered=0\n",
      "/data/Bolt/dataset-new-small/summer2021/2021-06-07-14-09-18_e2e_rec_ss6: lenght=4551, filtered=1\n",
      "/data/Bolt/dataset-new-small/summer2021/2021-06-07-14-36-16_e2e_rec_ss6: lenght=25368, filtered=1\n",
      "/data/Bolt/dataset-new-small/summer2021/2021-09-24-14-03-45_e2e_rec_ss11_backwards: lenght=25172, filtered=0\n",
      "/data/Bolt/dataset-new-small/summer2021/2021-10-26-10-49-06_e2e_rec_ss20_elva: lenght=33045, filtered=0\n",
      "/data/Bolt/dataset-new-small/summer2021/2021-10-26-11-08-59_e2e_rec_ss20_elva_back: lenght=33281, filtered=0\n",
      "/data/Bolt/dataset-new-small/summer2021/2021-10-20-15-11-29_e2e_rec_vastse_ss13_17_back: lenght=26763, filtered=0\n",
      "/data/Bolt/dataset-new-small/summer2021/2021-10-11-14-50-59_e2e_rec_vahi: lenght=21211, filtered=2\n",
      "/data/Bolt/dataset-new-small/summer2021/2021-10-14-13-08-51_e2e_rec_vahi_backwards: lenght=13442, filtered=0\n"
     ]
    }
   ],
   "source": [
    "dataset_path = '/data/Bolt/dataset-new-small/summer2021'\n",
    "batch_size = 256\n",
    "num_workers = 16\n",
    "\n",
    "validset = NvidiaValidationDataset(Path(dataset_path))\n",
    "valid_loader = torch.utils.data.DataLoader(validset, batch_size=batch_size, shuffle=False,\n",
    "                                          num_workers=num_workers, pin_memory=True,\n",
    "                                          persistent_workers=True)"
   ]
  },
  {
   "cell_type": "code",
   "execution_count": 5,
   "metadata": {},
   "outputs": [],
   "source": [
    "device = torch.device('cuda' if torch.cuda.is_available() else 'cpu')\n",
    "\n",
    "def save_model_to_onnx(model, model_path, data_loader):\n",
    "    model.load_state_dict(torch.load(model_path))\n",
    "    model.to(device)\n",
    "    model.stochastic_optimizer.to(device)\n",
    "\n",
    "    data = iter(data_loader).next()\n",
    "    sample_inputs = create_onxx_input(data)\n",
    "    output_path = Path(model_path).with_suffix('.onnx')\n",
    "\n",
    "    torch.onnx.export(model, \n",
    "                      sample_inputs, \n",
    "                      output_path, \n",
    "                      input_names=['x'], \n",
    "                      dynamic_axes={'x': {0: 'batch_size'}}, \n",
    "                      do_constant_folding=False,\n",
    "                      opset_version=9,\n",
    "                      )\n",
    "    onnx.checker.check_model(str(output_path))\n",
    "    return str(output_path)\n",
    "\n",
    "# def save_onnx_models(model, valid_loader):\n",
    "#     save_model_to_onnx(model, f\"{save_dir}/best.pt\", valid_loader)\n",
    "#     save_model_to_onnx(model, f\"{save_dir}/last.pt\", valid_loader)\n",
    "\n",
    "def create_onxx_input(data):\n",
    "    return data[0]['image'][0].unsqueeze(0).to(device)"
   ]
  },
  {
   "cell_type": "markdown",
   "metadata": {},
   "source": [
    "# Convert to ONNX"
   ]
  },
  {
   "cell_type": "code",
   "execution_count": 7,
   "metadata": {},
   "outputs": [
    {
     "name": "stderr",
     "output_type": "stream",
     "text": [
      "/home/nikita/miniconda3/envs/e2e2/lib/python3.9/site-packages/torch/onnx/symbolic_opset9.py:2905: UserWarning: Exporting aten::index operator of advanced indexing in opset 9 is achieved by combination of multiple ONNX operators, including Reshape, Transpose, Concat, and Gather. If indices include negative values, the exported graph will produce incorrect results.\n",
      "  warnings.warn(\"Exporting aten::index operator of advanced indexing in opset \" +\n"
     ]
    }
   ],
   "source": [
    "# import importlib\n",
    "# importlib.reload(optimizers)\n",
    "\n",
    "pt_model_path = '/home/nikita/e2e-driving/models/20220618185552_steering-angle/last.pt'\n",
    "pt_model = IbcPilotNet()\n",
    "\n",
    "onnx_path = save_model_to_onnx(pt_model, pt_model_path, valid_loader)"
   ]
  },
  {
   "cell_type": "markdown",
   "metadata": {},
   "source": [
    "# Test-drive the result"
   ]
  },
  {
   "cell_type": "code",
   "execution_count": 6,
   "metadata": {},
   "outputs": [],
   "source": [
    "data = iter(valid_loader).next()\n",
    "sample_inputs = create_onxx_input(data)\n",
    "\n",
    "onnx_input = {'x': sample_inputs.cpu().numpy()}\n",
    "torch_input = sample_inputs.to(device)"
   ]
  },
  {
   "cell_type": "code",
   "execution_count": 31,
   "metadata": {},
   "outputs": [
    {
     "name": "stdout",
     "output_type": "stream",
     "text": [
      "loaded models!\n"
     ]
    }
   ],
   "source": [
    "# onnx\n",
    "onnx_model = ort.InferenceSession(onnx_path, providers=[\"CUDAExecutionProvider\"])\n",
    "\n",
    "# torch\n",
    "torch_model = IbcPilotNet()\n",
    "torch_model.load_state_dict(torch.load(pt_model_path))\n",
    "torch_model.to(device)\n",
    "torch_model.stochastic_optimizer.to(device)\n",
    "torch_model.eval()"
   ]
  },
  {
   "cell_type": "code",
   "execution_count": 32,
   "metadata": {},
   "outputs": [
    {
     "name": "stdout",
     "output_type": "stream",
     "text": [
      "3.45 ms ± 26.8 µs per loop (mean ± std. dev. of 7 runs, 100 loops each)\n"
     ]
    }
   ],
   "source": [
    "%%timeit\n",
    "\n",
    "onnx_model.run(None, onnx_input)[0]"
   ]
  },
  {
   "cell_type": "code",
   "execution_count": 14,
   "metadata": {},
   "outputs": [
    {
     "name": "stdout",
     "output_type": "stream",
     "text": [
      "6.45 ms ± 65.4 µs per loop (mean ± std. dev. of 7 runs, 100 loops each)\n"
     ]
    }
   ],
   "source": [
    "%%timeit\n",
    "\n",
    "torch_model(torch_input)"
   ]
  },
  {
   "cell_type": "markdown",
   "metadata": {},
   "source": [
    "### be careful, takes a while (~2 min)"
   ]
  },
  {
   "cell_type": "code",
   "execution_count": 29,
   "metadata": {},
   "outputs": [
    {
     "name": "stdout",
     "output_type": "stream",
     "text": [
      "onnx: 0.00019857385 -0.3579694\n",
      "torch: (tensor(0.0002), tensor(-0.3580))\n"
     ]
    }
   ],
   "source": [
    "onnx_results = []\n",
    "torch_results = []\n",
    "\n",
    "for i in range(10000):\n",
    "  onnx_result = onnx_model.run(None, onnx_input)[0]\n",
    "  torch_result = torch_model(torch_input)\n",
    "\n",
    "  onnx_results.append(onnx_result)\n",
    "  torch_results.append(torch_result)\n",
    "\n",
    "print(f'onnx:', np.std(onnx_results), np.mean(onnx_results))\n",
    "print(f'torch:', torch.std_mean(torch.as_tensor(torch_results)))"
   ]
  },
  {
   "cell_type": "code",
   "execution_count": 30,
   "metadata": {},
   "outputs": [
    {
     "data": {
      "image/png": "[encoded data removed]",
      "text/plain": [
       "<Figure size 1152x360 with 1 Axes>"
      ]
     },
     "metadata": {
      "needs_background": "light"
     },
     "output_type": "display_data"
    }
   ],
   "source": [
    "import numpy as np\n",
    "from scipy.interpolate import UnivariateSpline\n",
    "from matplotlib import pyplot as plt\n",
    "\n",
    "plt.figure(figsize=(16, 5))\n",
    "\n",
    "bins = 10\n",
    "\n",
    "s = onnx_results\n",
    "p, x = np.histogram(s, bins=bins)\n",
    "x = x[:-1] + (x[1] - x[0])/2   # convert bin edges to centers\n",
    "f = UnivariateSpline(x, p, s=bins)\n",
    "plt.plot(x, f(x), label='onnx')\n",
    "\n",
    "s = [r.cpu().numpy() for r in torch_results]\n",
    "p, x = np.histogram(s, bins=bins)\n",
    "x = x[:-1] + (x[1] - x[0])/2   # convert bin edges to centers\n",
    "f = UnivariateSpline(x, p, s=bins)\n",
    "plt.plot(x, f(x), label='torch')\n",
    "\n",
    "plt.legend()\n",
    "plt.show()"
   ]
  },
  {
   "cell_type": "code",
   "execution_count": null,
   "metadata": {},
   "outputs": [],
   "source": []
  }
 ],
 "metadata": {
  "kernelspec": {
   "display_name": "Python 3.8.13 ('robostackenv')",
   "language": "python",
   "name": "python3"
  },
  "language_info": {
   "codemirror_mode": {
    "name": "ipython",
    "version": 3
   },
   "file_extension": ".py",
   "mimetype": "text/x-python",
   "name": "python",
   "nbconvert_exporter": "python",
   "pygments_lexer": "ipython3",
   "version": "3.8.13"
  },
  "orig_nbformat": 4,
  "vscode": {
   "interpreter": {
    "hash": "90b87e52a69c5c79bb3d82d7489a3143a197fdf2efc0fdec94e5dfafa7e83ab3"
   }
  }
 },
 "nbformat": 4,
 "nbformat_minor": 2
}
