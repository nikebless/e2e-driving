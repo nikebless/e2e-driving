{
 "cells": [
  {
   "cell_type": "code",
   "execution_count": 1,
   "metadata": {},
   "outputs": [],
   "source": [
    "import sys\n",
    "import onnxruntime as ort\n",
    "import numpy as np\n",
    "from IPython.display import Image\n",
    "from pathlib import Path\n",
    "import matplotlib.pyplot as plt\n",
    "import wandb\n",
    "import os\n",
    "\n",
    "os.environ['CUDA_VISIBLE_DEVICES'] = '1'\n",
    "\n",
    "sys.path.append('../')\n",
    "from dataloading.nvidia import NvidiaValidationDataset\n",
    "from scripts.pt_to_onnx import convert_pt_to_onnx"
   ]
  },
  {
   "cell_type": "code",
   "execution_count": 2,
   "metadata": {},
   "outputs": [],
   "source": [
    "def download_model(run_id, entity='nikebless', project='ebm-driving', config={}, return_pt_path=False):\n",
    "    path_to_model = None\n",
    "    api = wandb.Api()\n",
    "    run = api.run(f'{entity}/{project}/{run_id}')\n",
    "    for file in run.files():\n",
    "        if file.name.endswith('best.pt'):\n",
    "            file.download(replace=True)\n",
    "            path_to_model_pt = file.name\n",
    "            # convert model from pt to onnx\n",
    "\n",
    "            model_config = {'n_samples': run.config.get('ebm_train_samples'), 'steering_bound': run.config.get('steering_bound'), 'n_gaussians': run.config.get('mdn_n_components'), **config}\n",
    "            print('model config:', model_config)\n",
    "            path_to_model_onnx = convert_pt_to_onnx(file.name, run.config.get('model_type'), config=model_config)\n",
    "            break\n",
    "\n",
    "    if return_pt_path:\n",
    "        return path_to_model_onnx, path_to_model_pt\n",
    "    else:\n",
    "        return path_to_model_onnx"
   ]
  },
  {
   "cell_type": "markdown",
   "metadata": {},
   "source": [
    "### Experiment 1: Number of bin sizes (EBM vs Classification)"
   ]
  },
  {
   "cell_type": "code",
   "execution_count": 3,
   "metadata": {},
   "outputs": [
    {
     "name": "stderr",
     "output_type": "stream",
     "text": [
      "WARNING:root:inference_samples is not equal to train_samples, which will likely cause poor performance when using constant samples\n"
     ]
    },
    {
     "name": "stdout",
     "output_type": "stream",
     "text": [
      "/data/Bolt/end-to-end/rally-estonia-cropped/2021-05-28-15-19-48_e2e_sulaoja_20_30: length=10708, filtered=0\n",
      "/data/Bolt/end-to-end/rally-estonia-cropped/2021-06-07-14-20-07_e2e_rec_ss6: length=25836, filtered=1\n",
      "/data/Bolt/end-to-end/rally-estonia-cropped/2021-06-07-14-06-31_e2e_rec_ss6: length=3003, filtered=0\n",
      "/data/Bolt/end-to-end/rally-estonia-cropped/2021-06-07-14-09-18_e2e_rec_ss6: length=4551, filtered=1\n",
      "/data/Bolt/end-to-end/rally-estonia-cropped/2021-06-07-14-36-16_e2e_rec_ss6: length=25368, filtered=1\n",
      "/data/Bolt/end-to-end/rally-estonia-cropped/2021-09-24-14-03-45_e2e_rec_ss11_backwards: length=25172, filtered=0\n",
      "/data/Bolt/end-to-end/rally-estonia-cropped/2021-10-26-10-49-06_e2e_rec_ss20_elva: length=33045, filtered=0\n",
      "/data/Bolt/end-to-end/rally-estonia-cropped/2021-10-26-11-08-59_e2e_rec_ss20_elva_back: length=33281, filtered=0\n",
      "/data/Bolt/end-to-end/rally-estonia-cropped/2021-10-20-15-11-29_e2e_rec_vastse_ss13_17_back: length=26763, filtered=0\n",
      "/data/Bolt/end-to-end/rally-estonia-cropped/2021-10-11-14-50-59_e2e_rec_vahi: length=21211, filtered=2\n",
      "/data/Bolt/end-to-end/rally-estonia-cropped/2021-10-14-13-08-51_e2e_rec_vahi_backwards: length=13442, filtered=0\n"
     ]
    },
    {
     "name": "stderr",
     "output_type": "stream",
     "text": [
      "/home/nikita/e2e-driving/notebooks/../ebm/optimizers.py:117: UserWarning: __floordiv__ is deprecated, and its behavior will change in a future version of pytorch. It currently rounds toward 0 (like the 'trunc' function NOT 'floor'). This results in incorrect rounding for negative values. To keep the current behavior, use torch.div(a, b, rounding_mode='trunc'), or for actual floor division, use torch.div(a, b, rounding_mode='floor').\n",
      "  batch_size = num_samples // self.inference_samples\n",
      "/home/nikita/miniconda3/envs/e2e/lib/python3.9/site-packages/torch/onnx/symbolic_opset9.py:2905: UserWarning: Exporting aten::index operator of advanced indexing in opset 9 is achieved by combination of multiple ONNX operators, including Reshape, Transpose, Concat, and Gather. If indices include negative values, the exported graph will produce incorrect results.\n",
      "  warnings.warn(\"Exporting aten::index operator of advanced indexing in opset \" +\n",
      "WARNING:root:inference_samples is not equal to train_samples, which will likely cause poor performance when using constant samples\n"
     ]
    },
    {
     "name": "stdout",
     "output_type": "stream",
     "text": [
      "/data/Bolt/end-to-end/rally-estonia-cropped/2021-05-28-15-19-48_e2e_sulaoja_20_30: length=10708, filtered=0\n",
      "/data/Bolt/end-to-end/rally-estonia-cropped/2021-06-07-14-20-07_e2e_rec_ss6: length=25836, filtered=1\n",
      "/data/Bolt/end-to-end/rally-estonia-cropped/2021-06-07-14-06-31_e2e_rec_ss6: length=3003, filtered=0\n",
      "/data/Bolt/end-to-end/rally-estonia-cropped/2021-06-07-14-09-18_e2e_rec_ss6: length=4551, filtered=1\n",
      "/data/Bolt/end-to-end/rally-estonia-cropped/2021-06-07-14-36-16_e2e_rec_ss6: length=25368, filtered=1\n",
      "/data/Bolt/end-to-end/rally-estonia-cropped/2021-09-24-14-03-45_e2e_rec_ss11_backwards: length=25172, filtered=0\n",
      "/data/Bolt/end-to-end/rally-estonia-cropped/2021-10-26-10-49-06_e2e_rec_ss20_elva: length=33045, filtered=0\n",
      "/data/Bolt/end-to-end/rally-estonia-cropped/2021-10-26-11-08-59_e2e_rec_ss20_elva_back: length=33281, filtered=0\n",
      "/data/Bolt/end-to-end/rally-estonia-cropped/2021-10-20-15-11-29_e2e_rec_vastse_ss13_17_back: length=26763, filtered=0\n",
      "/data/Bolt/end-to-end/rally-estonia-cropped/2021-10-11-14-50-59_e2e_rec_vahi: length=21211, filtered=2\n",
      "/data/Bolt/end-to-end/rally-estonia-cropped/2021-10-14-13-08-51_e2e_rec_vahi_backwards: length=13442, filtered=0\n"
     ]
    },
    {
     "name": "stderr",
     "output_type": "stream",
     "text": [
      "/home/nikita/e2e-driving/notebooks/../ebm/optimizers.py:117: UserWarning: __floordiv__ is deprecated, and its behavior will change in a future version of pytorch. It currently rounds toward 0 (like the 'trunc' function NOT 'floor'). This results in incorrect rounding for negative values. To keep the current behavior, use torch.div(a, b, rounding_mode='trunc'), or for actual floor division, use torch.div(a, b, rounding_mode='floor').\n",
      "  batch_size = num_samples // self.inference_samples\n",
      "/home/nikita/miniconda3/envs/e2e/lib/python3.9/site-packages/torch/onnx/symbolic_opset9.py:2905: UserWarning: Exporting aten::index operator of advanced indexing in opset 9 is achieved by combination of multiple ONNX operators, including Reshape, Transpose, Concat, and Gather. If indices include negative values, the exported graph will produce incorrect results.\n",
      "  warnings.warn(\"Exporting aten::index operator of advanced indexing in opset \" +\n",
      "WARNING:root:inference_samples is not equal to train_samples, which will likely cause poor performance when using constant samples\n"
     ]
    },
    {
     "name": "stdout",
     "output_type": "stream",
     "text": [
      "/data/Bolt/end-to-end/rally-estonia-cropped/2021-05-28-15-19-48_e2e_sulaoja_20_30: length=10708, filtered=0\n",
      "/data/Bolt/end-to-end/rally-estonia-cropped/2021-06-07-14-20-07_e2e_rec_ss6: length=25836, filtered=1\n",
      "/data/Bolt/end-to-end/rally-estonia-cropped/2021-06-07-14-06-31_e2e_rec_ss6: length=3003, filtered=0\n",
      "/data/Bolt/end-to-end/rally-estonia-cropped/2021-06-07-14-09-18_e2e_rec_ss6: length=4551, filtered=1\n",
      "/data/Bolt/end-to-end/rally-estonia-cropped/2021-06-07-14-36-16_e2e_rec_ss6: length=25368, filtered=1\n",
      "/data/Bolt/end-to-end/rally-estonia-cropped/2021-09-24-14-03-45_e2e_rec_ss11_backwards: length=25172, filtered=0\n",
      "/data/Bolt/end-to-end/rally-estonia-cropped/2021-10-26-10-49-06_e2e_rec_ss20_elva: length=33045, filtered=0\n",
      "/data/Bolt/end-to-end/rally-estonia-cropped/2021-10-26-11-08-59_e2e_rec_ss20_elva_back: length=33281, filtered=0\n",
      "/data/Bolt/end-to-end/rally-estonia-cropped/2021-10-20-15-11-29_e2e_rec_vastse_ss13_17_back: length=26763, filtered=0\n",
      "/data/Bolt/end-to-end/rally-estonia-cropped/2021-10-11-14-50-59_e2e_rec_vahi: length=21211, filtered=2\n",
      "/data/Bolt/end-to-end/rally-estonia-cropped/2021-10-14-13-08-51_e2e_rec_vahi_backwards: length=13442, filtered=0\n"
     ]
    },
    {
     "name": "stderr",
     "output_type": "stream",
     "text": [
      "/home/nikita/e2e-driving/notebooks/../ebm/optimizers.py:117: UserWarning: __floordiv__ is deprecated, and its behavior will change in a future version of pytorch. It currently rounds toward 0 (like the 'trunc' function NOT 'floor'). This results in incorrect rounding for negative values. To keep the current behavior, use torch.div(a, b, rounding_mode='trunc'), or for actual floor division, use torch.div(a, b, rounding_mode='floor').\n",
      "  batch_size = num_samples // self.inference_samples\n",
      "/home/nikita/miniconda3/envs/e2e/lib/python3.9/site-packages/torch/onnx/symbolic_opset9.py:2905: UserWarning: Exporting aten::index operator of advanced indexing in opset 9 is achieved by combination of multiple ONNX operators, including Reshape, Transpose, Concat, and Gather. If indices include negative values, the exported graph will produce incorrect results.\n",
      "  warnings.warn(\"Exporting aten::index operator of advanced indexing in opset \" +\n"
     ]
    },
    {
     "name": "stdout",
     "output_type": "stream",
     "text": [
      "/data/Bolt/end-to-end/rally-estonia-cropped/2021-05-28-15-19-48_e2e_sulaoja_20_30: length=10708, filtered=0\n",
      "/data/Bolt/end-to-end/rally-estonia-cropped/2021-06-07-14-20-07_e2e_rec_ss6: length=25836, filtered=1\n",
      "/data/Bolt/end-to-end/rally-estonia-cropped/2021-06-07-14-06-31_e2e_rec_ss6: length=3003, filtered=0\n",
      "/data/Bolt/end-to-end/rally-estonia-cropped/2021-06-07-14-09-18_e2e_rec_ss6: length=4551, filtered=1\n",
      "/data/Bolt/end-to-end/rally-estonia-cropped/2021-06-07-14-36-16_e2e_rec_ss6: length=25368, filtered=1\n",
      "/data/Bolt/end-to-end/rally-estonia-cropped/2021-09-24-14-03-45_e2e_rec_ss11_backwards: length=25172, filtered=0\n",
      "/data/Bolt/end-to-end/rally-estonia-cropped/2021-10-26-10-49-06_e2e_rec_ss20_elva: length=33045, filtered=0\n",
      "/data/Bolt/end-to-end/rally-estonia-cropped/2021-10-26-11-08-59_e2e_rec_ss20_elva_back: length=33281, filtered=0\n",
      "/data/Bolt/end-to-end/rally-estonia-cropped/2021-10-20-15-11-29_e2e_rec_vastse_ss13_17_back: length=26763, filtered=0\n",
      "/data/Bolt/end-to-end/rally-estonia-cropped/2021-10-11-14-50-59_e2e_rec_vahi: length=21211, filtered=2\n",
      "/data/Bolt/end-to-end/rally-estonia-cropped/2021-10-14-13-08-51_e2e_rec_vahi_backwards: length=13442, filtered=0\n",
      "/data/Bolt/end-to-end/rally-estonia-cropped/2021-05-28-15-19-48_e2e_sulaoja_20_30: length=10708, filtered=0\n",
      "/data/Bolt/end-to-end/rally-estonia-cropped/2021-06-07-14-20-07_e2e_rec_ss6: length=25836, filtered=1\n",
      "/data/Bolt/end-to-end/rally-estonia-cropped/2021-06-07-14-06-31_e2e_rec_ss6: length=3003, filtered=0\n",
      "/data/Bolt/end-to-end/rally-estonia-cropped/2021-06-07-14-09-18_e2e_rec_ss6: length=4551, filtered=1\n",
      "/data/Bolt/end-to-end/rally-estonia-cropped/2021-06-07-14-36-16_e2e_rec_ss6: length=25368, filtered=1\n",
      "/data/Bolt/end-to-end/rally-estonia-cropped/2021-09-24-14-03-45_e2e_rec_ss11_backwards: length=25172, filtered=0\n",
      "/data/Bolt/end-to-end/rally-estonia-cropped/2021-10-26-10-49-06_e2e_rec_ss20_elva: length=33045, filtered=0\n",
      "/data/Bolt/end-to-end/rally-estonia-cropped/2021-10-26-11-08-59_e2e_rec_ss20_elva_back: length=33281, filtered=0\n",
      "/data/Bolt/end-to-end/rally-estonia-cropped/2021-10-20-15-11-29_e2e_rec_vastse_ss13_17_back: length=26763, filtered=0\n",
      "/data/Bolt/end-to-end/rally-estonia-cropped/2021-10-11-14-50-59_e2e_rec_vahi: length=21211, filtered=2\n",
      "/data/Bolt/end-to-end/rally-estonia-cropped/2021-10-14-13-08-51_e2e_rec_vahi_backwards: length=13442, filtered=0\n",
      "/data/Bolt/end-to-end/rally-estonia-cropped/2021-05-28-15-19-48_e2e_sulaoja_20_30: length=10708, filtered=0\n",
      "/data/Bolt/end-to-end/rally-estonia-cropped/2021-06-07-14-20-07_e2e_rec_ss6: length=25836, filtered=1\n",
      "/data/Bolt/end-to-end/rally-estonia-cropped/2021-06-07-14-06-31_e2e_rec_ss6: length=3003, filtered=0\n",
      "/data/Bolt/end-to-end/rally-estonia-cropped/2021-06-07-14-09-18_e2e_rec_ss6: length=4551, filtered=1\n",
      "/data/Bolt/end-to-end/rally-estonia-cropped/2021-06-07-14-36-16_e2e_rec_ss6: length=25368, filtered=1\n",
      "/data/Bolt/end-to-end/rally-estonia-cropped/2021-09-24-14-03-45_e2e_rec_ss11_backwards: length=25172, filtered=0\n",
      "/data/Bolt/end-to-end/rally-estonia-cropped/2021-10-26-10-49-06_e2e_rec_ss20_elva: length=33045, filtered=0\n",
      "/data/Bolt/end-to-end/rally-estonia-cropped/2021-10-26-11-08-59_e2e_rec_ss20_elva_back: length=33281, filtered=0\n",
      "/data/Bolt/end-to-end/rally-estonia-cropped/2021-10-20-15-11-29_e2e_rec_vastse_ss13_17_back: length=26763, filtered=0\n",
      "/data/Bolt/end-to-end/rally-estonia-cropped/2021-10-11-14-50-59_e2e_rec_vahi: length=21211, filtered=2\n",
      "/data/Bolt/end-to-end/rally-estonia-cropped/2021-10-14-13-08-51_e2e_rec_vahi_backwards: length=13442, filtered=0\n"
     ]
    }
   ],
   "source": [
    "models = [\n",
    "    ('3ftnqxcb', 'ebm-512'),\n",
    "    ('pg0eweml', 'ebm-256'),\n",
    "    ('iddqahiv', 'ebm-128'),\n",
    "    ('3g3wwx73', 'classifier-512'),\n",
    "    ('1t7d1afv', 'classifier-256'),\n",
    "    ('2faagb62', 'classifier-128'),\n",
    "]\n",
    "\n",
    "for run_id, model_name in models:\n",
    "    config = {'normalize_inputs': False}\n",
    "    path_to_model = download_model(run_id=run_id, config=config)\n",
    "    os.rename(path_to_model, f'../_models/{model_name}.onnx')"
   ]
  },
  {
   "cell_type": "markdown",
   "metadata": {},
   "source": [
    "### Experiment 2: Variability due to initialization (EBM vs Classification)"
   ]
  },
  {
   "cell_type": "code",
   "execution_count": 3,
   "metadata": {},
   "outputs": [
    {
     "name": "stderr",
     "output_type": "stream",
     "text": [
      "WARNING:root:inference_samples is not equal to train_samples, which will likely cause poor performance when using constant samples\n"
     ]
    },
    {
     "name": "stdout",
     "output_type": "stream",
     "text": [
      "/data/Bolt/end-to-end/rally-estonia-cropped/2021-05-28-15-19-48_e2e_sulaoja_20_30: length=10708, filtered=0\n",
      "/data/Bolt/end-to-end/rally-estonia-cropped/2021-06-07-14-20-07_e2e_rec_ss6: length=25836, filtered=1\n",
      "/data/Bolt/end-to-end/rally-estonia-cropped/2021-06-07-14-06-31_e2e_rec_ss6: length=3003, filtered=0\n",
      "/data/Bolt/end-to-end/rally-estonia-cropped/2021-06-07-14-09-18_e2e_rec_ss6: length=4551, filtered=1\n",
      "/data/Bolt/end-to-end/rally-estonia-cropped/2021-06-07-14-36-16_e2e_rec_ss6: length=25368, filtered=1\n",
      "/data/Bolt/end-to-end/rally-estonia-cropped/2021-09-24-14-03-45_e2e_rec_ss11_backwards: length=25172, filtered=0\n",
      "/data/Bolt/end-to-end/rally-estonia-cropped/2021-10-26-10-49-06_e2e_rec_ss20_elva: length=33045, filtered=0\n",
      "/data/Bolt/end-to-end/rally-estonia-cropped/2021-10-26-11-08-59_e2e_rec_ss20_elva_back: length=33281, filtered=0\n",
      "/data/Bolt/end-to-end/rally-estonia-cropped/2021-10-20-15-11-29_e2e_rec_vastse_ss13_17_back: length=26763, filtered=0\n",
      "/data/Bolt/end-to-end/rally-estonia-cropped/2021-10-11-14-50-59_e2e_rec_vahi: length=21211, filtered=2\n",
      "/data/Bolt/end-to-end/rally-estonia-cropped/2021-10-14-13-08-51_e2e_rec_vahi_backwards: length=13442, filtered=0\n"
     ]
    },
    {
     "name": "stderr",
     "output_type": "stream",
     "text": [
      "/home/nikita/e2e-driving/notebooks/../ebm/optimizers.py:117: UserWarning: __floordiv__ is deprecated, and its behavior will change in a future version of pytorch. It currently rounds toward 0 (like the 'trunc' function NOT 'floor'). This results in incorrect rounding for negative values. To keep the current behavior, use torch.div(a, b, rounding_mode='trunc'), or for actual floor division, use torch.div(a, b, rounding_mode='floor').\n",
      "  batch_size = num_samples // self.inference_samples\n",
      "/home/nikita/miniconda3/envs/e2e/lib/python3.9/site-packages/torch/onnx/symbolic_opset9.py:2905: UserWarning: Exporting aten::index operator of advanced indexing in opset 9 is achieved by combination of multiple ONNX operators, including Reshape, Transpose, Concat, and Gather. If indices include negative values, the exported graph will produce incorrect results.\n",
      "  warnings.warn(\"Exporting aten::index operator of advanced indexing in opset \" +\n",
      "WARNING:root:inference_samples is not equal to train_samples, which will likely cause poor performance when using constant samples\n"
     ]
    },
    {
     "name": "stdout",
     "output_type": "stream",
     "text": [
      "/data/Bolt/end-to-end/rally-estonia-cropped/2021-05-28-15-19-48_e2e_sulaoja_20_30: length=10708, filtered=0\n",
      "/data/Bolt/end-to-end/rally-estonia-cropped/2021-06-07-14-20-07_e2e_rec_ss6: length=25836, filtered=1\n",
      "/data/Bolt/end-to-end/rally-estonia-cropped/2021-06-07-14-06-31_e2e_rec_ss6: length=3003, filtered=0\n",
      "/data/Bolt/end-to-end/rally-estonia-cropped/2021-06-07-14-09-18_e2e_rec_ss6: length=4551, filtered=1\n",
      "/data/Bolt/end-to-end/rally-estonia-cropped/2021-06-07-14-36-16_e2e_rec_ss6: length=25368, filtered=1\n",
      "/data/Bolt/end-to-end/rally-estonia-cropped/2021-09-24-14-03-45_e2e_rec_ss11_backwards: length=25172, filtered=0\n",
      "/data/Bolt/end-to-end/rally-estonia-cropped/2021-10-26-10-49-06_e2e_rec_ss20_elva: length=33045, filtered=0\n",
      "/data/Bolt/end-to-end/rally-estonia-cropped/2021-10-26-11-08-59_e2e_rec_ss20_elva_back: length=33281, filtered=0\n",
      "/data/Bolt/end-to-end/rally-estonia-cropped/2021-10-20-15-11-29_e2e_rec_vastse_ss13_17_back: length=26763, filtered=0\n",
      "/data/Bolt/end-to-end/rally-estonia-cropped/2021-10-11-14-50-59_e2e_rec_vahi: length=21211, filtered=2\n",
      "/data/Bolt/end-to-end/rally-estonia-cropped/2021-10-14-13-08-51_e2e_rec_vahi_backwards: length=13442, filtered=0\n"
     ]
    },
    {
     "name": "stderr",
     "output_type": "stream",
     "text": [
      "/home/nikita/e2e-driving/notebooks/../ebm/optimizers.py:117: UserWarning: __floordiv__ is deprecated, and its behavior will change in a future version of pytorch. It currently rounds toward 0 (like the 'trunc' function NOT 'floor'). This results in incorrect rounding for negative values. To keep the current behavior, use torch.div(a, b, rounding_mode='trunc'), or for actual floor division, use torch.div(a, b, rounding_mode='floor').\n",
      "  batch_size = num_samples // self.inference_samples\n",
      "/home/nikita/miniconda3/envs/e2e/lib/python3.9/site-packages/torch/onnx/symbolic_opset9.py:2905: UserWarning: Exporting aten::index operator of advanced indexing in opset 9 is achieved by combination of multiple ONNX operators, including Reshape, Transpose, Concat, and Gather. If indices include negative values, the exported graph will produce incorrect results.\n",
      "  warnings.warn(\"Exporting aten::index operator of advanced indexing in opset \" +\n",
      "WARNING:root:inference_samples is not equal to train_samples, which will likely cause poor performance when using constant samples\n"
     ]
    },
    {
     "name": "stdout",
     "output_type": "stream",
     "text": [
      "/data/Bolt/end-to-end/rally-estonia-cropped/2021-05-28-15-19-48_e2e_sulaoja_20_30: length=10708, filtered=0\n",
      "/data/Bolt/end-to-end/rally-estonia-cropped/2021-06-07-14-20-07_e2e_rec_ss6: length=25836, filtered=1\n",
      "/data/Bolt/end-to-end/rally-estonia-cropped/2021-06-07-14-06-31_e2e_rec_ss6: length=3003, filtered=0\n",
      "/data/Bolt/end-to-end/rally-estonia-cropped/2021-06-07-14-09-18_e2e_rec_ss6: length=4551, filtered=1\n",
      "/data/Bolt/end-to-end/rally-estonia-cropped/2021-06-07-14-36-16_e2e_rec_ss6: length=25368, filtered=1\n",
      "/data/Bolt/end-to-end/rally-estonia-cropped/2021-09-24-14-03-45_e2e_rec_ss11_backwards: length=25172, filtered=0\n",
      "/data/Bolt/end-to-end/rally-estonia-cropped/2021-10-26-10-49-06_e2e_rec_ss20_elva: length=33045, filtered=0\n",
      "/data/Bolt/end-to-end/rally-estonia-cropped/2021-10-26-11-08-59_e2e_rec_ss20_elva_back: length=33281, filtered=0\n",
      "/data/Bolt/end-to-end/rally-estonia-cropped/2021-10-20-15-11-29_e2e_rec_vastse_ss13_17_back: length=26763, filtered=0\n",
      "/data/Bolt/end-to-end/rally-estonia-cropped/2021-10-11-14-50-59_e2e_rec_vahi: length=21211, filtered=2\n",
      "/data/Bolt/end-to-end/rally-estonia-cropped/2021-10-14-13-08-51_e2e_rec_vahi_backwards: length=13442, filtered=0\n"
     ]
    },
    {
     "name": "stderr",
     "output_type": "stream",
     "text": [
      "/home/nikita/e2e-driving/notebooks/../ebm/optimizers.py:117: UserWarning: __floordiv__ is deprecated, and its behavior will change in a future version of pytorch. It currently rounds toward 0 (like the 'trunc' function NOT 'floor'). This results in incorrect rounding for negative values. To keep the current behavior, use torch.div(a, b, rounding_mode='trunc'), or for actual floor division, use torch.div(a, b, rounding_mode='floor').\n",
      "  batch_size = num_samples // self.inference_samples\n",
      "/home/nikita/miniconda3/envs/e2e/lib/python3.9/site-packages/torch/onnx/symbolic_opset9.py:2905: UserWarning: Exporting aten::index operator of advanced indexing in opset 9 is achieved by combination of multiple ONNX operators, including Reshape, Transpose, Concat, and Gather. If indices include negative values, the exported graph will produce incorrect results.\n",
      "  warnings.warn(\"Exporting aten::index operator of advanced indexing in opset \" +\n"
     ]
    },
    {
     "name": "stdout",
     "output_type": "stream",
     "text": [
      "/data/Bolt/end-to-end/rally-estonia-cropped/2021-05-28-15-19-48_e2e_sulaoja_20_30: length=10708, filtered=0\n",
      "/data/Bolt/end-to-end/rally-estonia-cropped/2021-06-07-14-20-07_e2e_rec_ss6: length=25836, filtered=1\n",
      "/data/Bolt/end-to-end/rally-estonia-cropped/2021-06-07-14-06-31_e2e_rec_ss6: length=3003, filtered=0\n",
      "/data/Bolt/end-to-end/rally-estonia-cropped/2021-06-07-14-09-18_e2e_rec_ss6: length=4551, filtered=1\n",
      "/data/Bolt/end-to-end/rally-estonia-cropped/2021-06-07-14-36-16_e2e_rec_ss6: length=25368, filtered=1\n",
      "/data/Bolt/end-to-end/rally-estonia-cropped/2021-09-24-14-03-45_e2e_rec_ss11_backwards: length=25172, filtered=0\n",
      "/data/Bolt/end-to-end/rally-estonia-cropped/2021-10-26-10-49-06_e2e_rec_ss20_elva: length=33045, filtered=0\n",
      "/data/Bolt/end-to-end/rally-estonia-cropped/2021-10-26-11-08-59_e2e_rec_ss20_elva_back: length=33281, filtered=0\n",
      "/data/Bolt/end-to-end/rally-estonia-cropped/2021-10-20-15-11-29_e2e_rec_vastse_ss13_17_back: length=26763, filtered=0\n",
      "/data/Bolt/end-to-end/rally-estonia-cropped/2021-10-11-14-50-59_e2e_rec_vahi: length=21211, filtered=2\n",
      "/data/Bolt/end-to-end/rally-estonia-cropped/2021-10-14-13-08-51_e2e_rec_vahi_backwards: length=13442, filtered=0\n",
      "/data/Bolt/end-to-end/rally-estonia-cropped/2021-05-28-15-19-48_e2e_sulaoja_20_30: length=10708, filtered=0\n",
      "/data/Bolt/end-to-end/rally-estonia-cropped/2021-06-07-14-20-07_e2e_rec_ss6: length=25836, filtered=1\n",
      "/data/Bolt/end-to-end/rally-estonia-cropped/2021-06-07-14-06-31_e2e_rec_ss6: length=3003, filtered=0\n",
      "/data/Bolt/end-to-end/rally-estonia-cropped/2021-06-07-14-09-18_e2e_rec_ss6: length=4551, filtered=1\n",
      "/data/Bolt/end-to-end/rally-estonia-cropped/2021-06-07-14-36-16_e2e_rec_ss6: length=25368, filtered=1\n",
      "/data/Bolt/end-to-end/rally-estonia-cropped/2021-09-24-14-03-45_e2e_rec_ss11_backwards: length=25172, filtered=0\n",
      "/data/Bolt/end-to-end/rally-estonia-cropped/2021-10-26-10-49-06_e2e_rec_ss20_elva: length=33045, filtered=0\n",
      "/data/Bolt/end-to-end/rally-estonia-cropped/2021-10-26-11-08-59_e2e_rec_ss20_elva_back: length=33281, filtered=0\n",
      "/data/Bolt/end-to-end/rally-estonia-cropped/2021-10-20-15-11-29_e2e_rec_vastse_ss13_17_back: length=26763, filtered=0\n",
      "/data/Bolt/end-to-end/rally-estonia-cropped/2021-10-11-14-50-59_e2e_rec_vahi: length=21211, filtered=2\n",
      "/data/Bolt/end-to-end/rally-estonia-cropped/2021-10-14-13-08-51_e2e_rec_vahi_backwards: length=13442, filtered=0\n",
      "/data/Bolt/end-to-end/rally-estonia-cropped/2021-05-28-15-19-48_e2e_sulaoja_20_30: length=10708, filtered=0\n",
      "/data/Bolt/end-to-end/rally-estonia-cropped/2021-06-07-14-20-07_e2e_rec_ss6: length=25836, filtered=1\n",
      "/data/Bolt/end-to-end/rally-estonia-cropped/2021-06-07-14-06-31_e2e_rec_ss6: length=3003, filtered=0\n",
      "/data/Bolt/end-to-end/rally-estonia-cropped/2021-06-07-14-09-18_e2e_rec_ss6: length=4551, filtered=1\n",
      "/data/Bolt/end-to-end/rally-estonia-cropped/2021-06-07-14-36-16_e2e_rec_ss6: length=25368, filtered=1\n",
      "/data/Bolt/end-to-end/rally-estonia-cropped/2021-09-24-14-03-45_e2e_rec_ss11_backwards: length=25172, filtered=0\n",
      "/data/Bolt/end-to-end/rally-estonia-cropped/2021-10-26-10-49-06_e2e_rec_ss20_elva: length=33045, filtered=0\n",
      "/data/Bolt/end-to-end/rally-estonia-cropped/2021-10-26-11-08-59_e2e_rec_ss20_elva_back: length=33281, filtered=0\n",
      "/data/Bolt/end-to-end/rally-estonia-cropped/2021-10-20-15-11-29_e2e_rec_vastse_ss13_17_back: length=26763, filtered=0\n",
      "/data/Bolt/end-to-end/rally-estonia-cropped/2021-10-11-14-50-59_e2e_rec_vahi: length=21211, filtered=2\n",
      "/data/Bolt/end-to-end/rally-estonia-cropped/2021-10-14-13-08-51_e2e_rec_vahi_backwards: length=13442, filtered=0\n"
     ]
    }
   ],
   "source": [
    "models = [\n",
    "    ('3ftnqxcb', 'ebm-512-s1'),\n",
    "    ('3dke382l', 'ebm-512-s2'),\n",
    "    ('kozacohh', 'ebm-512-s3'),\n",
    "    ('13nkhdy1', 'mae-s1'),\n",
    "    ('bxd5wtqk', 'mae-s2'),\n",
    "    ('gwgmsh0e', 'mae-s3'),\n",
    "]\n",
    "\n",
    "for run_id, model_name in models:\n",
    "    config = {'normalize_inputs': False}\n",
    "    path_to_model = download_model(run_id=run_id, config=config)\n",
    "    os.rename(path_to_model, f'../_models/{model_name}.onnx')"
   ]
  },
  {
   "cell_type": "markdown",
   "metadata": {},
   "source": [
    "### Experiment 3: MDN — number of components"
   ]
  },
  {
   "cell_type": "code",
   "execution_count": 7,
   "metadata": {},
   "outputs": [
    {
     "name": "stdout",
     "output_type": "stream",
     "text": [
      "model config: {'n_samples': 128, 'steering_bound': 4.5, 'n_gaussians': 1, 'normalize_inputs': False}\n",
      "/data/Bolt/end-to-end/rally-estonia-cropped/2021-05-28-15-19-48_e2e_sulaoja_20_30: length=10708, filtered=0\n",
      "/data/Bolt/end-to-end/rally-estonia-cropped/2021-06-07-14-20-07_e2e_rec_ss6: length=25836, filtered=1\n",
      "/data/Bolt/end-to-end/rally-estonia-cropped/2021-06-07-14-06-31_e2e_rec_ss6: length=3003, filtered=0\n",
      "/data/Bolt/end-to-end/rally-estonia-cropped/2021-06-07-14-09-18_e2e_rec_ss6: length=4551, filtered=1\n",
      "/data/Bolt/end-to-end/rally-estonia-cropped/2021-06-07-14-36-16_e2e_rec_ss6: length=25368, filtered=1\n",
      "/data/Bolt/end-to-end/rally-estonia-cropped/2021-09-24-14-03-45_e2e_rec_ss11_backwards: length=25172, filtered=0\n",
      "/data/Bolt/end-to-end/rally-estonia-cropped/2021-10-26-10-49-06_e2e_rec_ss20_elva: length=33045, filtered=0\n",
      "/data/Bolt/end-to-end/rally-estonia-cropped/2021-10-26-11-08-59_e2e_rec_ss20_elva_back: length=33281, filtered=0\n",
      "/data/Bolt/end-to-end/rally-estonia-cropped/2021-10-20-15-11-29_e2e_rec_vastse_ss13_17_back: length=26763, filtered=0\n",
      "/data/Bolt/end-to-end/rally-estonia-cropped/2021-10-11-14-50-59_e2e_rec_vahi: length=21211, filtered=2\n",
      "/data/Bolt/end-to-end/rally-estonia-cropped/2021-10-14-13-08-51_e2e_rec_vahi_backwards: length=13442, filtered=0\n"
     ]
    },
    {
     "name": "stderr",
     "output_type": "stream",
     "text": [
      "/home/nikita/e2e-driving/notebooks/../mdn/mdn.py:124: TracerWarning: Converting a tensor to a Python boolean might cause the trace to be incorrect. We can't record the data flow of Python values, so this value will be treated as a constant in the future. This means that the trace might not generalize to other inputs!\n",
      "  if return_variances:\n"
     ]
    },
    {
     "name": "stdout",
     "output_type": "stream",
     "text": [
      "model config: {'n_samples': 128, 'steering_bound': 4.5, 'n_gaussians': 1, 'normalize_inputs': False}\n",
      "/data/Bolt/end-to-end/rally-estonia-cropped/2021-05-28-15-19-48_e2e_sulaoja_20_30: length=10708, filtered=0\n",
      "/data/Bolt/end-to-end/rally-estonia-cropped/2021-06-07-14-20-07_e2e_rec_ss6: length=25836, filtered=1\n",
      "/data/Bolt/end-to-end/rally-estonia-cropped/2021-06-07-14-06-31_e2e_rec_ss6: length=3003, filtered=0\n",
      "/data/Bolt/end-to-end/rally-estonia-cropped/2021-06-07-14-09-18_e2e_rec_ss6: length=4551, filtered=1\n",
      "/data/Bolt/end-to-end/rally-estonia-cropped/2021-06-07-14-36-16_e2e_rec_ss6: length=25368, filtered=1\n",
      "/data/Bolt/end-to-end/rally-estonia-cropped/2021-09-24-14-03-45_e2e_rec_ss11_backwards: length=25172, filtered=0\n",
      "/data/Bolt/end-to-end/rally-estonia-cropped/2021-10-26-10-49-06_e2e_rec_ss20_elva: length=33045, filtered=0\n",
      "/data/Bolt/end-to-end/rally-estonia-cropped/2021-10-26-11-08-59_e2e_rec_ss20_elva_back: length=33281, filtered=0\n",
      "/data/Bolt/end-to-end/rally-estonia-cropped/2021-10-20-15-11-29_e2e_rec_vastse_ss13_17_back: length=26763, filtered=0\n",
      "/data/Bolt/end-to-end/rally-estonia-cropped/2021-10-11-14-50-59_e2e_rec_vahi: length=21211, filtered=2\n",
      "/data/Bolt/end-to-end/rally-estonia-cropped/2021-10-14-13-08-51_e2e_rec_vahi_backwards: length=13442, filtered=0\n"
     ]
    },
    {
     "name": "stderr",
     "output_type": "stream",
     "text": [
      "/home/nikita/e2e-driving/notebooks/../mdn/mdn.py:124: TracerWarning: Converting a tensor to a Python boolean might cause the trace to be incorrect. We can't record the data flow of Python values, so this value will be treated as a constant in the future. This means that the trace might not generalize to other inputs!\n",
      "  if return_variances:\n"
     ]
    },
    {
     "name": "stdout",
     "output_type": "stream",
     "text": [
      "model config: {'n_samples': 128, 'steering_bound': 4.5, 'n_gaussians': 1, 'normalize_inputs': False}\n",
      "/data/Bolt/end-to-end/rally-estonia-cropped/2021-05-28-15-19-48_e2e_sulaoja_20_30: length=10708, filtered=0\n",
      "/data/Bolt/end-to-end/rally-estonia-cropped/2021-06-07-14-20-07_e2e_rec_ss6: length=25836, filtered=1\n",
      "/data/Bolt/end-to-end/rally-estonia-cropped/2021-06-07-14-06-31_e2e_rec_ss6: length=3003, filtered=0\n",
      "/data/Bolt/end-to-end/rally-estonia-cropped/2021-06-07-14-09-18_e2e_rec_ss6: length=4551, filtered=1\n",
      "/data/Bolt/end-to-end/rally-estonia-cropped/2021-06-07-14-36-16_e2e_rec_ss6: length=25368, filtered=1\n",
      "/data/Bolt/end-to-end/rally-estonia-cropped/2021-09-24-14-03-45_e2e_rec_ss11_backwards: length=25172, filtered=0\n",
      "/data/Bolt/end-to-end/rally-estonia-cropped/2021-10-26-10-49-06_e2e_rec_ss20_elva: length=33045, filtered=0\n",
      "/data/Bolt/end-to-end/rally-estonia-cropped/2021-10-26-11-08-59_e2e_rec_ss20_elva_back: length=33281, filtered=0\n",
      "/data/Bolt/end-to-end/rally-estonia-cropped/2021-10-20-15-11-29_e2e_rec_vastse_ss13_17_back: length=26763, filtered=0\n",
      "/data/Bolt/end-to-end/rally-estonia-cropped/2021-10-11-14-50-59_e2e_rec_vahi: length=21211, filtered=2\n",
      "/data/Bolt/end-to-end/rally-estonia-cropped/2021-10-14-13-08-51_e2e_rec_vahi_backwards: length=13442, filtered=0\n"
     ]
    },
    {
     "name": "stderr",
     "output_type": "stream",
     "text": [
      "/home/nikita/e2e-driving/notebooks/../mdn/mdn.py:124: TracerWarning: Converting a tensor to a Python boolean might cause the trace to be incorrect. We can't record the data flow of Python values, so this value will be treated as a constant in the future. This means that the trace might not generalize to other inputs!\n",
      "  if return_variances:\n"
     ]
    },
    {
     "name": "stdout",
     "output_type": "stream",
     "text": [
      "model config: {'n_samples': 128, 'steering_bound': 4.5, 'n_gaussians': 3, 'normalize_inputs': False}\n",
      "/data/Bolt/end-to-end/rally-estonia-cropped/2021-05-28-15-19-48_e2e_sulaoja_20_30: length=10708, filtered=0\n",
      "/data/Bolt/end-to-end/rally-estonia-cropped/2021-06-07-14-20-07_e2e_rec_ss6: length=25836, filtered=1\n",
      "/data/Bolt/end-to-end/rally-estonia-cropped/2021-06-07-14-06-31_e2e_rec_ss6: length=3003, filtered=0\n",
      "/data/Bolt/end-to-end/rally-estonia-cropped/2021-06-07-14-09-18_e2e_rec_ss6: length=4551, filtered=1\n",
      "/data/Bolt/end-to-end/rally-estonia-cropped/2021-06-07-14-36-16_e2e_rec_ss6: length=25368, filtered=1\n",
      "/data/Bolt/end-to-end/rally-estonia-cropped/2021-09-24-14-03-45_e2e_rec_ss11_backwards: length=25172, filtered=0\n",
      "/data/Bolt/end-to-end/rally-estonia-cropped/2021-10-26-10-49-06_e2e_rec_ss20_elva: length=33045, filtered=0\n",
      "/data/Bolt/end-to-end/rally-estonia-cropped/2021-10-26-11-08-59_e2e_rec_ss20_elva_back: length=33281, filtered=0\n",
      "/data/Bolt/end-to-end/rally-estonia-cropped/2021-10-20-15-11-29_e2e_rec_vastse_ss13_17_back: length=26763, filtered=0\n",
      "/data/Bolt/end-to-end/rally-estonia-cropped/2021-10-11-14-50-59_e2e_rec_vahi: length=21211, filtered=2\n",
      "/data/Bolt/end-to-end/rally-estonia-cropped/2021-10-14-13-08-51_e2e_rec_vahi_backwards: length=13442, filtered=0\n"
     ]
    },
    {
     "name": "stderr",
     "output_type": "stream",
     "text": [
      "/home/nikita/e2e-driving/notebooks/../mdn/mdn.py:124: TracerWarning: Converting a tensor to a Python boolean might cause the trace to be incorrect. We can't record the data flow of Python values, so this value will be treated as a constant in the future. This means that the trace might not generalize to other inputs!\n",
      "  if return_variances:\n"
     ]
    },
    {
     "name": "stdout",
     "output_type": "stream",
     "text": [
      "model config: {'n_samples': 128, 'steering_bound': 4.5, 'n_gaussians': 3, 'normalize_inputs': False}\n",
      "/data/Bolt/end-to-end/rally-estonia-cropped/2021-05-28-15-19-48_e2e_sulaoja_20_30: length=10708, filtered=0\n",
      "/data/Bolt/end-to-end/rally-estonia-cropped/2021-06-07-14-20-07_e2e_rec_ss6: length=25836, filtered=1\n",
      "/data/Bolt/end-to-end/rally-estonia-cropped/2021-06-07-14-06-31_e2e_rec_ss6: length=3003, filtered=0\n",
      "/data/Bolt/end-to-end/rally-estonia-cropped/2021-06-07-14-09-18_e2e_rec_ss6: length=4551, filtered=1\n",
      "/data/Bolt/end-to-end/rally-estonia-cropped/2021-06-07-14-36-16_e2e_rec_ss6: length=25368, filtered=1\n",
      "/data/Bolt/end-to-end/rally-estonia-cropped/2021-09-24-14-03-45_e2e_rec_ss11_backwards: length=25172, filtered=0\n",
      "/data/Bolt/end-to-end/rally-estonia-cropped/2021-10-26-10-49-06_e2e_rec_ss20_elva: length=33045, filtered=0\n",
      "/data/Bolt/end-to-end/rally-estonia-cropped/2021-10-26-11-08-59_e2e_rec_ss20_elva_back: length=33281, filtered=0\n",
      "/data/Bolt/end-to-end/rally-estonia-cropped/2021-10-20-15-11-29_e2e_rec_vastse_ss13_17_back: length=26763, filtered=0\n",
      "/data/Bolt/end-to-end/rally-estonia-cropped/2021-10-11-14-50-59_e2e_rec_vahi: length=21211, filtered=2\n",
      "/data/Bolt/end-to-end/rally-estonia-cropped/2021-10-14-13-08-51_e2e_rec_vahi_backwards: length=13442, filtered=0\n"
     ]
    },
    {
     "name": "stderr",
     "output_type": "stream",
     "text": [
      "/home/nikita/e2e-driving/notebooks/../mdn/mdn.py:124: TracerWarning: Converting a tensor to a Python boolean might cause the trace to be incorrect. We can't record the data flow of Python values, so this value will be treated as a constant in the future. This means that the trace might not generalize to other inputs!\n",
      "  if return_variances:\n"
     ]
    },
    {
     "name": "stdout",
     "output_type": "stream",
     "text": [
      "model config: {'n_samples': 128, 'steering_bound': 4.5, 'n_gaussians': 3, 'normalize_inputs': False}\n",
      "/data/Bolt/end-to-end/rally-estonia-cropped/2021-05-28-15-19-48_e2e_sulaoja_20_30: length=10708, filtered=0\n",
      "/data/Bolt/end-to-end/rally-estonia-cropped/2021-06-07-14-20-07_e2e_rec_ss6: length=25836, filtered=1\n",
      "/data/Bolt/end-to-end/rally-estonia-cropped/2021-06-07-14-06-31_e2e_rec_ss6: length=3003, filtered=0\n",
      "/data/Bolt/end-to-end/rally-estonia-cropped/2021-06-07-14-09-18_e2e_rec_ss6: length=4551, filtered=1\n",
      "/data/Bolt/end-to-end/rally-estonia-cropped/2021-06-07-14-36-16_e2e_rec_ss6: length=25368, filtered=1\n",
      "/data/Bolt/end-to-end/rally-estonia-cropped/2021-09-24-14-03-45_e2e_rec_ss11_backwards: length=25172, filtered=0\n",
      "/data/Bolt/end-to-end/rally-estonia-cropped/2021-10-26-10-49-06_e2e_rec_ss20_elva: length=33045, filtered=0\n",
      "/data/Bolt/end-to-end/rally-estonia-cropped/2021-10-26-11-08-59_e2e_rec_ss20_elva_back: length=33281, filtered=0\n",
      "/data/Bolt/end-to-end/rally-estonia-cropped/2021-10-20-15-11-29_e2e_rec_vastse_ss13_17_back: length=26763, filtered=0\n",
      "/data/Bolt/end-to-end/rally-estonia-cropped/2021-10-11-14-50-59_e2e_rec_vahi: length=21211, filtered=2\n",
      "/data/Bolt/end-to-end/rally-estonia-cropped/2021-10-14-13-08-51_e2e_rec_vahi_backwards: length=13442, filtered=0\n"
     ]
    },
    {
     "name": "stderr",
     "output_type": "stream",
     "text": [
      "/home/nikita/e2e-driving/notebooks/../mdn/mdn.py:124: TracerWarning: Converting a tensor to a Python boolean might cause the trace to be incorrect. We can't record the data flow of Python values, so this value will be treated as a constant in the future. This means that the trace might not generalize to other inputs!\n",
      "  if return_variances:\n"
     ]
    },
    {
     "name": "stdout",
     "output_type": "stream",
     "text": [
      "model config: {'n_samples': 128, 'steering_bound': 4.5, 'n_gaussians': 5, 'normalize_inputs': False}\n",
      "/data/Bolt/end-to-end/rally-estonia-cropped/2021-05-28-15-19-48_e2e_sulaoja_20_30: length=10708, filtered=0\n",
      "/data/Bolt/end-to-end/rally-estonia-cropped/2021-06-07-14-20-07_e2e_rec_ss6: length=25836, filtered=1\n",
      "/data/Bolt/end-to-end/rally-estonia-cropped/2021-06-07-14-06-31_e2e_rec_ss6: length=3003, filtered=0\n",
      "/data/Bolt/end-to-end/rally-estonia-cropped/2021-06-07-14-09-18_e2e_rec_ss6: length=4551, filtered=1\n",
      "/data/Bolt/end-to-end/rally-estonia-cropped/2021-06-07-14-36-16_e2e_rec_ss6: length=25368, filtered=1\n",
      "/data/Bolt/end-to-end/rally-estonia-cropped/2021-09-24-14-03-45_e2e_rec_ss11_backwards: length=25172, filtered=0\n",
      "/data/Bolt/end-to-end/rally-estonia-cropped/2021-10-26-10-49-06_e2e_rec_ss20_elva: length=33045, filtered=0\n",
      "/data/Bolt/end-to-end/rally-estonia-cropped/2021-10-26-11-08-59_e2e_rec_ss20_elva_back: length=33281, filtered=0\n",
      "/data/Bolt/end-to-end/rally-estonia-cropped/2021-10-20-15-11-29_e2e_rec_vastse_ss13_17_back: length=26763, filtered=0\n",
      "/data/Bolt/end-to-end/rally-estonia-cropped/2021-10-11-14-50-59_e2e_rec_vahi: length=21211, filtered=2\n",
      "/data/Bolt/end-to-end/rally-estonia-cropped/2021-10-14-13-08-51_e2e_rec_vahi_backwards: length=13442, filtered=0\n"
     ]
    },
    {
     "name": "stderr",
     "output_type": "stream",
     "text": [
      "/home/nikita/e2e-driving/notebooks/../mdn/mdn.py:124: TracerWarning: Converting a tensor to a Python boolean might cause the trace to be incorrect. We can't record the data flow of Python values, so this value will be treated as a constant in the future. This means that the trace might not generalize to other inputs!\n",
      "  if return_variances:\n"
     ]
    },
    {
     "name": "stdout",
     "output_type": "stream",
     "text": [
      "model config: {'n_samples': 128, 'steering_bound': 4.5, 'n_gaussians': 5, 'normalize_inputs': False}\n",
      "/data/Bolt/end-to-end/rally-estonia-cropped/2021-05-28-15-19-48_e2e_sulaoja_20_30: length=10708, filtered=0\n",
      "/data/Bolt/end-to-end/rally-estonia-cropped/2021-06-07-14-20-07_e2e_rec_ss6: length=25836, filtered=1\n",
      "/data/Bolt/end-to-end/rally-estonia-cropped/2021-06-07-14-06-31_e2e_rec_ss6: length=3003, filtered=0\n",
      "/data/Bolt/end-to-end/rally-estonia-cropped/2021-06-07-14-09-18_e2e_rec_ss6: length=4551, filtered=1\n",
      "/data/Bolt/end-to-end/rally-estonia-cropped/2021-06-07-14-36-16_e2e_rec_ss6: length=25368, filtered=1\n",
      "/data/Bolt/end-to-end/rally-estonia-cropped/2021-09-24-14-03-45_e2e_rec_ss11_backwards: length=25172, filtered=0\n",
      "/data/Bolt/end-to-end/rally-estonia-cropped/2021-10-26-10-49-06_e2e_rec_ss20_elva: length=33045, filtered=0\n",
      "/data/Bolt/end-to-end/rally-estonia-cropped/2021-10-26-11-08-59_e2e_rec_ss20_elva_back: length=33281, filtered=0\n",
      "/data/Bolt/end-to-end/rally-estonia-cropped/2021-10-20-15-11-29_e2e_rec_vastse_ss13_17_back: length=26763, filtered=0\n",
      "/data/Bolt/end-to-end/rally-estonia-cropped/2021-10-11-14-50-59_e2e_rec_vahi: length=21211, filtered=2\n",
      "/data/Bolt/end-to-end/rally-estonia-cropped/2021-10-14-13-08-51_e2e_rec_vahi_backwards: length=13442, filtered=0\n"
     ]
    },
    {
     "name": "stderr",
     "output_type": "stream",
     "text": [
      "/home/nikita/e2e-driving/notebooks/../mdn/mdn.py:124: TracerWarning: Converting a tensor to a Python boolean might cause the trace to be incorrect. We can't record the data flow of Python values, so this value will be treated as a constant in the future. This means that the trace might not generalize to other inputs!\n",
      "  if return_variances:\n"
     ]
    },
    {
     "name": "stdout",
     "output_type": "stream",
     "text": [
      "model config: {'n_samples': 128, 'steering_bound': 4.5, 'n_gaussians': 5, 'normalize_inputs': False}\n",
      "/data/Bolt/end-to-end/rally-estonia-cropped/2021-05-28-15-19-48_e2e_sulaoja_20_30: length=10708, filtered=0\n",
      "/data/Bolt/end-to-end/rally-estonia-cropped/2021-06-07-14-20-07_e2e_rec_ss6: length=25836, filtered=1\n",
      "/data/Bolt/end-to-end/rally-estonia-cropped/2021-06-07-14-06-31_e2e_rec_ss6: length=3003, filtered=0\n",
      "/data/Bolt/end-to-end/rally-estonia-cropped/2021-06-07-14-09-18_e2e_rec_ss6: length=4551, filtered=1\n",
      "/data/Bolt/end-to-end/rally-estonia-cropped/2021-06-07-14-36-16_e2e_rec_ss6: length=25368, filtered=1\n",
      "/data/Bolt/end-to-end/rally-estonia-cropped/2021-09-24-14-03-45_e2e_rec_ss11_backwards: length=25172, filtered=0\n",
      "/data/Bolt/end-to-end/rally-estonia-cropped/2021-10-26-10-49-06_e2e_rec_ss20_elva: length=33045, filtered=0\n",
      "/data/Bolt/end-to-end/rally-estonia-cropped/2021-10-26-11-08-59_e2e_rec_ss20_elva_back: length=33281, filtered=0\n",
      "/data/Bolt/end-to-end/rally-estonia-cropped/2021-10-20-15-11-29_e2e_rec_vastse_ss13_17_back: length=26763, filtered=0\n",
      "/data/Bolt/end-to-end/rally-estonia-cropped/2021-10-11-14-50-59_e2e_rec_vahi: length=21211, filtered=2\n",
      "/data/Bolt/end-to-end/rally-estonia-cropped/2021-10-14-13-08-51_e2e_rec_vahi_backwards: length=13442, filtered=0\n"
     ]
    },
    {
     "name": "stderr",
     "output_type": "stream",
     "text": [
      "/home/nikita/e2e-driving/notebooks/../mdn/mdn.py:124: TracerWarning: Converting a tensor to a Python boolean might cause the trace to be incorrect. We can't record the data flow of Python values, so this value will be treated as a constant in the future. This means that the trace might not generalize to other inputs!\n",
      "  if return_variances:\n"
     ]
    }
   ],
   "source": [
    "models = [\n",
    "    ('1eq2jiva', 'mdn-1-s1'),\n",
    "    ('32tkml84', 'mdn-1-s2'),\n",
    "    ('17obb61u', 'mdn-1-s3'),\n",
    "    ('3s5tapgz', 'mdn-3-s1'),\n",
    "    ('1bdlpf8d', 'mdn-3-s2'),\n",
    "    ('33smkc56', 'mdn-3-s3'),\n",
    "    ('1hbbr6dm', 'mdn-5-s1'),\n",
    "    ('27dfw40i', 'mdn-5-s2'),\n",
    "    ('2zz5m35m', 'mdn-5-s3'),\n",
    "]\n",
    "\n",
    "for run_id, model_name in models:\n",
    "    config = {'normalize_inputs': False}\n",
    "    path_to_model = download_model(run_id=run_id, config=config)\n",
    "    os.rename(path_to_model, f'../_models/{model_name}.onnx')"
   ]
  },
  {
   "cell_type": "markdown",
   "metadata": {},
   "source": [
    "### Experiment 4: Varying data amount (EBM vs Classification)"
   ]
  },
  {
   "cell_type": "code",
   "execution_count": 4,
   "metadata": {},
   "outputs": [
    {
     "name": "stdout",
     "output_type": "stream",
     "text": [
      "model config: {'n_samples': 512, 'steering_bound': 4.5, 'n_gaussians': 3}\n",
      "/data/Bolt/end-to-end/rally-estonia-cropped/2021-05-28-15-19-48_e2e_sulaoja_20_30: length=10708, filtered=0\n",
      "/data/Bolt/end-to-end/rally-estonia-cropped/2021-06-07-14-20-07_e2e_rec_ss6: length=25836, filtered=1\n",
      "/data/Bolt/end-to-end/rally-estonia-cropped/2021-06-07-14-06-31_e2e_rec_ss6: length=3003, filtered=0\n",
      "/data/Bolt/end-to-end/rally-estonia-cropped/2021-06-07-14-09-18_e2e_rec_ss6: length=4551, filtered=1\n",
      "/data/Bolt/end-to-end/rally-estonia-cropped/2021-06-07-14-36-16_e2e_rec_ss6: length=25368, filtered=1\n",
      "/data/Bolt/end-to-end/rally-estonia-cropped/2021-09-24-14-03-45_e2e_rec_ss11_backwards: length=25172, filtered=0\n",
      "/data/Bolt/end-to-end/rally-estonia-cropped/2021-10-26-10-49-06_e2e_rec_ss20_elva: length=33045, filtered=0\n",
      "/data/Bolt/end-to-end/rally-estonia-cropped/2021-10-26-11-08-59_e2e_rec_ss20_elva_back: length=33281, filtered=0\n",
      "/data/Bolt/end-to-end/rally-estonia-cropped/2021-10-20-15-11-29_e2e_rec_vastse_ss13_17_back: length=26763, filtered=0\n",
      "/data/Bolt/end-to-end/rally-estonia-cropped/2021-10-11-14-50-59_e2e_rec_vahi: length=21211, filtered=2\n",
      "/data/Bolt/end-to-end/rally-estonia-cropped/2021-10-14-13-08-51_e2e_rec_vahi_backwards: length=13442, filtered=0\n"
     ]
    },
    {
     "name": "stderr",
     "output_type": "stream",
     "text": [
      "/home/nikita/e2e-driving/notebooks/../ebm/optimizers.py:117: UserWarning: __floordiv__ is deprecated, and its behavior will change in a future version of pytorch. It currently rounds toward 0 (like the 'trunc' function NOT 'floor'). This results in incorrect rounding for negative values. To keep the current behavior, use torch.div(a, b, rounding_mode='trunc'), or for actual floor division, use torch.div(a, b, rounding_mode='floor').\n",
      "  batch_size = num_samples // self.inference_samples\n",
      "/home/nikita/miniconda3/envs/e2e/lib/python3.9/site-packages/torch/onnx/symbolic_opset9.py:2905: UserWarning: Exporting aten::index operator of advanced indexing in opset 9 is achieved by combination of multiple ONNX operators, including Reshape, Transpose, Concat, and Gather. If indices include negative values, the exported graph will produce incorrect results.\n",
      "  warnings.warn(\"Exporting aten::index operator of advanced indexing in opset \" +\n"
     ]
    },
    {
     "name": "stdout",
     "output_type": "stream",
     "text": [
      "model config: {'n_samples': 512, 'steering_bound': 4.5, 'n_gaussians': 3}\n",
      "/data/Bolt/end-to-end/rally-estonia-cropped/2021-05-28-15-19-48_e2e_sulaoja_20_30: length=10708, filtered=0\n",
      "/data/Bolt/end-to-end/rally-estonia-cropped/2021-06-07-14-20-07_e2e_rec_ss6: length=25836, filtered=1\n",
      "/data/Bolt/end-to-end/rally-estonia-cropped/2021-06-07-14-06-31_e2e_rec_ss6: length=3003, filtered=0\n",
      "/data/Bolt/end-to-end/rally-estonia-cropped/2021-06-07-14-09-18_e2e_rec_ss6: length=4551, filtered=1\n",
      "/data/Bolt/end-to-end/rally-estonia-cropped/2021-06-07-14-36-16_e2e_rec_ss6: length=25368, filtered=1\n",
      "/data/Bolt/end-to-end/rally-estonia-cropped/2021-09-24-14-03-45_e2e_rec_ss11_backwards: length=25172, filtered=0\n",
      "/data/Bolt/end-to-end/rally-estonia-cropped/2021-10-26-10-49-06_e2e_rec_ss20_elva: length=33045, filtered=0\n",
      "/data/Bolt/end-to-end/rally-estonia-cropped/2021-10-26-11-08-59_e2e_rec_ss20_elva_back: length=33281, filtered=0\n",
      "/data/Bolt/end-to-end/rally-estonia-cropped/2021-10-20-15-11-29_e2e_rec_vastse_ss13_17_back: length=26763, filtered=0\n",
      "/data/Bolt/end-to-end/rally-estonia-cropped/2021-10-11-14-50-59_e2e_rec_vahi: length=21211, filtered=2\n",
      "/data/Bolt/end-to-end/rally-estonia-cropped/2021-10-14-13-08-51_e2e_rec_vahi_backwards: length=13442, filtered=0\n"
     ]
    },
    {
     "name": "stderr",
     "output_type": "stream",
     "text": [
      "/home/nikita/e2e-driving/notebooks/../ebm/optimizers.py:117: UserWarning: __floordiv__ is deprecated, and its behavior will change in a future version of pytorch. It currently rounds toward 0 (like the 'trunc' function NOT 'floor'). This results in incorrect rounding for negative values. To keep the current behavior, use torch.div(a, b, rounding_mode='trunc'), or for actual floor division, use torch.div(a, b, rounding_mode='floor').\n",
      "  batch_size = num_samples // self.inference_samples\n",
      "/home/nikita/miniconda3/envs/e2e/lib/python3.9/site-packages/torch/onnx/symbolic_opset9.py:2905: UserWarning: Exporting aten::index operator of advanced indexing in opset 9 is achieved by combination of multiple ONNX operators, including Reshape, Transpose, Concat, and Gather. If indices include negative values, the exported graph will produce incorrect results.\n",
      "  warnings.warn(\"Exporting aten::index operator of advanced indexing in opset \" +\n"
     ]
    },
    {
     "name": "stdout",
     "output_type": "stream",
     "text": [
      "model config: {'n_samples': 512, 'steering_bound': 4.5, 'n_gaussians': 3}\n",
      "/data/Bolt/end-to-end/rally-estonia-cropped/2021-05-28-15-19-48_e2e_sulaoja_20_30: length=10708, filtered=0\n",
      "/data/Bolt/end-to-end/rally-estonia-cropped/2021-06-07-14-20-07_e2e_rec_ss6: length=25836, filtered=1\n",
      "/data/Bolt/end-to-end/rally-estonia-cropped/2021-06-07-14-06-31_e2e_rec_ss6: length=3003, filtered=0\n",
      "/data/Bolt/end-to-end/rally-estonia-cropped/2021-06-07-14-09-18_e2e_rec_ss6: length=4551, filtered=1\n",
      "/data/Bolt/end-to-end/rally-estonia-cropped/2021-06-07-14-36-16_e2e_rec_ss6: length=25368, filtered=1\n",
      "/data/Bolt/end-to-end/rally-estonia-cropped/2021-09-24-14-03-45_e2e_rec_ss11_backwards: length=25172, filtered=0\n",
      "/data/Bolt/end-to-end/rally-estonia-cropped/2021-10-26-10-49-06_e2e_rec_ss20_elva: length=33045, filtered=0\n",
      "/data/Bolt/end-to-end/rally-estonia-cropped/2021-10-26-11-08-59_e2e_rec_ss20_elva_back: length=33281, filtered=0\n",
      "/data/Bolt/end-to-end/rally-estonia-cropped/2021-10-20-15-11-29_e2e_rec_vastse_ss13_17_back: length=26763, filtered=0\n",
      "/data/Bolt/end-to-end/rally-estonia-cropped/2021-10-11-14-50-59_e2e_rec_vahi: length=21211, filtered=2\n",
      "/data/Bolt/end-to-end/rally-estonia-cropped/2021-10-14-13-08-51_e2e_rec_vahi_backwards: length=13442, filtered=0\n"
     ]
    },
    {
     "name": "stderr",
     "output_type": "stream",
     "text": [
      "/home/nikita/e2e-driving/notebooks/../ebm/optimizers.py:117: UserWarning: __floordiv__ is deprecated, and its behavior will change in a future version of pytorch. It currently rounds toward 0 (like the 'trunc' function NOT 'floor'). This results in incorrect rounding for negative values. To keep the current behavior, use torch.div(a, b, rounding_mode='trunc'), or for actual floor division, use torch.div(a, b, rounding_mode='floor').\n",
      "  batch_size = num_samples // self.inference_samples\n",
      "/home/nikita/miniconda3/envs/e2e/lib/python3.9/site-packages/torch/onnx/symbolic_opset9.py:2905: UserWarning: Exporting aten::index operator of advanced indexing in opset 9 is achieved by combination of multiple ONNX operators, including Reshape, Transpose, Concat, and Gather. If indices include negative values, the exported graph will produce incorrect results.\n",
      "  warnings.warn(\"Exporting aten::index operator of advanced indexing in opset \" +\n"
     ]
    },
    {
     "name": "stdout",
     "output_type": "stream",
     "text": [
      "model config: {'n_samples': 512, 'steering_bound': 4.5, 'n_gaussians': 3}\n",
      "/data/Bolt/end-to-end/rally-estonia-cropped/2021-05-28-15-19-48_e2e_sulaoja_20_30: length=10708, filtered=0\n",
      "/data/Bolt/end-to-end/rally-estonia-cropped/2021-06-07-14-20-07_e2e_rec_ss6: length=25836, filtered=1\n",
      "/data/Bolt/end-to-end/rally-estonia-cropped/2021-06-07-14-06-31_e2e_rec_ss6: length=3003, filtered=0\n",
      "/data/Bolt/end-to-end/rally-estonia-cropped/2021-06-07-14-09-18_e2e_rec_ss6: length=4551, filtered=1\n",
      "/data/Bolt/end-to-end/rally-estonia-cropped/2021-06-07-14-36-16_e2e_rec_ss6: length=25368, filtered=1\n",
      "/data/Bolt/end-to-end/rally-estonia-cropped/2021-09-24-14-03-45_e2e_rec_ss11_backwards: length=25172, filtered=0\n",
      "/data/Bolt/end-to-end/rally-estonia-cropped/2021-10-26-10-49-06_e2e_rec_ss20_elva: length=33045, filtered=0\n",
      "/data/Bolt/end-to-end/rally-estonia-cropped/2021-10-26-11-08-59_e2e_rec_ss20_elva_back: length=33281, filtered=0\n",
      "/data/Bolt/end-to-end/rally-estonia-cropped/2021-10-20-15-11-29_e2e_rec_vastse_ss13_17_back: length=26763, filtered=0\n",
      "/data/Bolt/end-to-end/rally-estonia-cropped/2021-10-11-14-50-59_e2e_rec_vahi: length=21211, filtered=2\n",
      "/data/Bolt/end-to-end/rally-estonia-cropped/2021-10-14-13-08-51_e2e_rec_vahi_backwards: length=13442, filtered=0\n"
     ]
    },
    {
     "name": "stderr",
     "output_type": "stream",
     "text": [
      "/home/nikita/e2e-driving/notebooks/../ebm/optimizers.py:117: UserWarning: __floordiv__ is deprecated, and its behavior will change in a future version of pytorch. It currently rounds toward 0 (like the 'trunc' function NOT 'floor'). This results in incorrect rounding for negative values. To keep the current behavior, use torch.div(a, b, rounding_mode='trunc'), or for actual floor division, use torch.div(a, b, rounding_mode='floor').\n",
      "  batch_size = num_samples // self.inference_samples\n",
      "/home/nikita/miniconda3/envs/e2e/lib/python3.9/site-packages/torch/onnx/symbolic_opset9.py:2905: UserWarning: Exporting aten::index operator of advanced indexing in opset 9 is achieved by combination of multiple ONNX operators, including Reshape, Transpose, Concat, and Gather. If indices include negative values, the exported graph will produce incorrect results.\n",
      "  warnings.warn(\"Exporting aten::index operator of advanced indexing in opset \" +\n"
     ]
    },
    {
     "name": "stdout",
     "output_type": "stream",
     "text": [
      "model config: {'n_samples': 512, 'steering_bound': 4.5, 'n_gaussians': 3}\n",
      "/data/Bolt/end-to-end/rally-estonia-cropped/2021-05-28-15-19-48_e2e_sulaoja_20_30: length=10708, filtered=0\n",
      "/data/Bolt/end-to-end/rally-estonia-cropped/2021-06-07-14-20-07_e2e_rec_ss6: length=25836, filtered=1\n",
      "/data/Bolt/end-to-end/rally-estonia-cropped/2021-06-07-14-06-31_e2e_rec_ss6: length=3003, filtered=0\n",
      "/data/Bolt/end-to-end/rally-estonia-cropped/2021-06-07-14-09-18_e2e_rec_ss6: length=4551, filtered=1\n",
      "/data/Bolt/end-to-end/rally-estonia-cropped/2021-06-07-14-36-16_e2e_rec_ss6: length=25368, filtered=1\n",
      "/data/Bolt/end-to-end/rally-estonia-cropped/2021-09-24-14-03-45_e2e_rec_ss11_backwards: length=25172, filtered=0\n",
      "/data/Bolt/end-to-end/rally-estonia-cropped/2021-10-26-10-49-06_e2e_rec_ss20_elva: length=33045, filtered=0\n",
      "/data/Bolt/end-to-end/rally-estonia-cropped/2021-10-26-11-08-59_e2e_rec_ss20_elva_back: length=33281, filtered=0\n",
      "/data/Bolt/end-to-end/rally-estonia-cropped/2021-10-20-15-11-29_e2e_rec_vastse_ss13_17_back: length=26763, filtered=0\n",
      "/data/Bolt/end-to-end/rally-estonia-cropped/2021-10-11-14-50-59_e2e_rec_vahi: length=21211, filtered=2\n",
      "/data/Bolt/end-to-end/rally-estonia-cropped/2021-10-14-13-08-51_e2e_rec_vahi_backwards: length=13442, filtered=0\n",
      "model config: {'n_samples': 512, 'steering_bound': 4.5, 'n_gaussians': 3}\n",
      "/data/Bolt/end-to-end/rally-estonia-cropped/2021-05-28-15-19-48_e2e_sulaoja_20_30: length=10708, filtered=0\n",
      "/data/Bolt/end-to-end/rally-estonia-cropped/2021-06-07-14-20-07_e2e_rec_ss6: length=25836, filtered=1\n",
      "/data/Bolt/end-to-end/rally-estonia-cropped/2021-06-07-14-06-31_e2e_rec_ss6: length=3003, filtered=0\n",
      "/data/Bolt/end-to-end/rally-estonia-cropped/2021-06-07-14-09-18_e2e_rec_ss6: length=4551, filtered=1\n",
      "/data/Bolt/end-to-end/rally-estonia-cropped/2021-06-07-14-36-16_e2e_rec_ss6: length=25368, filtered=1\n",
      "/data/Bolt/end-to-end/rally-estonia-cropped/2021-09-24-14-03-45_e2e_rec_ss11_backwards: length=25172, filtered=0\n",
      "/data/Bolt/end-to-end/rally-estonia-cropped/2021-10-26-10-49-06_e2e_rec_ss20_elva: length=33045, filtered=0\n",
      "/data/Bolt/end-to-end/rally-estonia-cropped/2021-10-26-11-08-59_e2e_rec_ss20_elva_back: length=33281, filtered=0\n",
      "/data/Bolt/end-to-end/rally-estonia-cropped/2021-10-20-15-11-29_e2e_rec_vastse_ss13_17_back: length=26763, filtered=0\n",
      "/data/Bolt/end-to-end/rally-estonia-cropped/2021-10-11-14-50-59_e2e_rec_vahi: length=21211, filtered=2\n",
      "/data/Bolt/end-to-end/rally-estonia-cropped/2021-10-14-13-08-51_e2e_rec_vahi_backwards: length=13442, filtered=0\n",
      "model config: {'n_samples': 512, 'steering_bound': 4.5, 'n_gaussians': 3}\n",
      "/data/Bolt/end-to-end/rally-estonia-cropped/2021-05-28-15-19-48_e2e_sulaoja_20_30: length=10708, filtered=0\n",
      "/data/Bolt/end-to-end/rally-estonia-cropped/2021-06-07-14-20-07_e2e_rec_ss6: length=25836, filtered=1\n",
      "/data/Bolt/end-to-end/rally-estonia-cropped/2021-06-07-14-06-31_e2e_rec_ss6: length=3003, filtered=0\n",
      "/data/Bolt/end-to-end/rally-estonia-cropped/2021-06-07-14-09-18_e2e_rec_ss6: length=4551, filtered=1\n",
      "/data/Bolt/end-to-end/rally-estonia-cropped/2021-06-07-14-36-16_e2e_rec_ss6: length=25368, filtered=1\n",
      "/data/Bolt/end-to-end/rally-estonia-cropped/2021-09-24-14-03-45_e2e_rec_ss11_backwards: length=25172, filtered=0\n",
      "/data/Bolt/end-to-end/rally-estonia-cropped/2021-10-26-10-49-06_e2e_rec_ss20_elva: length=33045, filtered=0\n",
      "/data/Bolt/end-to-end/rally-estonia-cropped/2021-10-26-11-08-59_e2e_rec_ss20_elva_back: length=33281, filtered=0\n",
      "/data/Bolt/end-to-end/rally-estonia-cropped/2021-10-20-15-11-29_e2e_rec_vastse_ss13_17_back: length=26763, filtered=0\n",
      "/data/Bolt/end-to-end/rally-estonia-cropped/2021-10-11-14-50-59_e2e_rec_vahi: length=21211, filtered=2\n",
      "/data/Bolt/end-to-end/rally-estonia-cropped/2021-10-14-13-08-51_e2e_rec_vahi_backwards: length=13442, filtered=0\n",
      "model config: {'n_samples': 512, 'steering_bound': 4.5, 'n_gaussians': 3}\n",
      "/data/Bolt/end-to-end/rally-estonia-cropped/2021-05-28-15-19-48_e2e_sulaoja_20_30: length=10708, filtered=0\n",
      "/data/Bolt/end-to-end/rally-estonia-cropped/2021-06-07-14-20-07_e2e_rec_ss6: length=25836, filtered=1\n",
      "/data/Bolt/end-to-end/rally-estonia-cropped/2021-06-07-14-06-31_e2e_rec_ss6: length=3003, filtered=0\n",
      "/data/Bolt/end-to-end/rally-estonia-cropped/2021-06-07-14-09-18_e2e_rec_ss6: length=4551, filtered=1\n",
      "/data/Bolt/end-to-end/rally-estonia-cropped/2021-06-07-14-36-16_e2e_rec_ss6: length=25368, filtered=1\n",
      "/data/Bolt/end-to-end/rally-estonia-cropped/2021-09-24-14-03-45_e2e_rec_ss11_backwards: length=25172, filtered=0\n",
      "/data/Bolt/end-to-end/rally-estonia-cropped/2021-10-26-10-49-06_e2e_rec_ss20_elva: length=33045, filtered=0\n",
      "/data/Bolt/end-to-end/rally-estonia-cropped/2021-10-26-11-08-59_e2e_rec_ss20_elva_back: length=33281, filtered=0\n",
      "/data/Bolt/end-to-end/rally-estonia-cropped/2021-10-20-15-11-29_e2e_rec_vastse_ss13_17_back: length=26763, filtered=0\n",
      "/data/Bolt/end-to-end/rally-estonia-cropped/2021-10-11-14-50-59_e2e_rec_vahi: length=21211, filtered=2\n",
      "/data/Bolt/end-to-end/rally-estonia-cropped/2021-10-14-13-08-51_e2e_rec_vahi_backwards: length=13442, filtered=0\n"
     ]
    }
   ],
   "source": [
    "models = [\n",
    "    # ebm-512-s1 for 100%\n",
    "    ('https://wandb.ai/nikebless/ebm-driving/runs/228inmtq', 'ebm-50percent-s1'),\n",
    "    ('https://wandb.ai/nikebless/ebm-driving/runs/2yofzwf0', 'ebm-50percent-s2'),\n",
    "    ('https://wandb.ai/nikebless/ebm-driving/runs/1owxpr1x', 'ebm-20percent-s1'),\n",
    "    ('https://wandb.ai/nikebless/ebm-driving/runs/zie8x2vl', 'ebm-20percent-s2'),\n",
    "    # classifier-512 for 100%\n",
    "    ('https://wandb.ai/nikebless/ebm-driving/runs/1t56cx3v', 'classifier-50percent-s1'),\n",
    "    ('https://wandb.ai/nikebless/ebm-driving/runs/d53rmg8e', 'classifier-50percent-s2'),\n",
    "    ('https://wandb.ai/nikebless/ebm-driving/runs/2e3y0oce', 'classifier-20percent-s1'),\n",
    "    ('https://wandb.ai/nikebless/ebm-driving/runs/2ldsn0i0', 'classifier-20percent-s2'),\n",
    "]\n",
    "\n",
    "for run_id, model_name in models:\n",
    "    path_to_model = download_model(run_id=run_id)\n",
    "    os.rename(path_to_model, f'../_models/{model_name}.onnx')"
   ]
  },
  {
   "cell_type": "code",
   "execution_count": null,
   "metadata": {},
   "outputs": [],
   "source": []
  },
  {
   "cell_type": "markdown",
   "metadata": {},
   "source": [
    "### Final experiment: All models"
   ]
  },
  {
   "cell_type": "code",
   "execution_count": 21,
   "metadata": {},
   "outputs": [
    {
     "data": {
      "text/plain": [
       "[('1p73jc4m', 'ebm-spatial-0-s1'),\n",
       " ('3dp4sen8', 'ebm-normal-0.3-s1'),\n",
       " ('3jk7cnqa', 'ebm-normal-1-s1'),\n",
       " ('27xlvoan', 'ebm-spatial-0.3-s1'),\n",
       " ('1e9xgnmv', 'ebm-spatial-1-s1'),\n",
       " ('f5xw3kj9', 'classifier-normal-0.3-s1'),\n",
       " ('2v42l625', 'ebm-normal-0.3-s2'),\n",
       " ('2jvl4yhn', 'ebm-spatial-0-s2'),\n",
       " ('4001dzmm', 'classifier-normal-1-s1'),\n",
       " ('aw7baltg', 'classifier-spatial-0-s1'),\n",
       " ('p99caxnk', 'classifier-spatial-0.3-s1'),\n",
       " ('1qo45ro2', 'classifier-spatial-1-s1'),\n",
       " ('374wicdd', 'ebm-normal-0.3-s3'),\n",
       " ('242kpjyb', 'ebm-normal-1-s2'),\n",
       " ('1n3e8g3l', 'ebm-spatial-0-s3'),\n",
       " ('gy6gp4pa', 'ebm-spatial-0.3-s2'),\n",
       " ('29aaride', 'ebm-spatial-1-s2'),\n",
       " ('39s7poda', 'classifier-normal-0.3-s2'),\n",
       " ('ci8wz89c', 'classifier-normal-1-s2'),\n",
       " ('3avfhaf3', 'classifier-spatial-0-s2'),\n",
       " ('2dlkfgnz', 'classifier-spatial-0.3-s2'),\n",
       " ('12y11e6t', 'classifier-spatial-1-s2'),\n",
       " ('1kut0356', 'ebm-normal-0.3-s4'),\n",
       " ('3couqhw2', 'ebm-normal-1-s3'),\n",
       " ('56vrm532', 'ebm-spatial-0-s4'),\n",
       " ('2sn1bnrf', 'ebm-spatial-0.3-s3'),\n",
       " ('w7zzopkq', 'ebm-spatial-1-s3'),\n",
       " ('3qum26gs', 'classifier-normal-0.3-s3'),\n",
       " ('1utefb13', 'classifier-normal-1-s3'),\n",
       " ('3gbkshy3', 'classifier-spatial-0-s3'),\n",
       " ('30ov05ub', 'classifier-spatial-0.3-s3'),\n",
       " ('1akmqgm5', 'classifier-spatial-1-s3')]"
      ]
     },
     "execution_count": 21,
     "metadata": {},
     "output_type": "execute_result"
    }
   ],
   "source": [
    "from collections import Counter\n",
    "api = wandb.Api()\n",
    "\n",
    "# only drives since September 19th\n",
    "runs = api.runs('nikebless/ebm-driving', filters={\n",
    "        \"$and\": [{\n",
    "        'created_at': {\n",
    "            \"$gt\": '2022-09-181##'\n",
    "            }\n",
    "        }]\n",
    "    }, \n",
    "    order='+created_at',\n",
    ")\n",
    "\n",
    "model_names_count = Counter()\n",
    "models = []\n",
    "\n",
    "for i, run in enumerate(runs):\n",
    "    if run.summary.get('epoch', None) is None: continue\n",
    "\n",
    "    model_type = run.config.get('model_type')\n",
    "    loss_variant = run.config.get('loss_variant')\n",
    "    temp_reg = run.config.get('temporal_regularization')\n",
    "\n",
    "    model_type_str = model_type.replace('pilotnet-', '')\n",
    "    loss_variant_str = loss_variant.replace('ce-proximity-aware', 'spatial').replace('default', 'normal')\n",
    "\n",
    "    model_name = f'{model_type_str}-{loss_variant_str}-{temp_reg}'\n",
    "    model_names_count.update([model_name])\n",
    "    seed = model_names_count.get(model_name)\n",
    "    model_name = f'{model_name}-s{seed}'\n",
    "    models.append((run.id, model_name))\n",
    "\n",
    "models\n"
   ]
  },
  {
   "cell_type": "code",
   "execution_count": 24,
   "metadata": {},
   "outputs": [
    {
     "name": "stdout",
     "output_type": "stream",
     "text": [
      "model config: {'n_samples': 512, 'steering_bound': 4.5, 'n_gaussians': 3, 'normalize_inputs': False}\n",
      "[NvidiaDataset] Using default transform: Compose(\n",
      "    <dataloading.nvidia.Normalize object at 0x7f2a325294f0>\n",
      ")\n",
      "/data/Bolt/end-to-end/rally-estonia-cropped/2021-05-28-15-19-48_e2e_sulaoja_20_30: length=10708, filtered=0\n",
      "/data/Bolt/end-to-end/rally-estonia-cropped/2021-06-07-14-20-07_e2e_rec_ss6: length=25836, filtered=1\n",
      "/data/Bolt/end-to-end/rally-estonia-cropped/2021-06-07-14-06-31_e2e_rec_ss6: length=3003, filtered=0\n",
      "/data/Bolt/end-to-end/rally-estonia-cropped/2021-06-07-14-09-18_e2e_rec_ss6: length=4551, filtered=1\n",
      "/data/Bolt/end-to-end/rally-estonia-cropped/2021-06-07-14-36-16_e2e_rec_ss6: length=25368, filtered=1\n",
      "/data/Bolt/end-to-end/rally-estonia-cropped/2021-09-24-14-03-45_e2e_rec_ss11_backwards: length=25172, filtered=0\n",
      "/data/Bolt/end-to-end/rally-estonia-cropped/2021-10-26-10-49-06_e2e_rec_ss20_elva: length=33045, filtered=0\n",
      "/data/Bolt/end-to-end/rally-estonia-cropped/2021-10-26-11-08-59_e2e_rec_ss20_elva_back: length=33281, filtered=0\n",
      "/data/Bolt/end-to-end/rally-estonia-cropped/2021-10-20-15-11-29_e2e_rec_vastse_ss13_17_back: length=26763, filtered=0\n",
      "/data/Bolt/end-to-end/rally-estonia-cropped/2021-10-11-14-50-59_e2e_rec_vahi: length=21211, filtered=2\n",
      "/data/Bolt/end-to-end/rally-estonia-cropped/2021-10-14-13-08-51_e2e_rec_vahi_backwards: length=13442, filtered=0\n",
      "model config: {'n_samples': 512, 'steering_bound': 4.5, 'n_gaussians': 3, 'normalize_inputs': False}\n",
      "[NvidiaDataset] Using default transform: Compose(\n",
      "    <dataloading.nvidia.Normalize object at 0x7f2a3229d6d0>\n",
      ")\n",
      "/data/Bolt/end-to-end/rally-estonia-cropped/2021-05-28-15-19-48_e2e_sulaoja_20_30: length=10708, filtered=0\n",
      "/data/Bolt/end-to-end/rally-estonia-cropped/2021-06-07-14-20-07_e2e_rec_ss6: length=25836, filtered=1\n",
      "/data/Bolt/end-to-end/rally-estonia-cropped/2021-06-07-14-06-31_e2e_rec_ss6: length=3003, filtered=0\n",
      "/data/Bolt/end-to-end/rally-estonia-cropped/2021-06-07-14-09-18_e2e_rec_ss6: length=4551, filtered=1\n",
      "/data/Bolt/end-to-end/rally-estonia-cropped/2021-06-07-14-36-16_e2e_rec_ss6: length=25368, filtered=1\n",
      "/data/Bolt/end-to-end/rally-estonia-cropped/2021-09-24-14-03-45_e2e_rec_ss11_backwards: length=25172, filtered=0\n",
      "/data/Bolt/end-to-end/rally-estonia-cropped/2021-10-26-10-49-06_e2e_rec_ss20_elva: length=33045, filtered=0\n",
      "/data/Bolt/end-to-end/rally-estonia-cropped/2021-10-26-11-08-59_e2e_rec_ss20_elva_back: length=33281, filtered=0\n",
      "/data/Bolt/end-to-end/rally-estonia-cropped/2021-10-20-15-11-29_e2e_rec_vastse_ss13_17_back: length=26763, filtered=0\n",
      "/data/Bolt/end-to-end/rally-estonia-cropped/2021-10-11-14-50-59_e2e_rec_vahi: length=21211, filtered=2\n",
      "/data/Bolt/end-to-end/rally-estonia-cropped/2021-10-14-13-08-51_e2e_rec_vahi_backwards: length=13442, filtered=0\n",
      "model config: {'n_samples': 512, 'steering_bound': 4.5, 'n_gaussians': 3, 'normalize_inputs': False}\n",
      "[NvidiaDataset] Using default transform: Compose(\n",
      "    <dataloading.nvidia.Normalize object at 0x7f2a326aa3d0>\n",
      ")\n",
      "/data/Bolt/end-to-end/rally-estonia-cropped/2021-05-28-15-19-48_e2e_sulaoja_20_30: length=10708, filtered=0\n",
      "/data/Bolt/end-to-end/rally-estonia-cropped/2021-06-07-14-20-07_e2e_rec_ss6: length=25836, filtered=1\n",
      "/data/Bolt/end-to-end/rally-estonia-cropped/2021-06-07-14-06-31_e2e_rec_ss6: length=3003, filtered=0\n",
      "/data/Bolt/end-to-end/rally-estonia-cropped/2021-06-07-14-09-18_e2e_rec_ss6: length=4551, filtered=1\n",
      "/data/Bolt/end-to-end/rally-estonia-cropped/2021-06-07-14-36-16_e2e_rec_ss6: length=25368, filtered=1\n",
      "/data/Bolt/end-to-end/rally-estonia-cropped/2021-09-24-14-03-45_e2e_rec_ss11_backwards: length=25172, filtered=0\n",
      "/data/Bolt/end-to-end/rally-estonia-cropped/2021-10-26-10-49-06_e2e_rec_ss20_elva: length=33045, filtered=0\n",
      "/data/Bolt/end-to-end/rally-estonia-cropped/2021-10-26-11-08-59_e2e_rec_ss20_elva_back: length=33281, filtered=0\n",
      "/data/Bolt/end-to-end/rally-estonia-cropped/2021-10-20-15-11-29_e2e_rec_vastse_ss13_17_back: length=26763, filtered=0\n",
      "/data/Bolt/end-to-end/rally-estonia-cropped/2021-10-11-14-50-59_e2e_rec_vahi: length=21211, filtered=2\n",
      "/data/Bolt/end-to-end/rally-estonia-cropped/2021-10-14-13-08-51_e2e_rec_vahi_backwards: length=13442, filtered=0\n"
     ]
    }
   ],
   "source": [
    "for run_id, model_name in models:\n",
    "    if 'classifier-spatial' in model_name and '-s3' in model_name:\n",
    "        config = {'normalize_inputs': False}\n",
    "        path_to_model = download_model(run_id=run_id, config=config)\n",
    "        if path_to_model is not None:\n",
    "            os.rename(path_to_model, f'../_models/{model_name}.onnx')\n",
    "        else:\n",
    "            print(f'Could not download {run_id} {model_name}. Check the run has the model file.')"
   ]
  },
  {
   "cell_type": "markdown",
   "metadata": {},
   "source": [
    "### Final experiments: Selected models"
   ]
  },
  {
   "cell_type": "code",
   "execution_count": 5,
   "metadata": {},
   "outputs": [
    {
     "name": "stdout",
     "output_type": "stream",
     "text": [
      "model config: {'n_samples': 512, 'steering_bound': 4.5, 'n_gaussians': 3, 'normalize_inputs': False}\n",
      "[NvidiaDataset] Using default transform: Compose(\n",
      "    <dataloading.nvidia.Normalize object at 0x7f777b30b8b0>\n",
      ")\n",
      "/data/Bolt/end-to-end/rally-estonia-cropped/2021-05-28-15-19-48_e2e_sulaoja_20_30: length=10708, filtered=0\n",
      "/data/Bolt/end-to-end/rally-estonia-cropped/2021-06-07-14-20-07_e2e_rec_ss6: length=25836, filtered=1\n",
      "/data/Bolt/end-to-end/rally-estonia-cropped/2021-06-07-14-06-31_e2e_rec_ss6: length=3003, filtered=0\n",
      "/data/Bolt/end-to-end/rally-estonia-cropped/2021-06-07-14-09-18_e2e_rec_ss6: length=4551, filtered=1\n",
      "/data/Bolt/end-to-end/rally-estonia-cropped/2021-06-07-14-36-16_e2e_rec_ss6: length=25368, filtered=1\n",
      "/data/Bolt/end-to-end/rally-estonia-cropped/2021-09-24-14-03-45_e2e_rec_ss11_backwards: length=25172, filtered=0\n",
      "/data/Bolt/end-to-end/rally-estonia-cropped/2021-10-26-10-49-06_e2e_rec_ss20_elva: length=33045, filtered=0\n",
      "/data/Bolt/end-to-end/rally-estonia-cropped/2021-10-26-11-08-59_e2e_rec_ss20_elva_back: length=33281, filtered=0\n",
      "/data/Bolt/end-to-end/rally-estonia-cropped/2021-10-20-15-11-29_e2e_rec_vastse_ss13_17_back: length=26763, filtered=0\n",
      "/data/Bolt/end-to-end/rally-estonia-cropped/2021-10-11-14-50-59_e2e_rec_vahi: length=21211, filtered=2\n",
      "/data/Bolt/end-to-end/rally-estonia-cropped/2021-10-14-13-08-51_e2e_rec_vahi_backwards: length=13442, filtered=0\n"
     ]
    },
    {
     "name": "stderr",
     "output_type": "stream",
     "text": [
      "/home/nikita/e2e-driving/notebooks/../ebm/optimizers.py:117: UserWarning: __floordiv__ is deprecated, and its behavior will change in a future version of pytorch. It currently rounds toward 0 (like the 'trunc' function NOT 'floor'). This results in incorrect rounding for negative values. To keep the current behavior, use torch.div(a, b, rounding_mode='trunc'), or for actual floor division, use torch.div(a, b, rounding_mode='floor').\n",
      "  batch_size = num_samples // self.inference_samples\n",
      "/home/nikita/miniconda3/envs/e2e/lib/python3.9/site-packages/torch/onnx/symbolic_opset9.py:2905: UserWarning: Exporting aten::index operator of advanced indexing in opset 9 is achieved by combination of multiple ONNX operators, including Reshape, Transpose, Concat, and Gather. If indices include negative values, the exported graph will produce incorrect results.\n",
      "  warnings.warn(\"Exporting aten::index operator of advanced indexing in opset \" +\n"
     ]
    },
    {
     "name": "stdout",
     "output_type": "stream",
     "text": [
      "model config: {'n_samples': 512, 'steering_bound': 4.5, 'n_gaussians': 3, 'normalize_inputs': False}\n",
      "[NvidiaDataset] Using default transform: Compose(\n",
      "    <dataloading.nvidia.Normalize object at 0x7f7782457970>\n",
      ")\n",
      "/data/Bolt/end-to-end/rally-estonia-cropped/2021-05-28-15-19-48_e2e_sulaoja_20_30: length=10708, filtered=0\n",
      "/data/Bolt/end-to-end/rally-estonia-cropped/2021-06-07-14-20-07_e2e_rec_ss6: length=25836, filtered=1\n",
      "/data/Bolt/end-to-end/rally-estonia-cropped/2021-06-07-14-06-31_e2e_rec_ss6: length=3003, filtered=0\n",
      "/data/Bolt/end-to-end/rally-estonia-cropped/2021-06-07-14-09-18_e2e_rec_ss6: length=4551, filtered=1\n",
      "/data/Bolt/end-to-end/rally-estonia-cropped/2021-06-07-14-36-16_e2e_rec_ss6: length=25368, filtered=1\n",
      "/data/Bolt/end-to-end/rally-estonia-cropped/2021-09-24-14-03-45_e2e_rec_ss11_backwards: length=25172, filtered=0\n",
      "/data/Bolt/end-to-end/rally-estonia-cropped/2021-10-26-10-49-06_e2e_rec_ss20_elva: length=33045, filtered=0\n",
      "/data/Bolt/end-to-end/rally-estonia-cropped/2021-10-26-11-08-59_e2e_rec_ss20_elva_back: length=33281, filtered=0\n",
      "/data/Bolt/end-to-end/rally-estonia-cropped/2021-10-20-15-11-29_e2e_rec_vastse_ss13_17_back: length=26763, filtered=0\n",
      "/data/Bolt/end-to-end/rally-estonia-cropped/2021-10-11-14-50-59_e2e_rec_vahi: length=21211, filtered=2\n",
      "/data/Bolt/end-to-end/rally-estonia-cropped/2021-10-14-13-08-51_e2e_rec_vahi_backwards: length=13442, filtered=0\n"
     ]
    },
    {
     "name": "stderr",
     "output_type": "stream",
     "text": [
      "/home/nikita/e2e-driving/notebooks/../ebm/optimizers.py:117: UserWarning: __floordiv__ is deprecated, and its behavior will change in a future version of pytorch. It currently rounds toward 0 (like the 'trunc' function NOT 'floor'). This results in incorrect rounding for negative values. To keep the current behavior, use torch.div(a, b, rounding_mode='trunc'), or for actual floor division, use torch.div(a, b, rounding_mode='floor').\n",
      "  batch_size = num_samples // self.inference_samples\n",
      "/home/nikita/miniconda3/envs/e2e/lib/python3.9/site-packages/torch/onnx/symbolic_opset9.py:2905: UserWarning: Exporting aten::index operator of advanced indexing in opset 9 is achieved by combination of multiple ONNX operators, including Reshape, Transpose, Concat, and Gather. If indices include negative values, the exported graph will produce incorrect results.\n",
      "  warnings.warn(\"Exporting aten::index operator of advanced indexing in opset \" +\n"
     ]
    },
    {
     "name": "stdout",
     "output_type": "stream",
     "text": [
      "model config: {'n_samples': 512, 'steering_bound': 4.5, 'n_gaussians': 3, 'normalize_inputs': False}\n",
      "[NvidiaDataset] Using default transform: Compose(\n",
      "    <dataloading.nvidia.Normalize object at 0x7f7741580340>\n",
      ")\n",
      "/data/Bolt/end-to-end/rally-estonia-cropped/2021-05-28-15-19-48_e2e_sulaoja_20_30: length=10708, filtered=0\n",
      "/data/Bolt/end-to-end/rally-estonia-cropped/2021-06-07-14-20-07_e2e_rec_ss6: length=25836, filtered=1\n",
      "/data/Bolt/end-to-end/rally-estonia-cropped/2021-06-07-14-06-31_e2e_rec_ss6: length=3003, filtered=0\n",
      "/data/Bolt/end-to-end/rally-estonia-cropped/2021-06-07-14-09-18_e2e_rec_ss6: length=4551, filtered=1\n",
      "/data/Bolt/end-to-end/rally-estonia-cropped/2021-06-07-14-36-16_e2e_rec_ss6: length=25368, filtered=1\n",
      "/data/Bolt/end-to-end/rally-estonia-cropped/2021-09-24-14-03-45_e2e_rec_ss11_backwards: length=25172, filtered=0\n",
      "/data/Bolt/end-to-end/rally-estonia-cropped/2021-10-26-10-49-06_e2e_rec_ss20_elva: length=33045, filtered=0\n",
      "/data/Bolt/end-to-end/rally-estonia-cropped/2021-10-26-11-08-59_e2e_rec_ss20_elva_back: length=33281, filtered=0\n",
      "/data/Bolt/end-to-end/rally-estonia-cropped/2021-10-20-15-11-29_e2e_rec_vastse_ss13_17_back: length=26763, filtered=0\n",
      "/data/Bolt/end-to-end/rally-estonia-cropped/2021-10-11-14-50-59_e2e_rec_vahi: length=21211, filtered=2\n",
      "/data/Bolt/end-to-end/rally-estonia-cropped/2021-10-14-13-08-51_e2e_rec_vahi_backwards: length=13442, filtered=0\n"
     ]
    },
    {
     "name": "stderr",
     "output_type": "stream",
     "text": [
      "/home/nikita/e2e-driving/notebooks/../ebm/optimizers.py:117: UserWarning: __floordiv__ is deprecated, and its behavior will change in a future version of pytorch. It currently rounds toward 0 (like the 'trunc' function NOT 'floor'). This results in incorrect rounding for negative values. To keep the current behavior, use torch.div(a, b, rounding_mode='trunc'), or for actual floor division, use torch.div(a, b, rounding_mode='floor').\n",
      "  batch_size = num_samples // self.inference_samples\n",
      "/home/nikita/miniconda3/envs/e2e/lib/python3.9/site-packages/torch/onnx/symbolic_opset9.py:2905: UserWarning: Exporting aten::index operator of advanced indexing in opset 9 is achieved by combination of multiple ONNX operators, including Reshape, Transpose, Concat, and Gather. If indices include negative values, the exported graph will produce incorrect results.\n",
      "  warnings.warn(\"Exporting aten::index operator of advanced indexing in opset \" +\n"
     ]
    },
    {
     "name": "stdout",
     "output_type": "stream",
     "text": [
      "model config: {'n_samples': 512, 'steering_bound': 4.5, 'n_gaussians': 3, 'normalize_inputs': False}\n",
      "[NvidiaDataset] Using default transform: Compose(\n",
      "    <dataloading.nvidia.Normalize object at 0x7f775452cfa0>\n",
      ")\n",
      "/data/Bolt/end-to-end/rally-estonia-cropped/2021-05-28-15-19-48_e2e_sulaoja_20_30: length=10708, filtered=0\n",
      "/data/Bolt/end-to-end/rally-estonia-cropped/2021-06-07-14-20-07_e2e_rec_ss6: length=25836, filtered=1\n",
      "/data/Bolt/end-to-end/rally-estonia-cropped/2021-06-07-14-06-31_e2e_rec_ss6: length=3003, filtered=0\n",
      "/data/Bolt/end-to-end/rally-estonia-cropped/2021-06-07-14-09-18_e2e_rec_ss6: length=4551, filtered=1\n",
      "/data/Bolt/end-to-end/rally-estonia-cropped/2021-06-07-14-36-16_e2e_rec_ss6: length=25368, filtered=1\n",
      "/data/Bolt/end-to-end/rally-estonia-cropped/2021-09-24-14-03-45_e2e_rec_ss11_backwards: length=25172, filtered=0\n",
      "/data/Bolt/end-to-end/rally-estonia-cropped/2021-10-26-10-49-06_e2e_rec_ss20_elva: length=33045, filtered=0\n",
      "/data/Bolt/end-to-end/rally-estonia-cropped/2021-10-26-11-08-59_e2e_rec_ss20_elva_back: length=33281, filtered=0\n",
      "/data/Bolt/end-to-end/rally-estonia-cropped/2021-10-20-15-11-29_e2e_rec_vastse_ss13_17_back: length=26763, filtered=0\n",
      "/data/Bolt/end-to-end/rally-estonia-cropped/2021-10-11-14-50-59_e2e_rec_vahi: length=21211, filtered=2\n",
      "/data/Bolt/end-to-end/rally-estonia-cropped/2021-10-14-13-08-51_e2e_rec_vahi_backwards: length=13442, filtered=0\n",
      "model config: {'n_samples': 512, 'steering_bound': 4.5, 'n_gaussians': 3, 'normalize_inputs': False}\n",
      "[NvidiaDataset] Using default transform: Compose(\n",
      "    <dataloading.nvidia.Normalize object at 0x7f76da12d460>\n",
      ")\n",
      "/data/Bolt/end-to-end/rally-estonia-cropped/2021-05-28-15-19-48_e2e_sulaoja_20_30: length=10708, filtered=0\n",
      "/data/Bolt/end-to-end/rally-estonia-cropped/2021-06-07-14-20-07_e2e_rec_ss6: length=25836, filtered=1\n",
      "/data/Bolt/end-to-end/rally-estonia-cropped/2021-06-07-14-06-31_e2e_rec_ss6: length=3003, filtered=0\n",
      "/data/Bolt/end-to-end/rally-estonia-cropped/2021-06-07-14-09-18_e2e_rec_ss6: length=4551, filtered=1\n",
      "/data/Bolt/end-to-end/rally-estonia-cropped/2021-06-07-14-36-16_e2e_rec_ss6: length=25368, filtered=1\n",
      "/data/Bolt/end-to-end/rally-estonia-cropped/2021-09-24-14-03-45_e2e_rec_ss11_backwards: length=25172, filtered=0\n",
      "/data/Bolt/end-to-end/rally-estonia-cropped/2021-10-26-10-49-06_e2e_rec_ss20_elva: length=33045, filtered=0\n",
      "/data/Bolt/end-to-end/rally-estonia-cropped/2021-10-26-11-08-59_e2e_rec_ss20_elva_back: length=33281, filtered=0\n",
      "/data/Bolt/end-to-end/rally-estonia-cropped/2021-10-20-15-11-29_e2e_rec_vastse_ss13_17_back: length=26763, filtered=0\n",
      "/data/Bolt/end-to-end/rally-estonia-cropped/2021-10-11-14-50-59_e2e_rec_vahi: length=21211, filtered=2\n",
      "/data/Bolt/end-to-end/rally-estonia-cropped/2021-10-14-13-08-51_e2e_rec_vahi_backwards: length=13442, filtered=0\n",
      "model config: {'n_samples': 128, 'steering_bound': 4.5, 'n_gaussians': 5, 'normalize_inputs': False}\n",
      "[NvidiaDataset] Using default transform: Compose(\n",
      "    <dataloading.nvidia.Normalize object at 0x7f76d8b80280>\n",
      ")\n",
      "/data/Bolt/end-to-end/rally-estonia-cropped/2021-05-28-15-19-48_e2e_sulaoja_20_30: length=10708, filtered=0\n",
      "/data/Bolt/end-to-end/rally-estonia-cropped/2021-06-07-14-20-07_e2e_rec_ss6: length=25836, filtered=1\n",
      "/data/Bolt/end-to-end/rally-estonia-cropped/2021-06-07-14-06-31_e2e_rec_ss6: length=3003, filtered=0\n",
      "/data/Bolt/end-to-end/rally-estonia-cropped/2021-06-07-14-09-18_e2e_rec_ss6: length=4551, filtered=1\n",
      "/data/Bolt/end-to-end/rally-estonia-cropped/2021-06-07-14-36-16_e2e_rec_ss6: length=25368, filtered=1\n",
      "/data/Bolt/end-to-end/rally-estonia-cropped/2021-09-24-14-03-45_e2e_rec_ss11_backwards: length=25172, filtered=0\n",
      "/data/Bolt/end-to-end/rally-estonia-cropped/2021-10-26-10-49-06_e2e_rec_ss20_elva: length=33045, filtered=0\n",
      "/data/Bolt/end-to-end/rally-estonia-cropped/2021-10-26-11-08-59_e2e_rec_ss20_elva_back: length=33281, filtered=0\n",
      "/data/Bolt/end-to-end/rally-estonia-cropped/2021-10-20-15-11-29_e2e_rec_vastse_ss13_17_back: length=26763, filtered=0\n",
      "/data/Bolt/end-to-end/rally-estonia-cropped/2021-10-11-14-50-59_e2e_rec_vahi: length=21211, filtered=2\n",
      "/data/Bolt/end-to-end/rally-estonia-cropped/2021-10-14-13-08-51_e2e_rec_vahi_backwards: length=13442, filtered=0\n"
     ]
    },
    {
     "name": "stderr",
     "output_type": "stream",
     "text": [
      "/home/nikita/e2e-driving/notebooks/../mdn/mdn.py:124: TracerWarning: Converting a tensor to a Python boolean might cause the trace to be incorrect. We can't record the data flow of Python values, so this value will be treated as a constant in the future. This means that the trace might not generalize to other inputs!\n",
      "  if return_variances:\n"
     ]
    }
   ],
   "source": [
    "models = [\n",
    "    ('3ftnqxcb', 'ebm-512-s1'),\n",
    "    ('3jk7cnqa', 'ebm-normal-1-s1'),\n",
    "    ('2jvl4yhn', 'ebm-spatial-0-s2'),\n",
    "    ('bxd5wtqk', 'mae-s2'),\n",
    "    ('3g3wwx73', 'classifier-512'),\n",
    "    ('1hbbr6dm', 'mdn-5-s1'),\n",
    "]\n",
    "\n",
    "for run_id, model_name in models:\n",
    "    config = {'normalize_inputs': False}\n",
    "    path_to_model_onnx, path_to_model_pt = download_model(run_id=run_id, config=config, return_pt_path=True)\n",
    "    if path_to_model_onnx is not None and path_to_model_pt is not None:\n",
    "        os.rename(path_to_model_onnx, f'../_models/{model_name}.onnx')\n",
    "        os.rename(path_to_model_pt, f'../_models/{model_name}.pt')\n",
    "    else:\n",
    "        print(f'Could not download {run_id} {model_name}. Check the run has the model file.')"
   ]
  },
  {
   "cell_type": "markdown",
   "metadata": {},
   "source": []
  },
  {
   "cell_type": "code",
   "execution_count": 3,
   "metadata": {},
   "outputs": [
    {
     "name": "stdout",
     "output_type": "stream",
     "text": [
      "model config: {'n_samples': 512, 'steering_bound': 4.5, 'n_gaussians': 3, 'normalize_inputs': False}\n",
      "[NvidiaDataset] Using default transform: Compose(\n",
      "    <dataloading.nvidia.Normalize object at 0x7f78f5c8ea30>\n",
      ")\n",
      "/data/Bolt/end-to-end/rally-estonia-cropped/2021-05-28-15-19-48_e2e_sulaoja_20_30: length=10708, filtered=0\n",
      "/data/Bolt/end-to-end/rally-estonia-cropped/2021-06-07-14-20-07_e2e_rec_ss6: length=25836, filtered=1\n",
      "/data/Bolt/end-to-end/rally-estonia-cropped/2021-06-07-14-06-31_e2e_rec_ss6: length=3003, filtered=0\n",
      "/data/Bolt/end-to-end/rally-estonia-cropped/2021-06-07-14-09-18_e2e_rec_ss6: length=4551, filtered=1\n",
      "/data/Bolt/end-to-end/rally-estonia-cropped/2021-06-07-14-36-16_e2e_rec_ss6: length=25368, filtered=1\n",
      "/data/Bolt/end-to-end/rally-estonia-cropped/2021-09-24-14-03-45_e2e_rec_ss11_backwards: length=25172, filtered=0\n",
      "/data/Bolt/end-to-end/rally-estonia-cropped/2021-10-26-10-49-06_e2e_rec_ss20_elva: length=33045, filtered=0\n",
      "/data/Bolt/end-to-end/rally-estonia-cropped/2021-10-26-11-08-59_e2e_rec_ss20_elva_back: length=33281, filtered=0\n",
      "/data/Bolt/end-to-end/rally-estonia-cropped/2021-10-20-15-11-29_e2e_rec_vastse_ss13_17_back: length=26763, filtered=0\n",
      "/data/Bolt/end-to-end/rally-estonia-cropped/2021-10-11-14-50-59_e2e_rec_vahi: length=21211, filtered=2\n",
      "/data/Bolt/end-to-end/rally-estonia-cropped/2021-10-14-13-08-51_e2e_rec_vahi_backwards: length=13442, filtered=0\n"
     ]
    },
    {
     "name": "stderr",
     "output_type": "stream",
     "text": [
      "/home/nikita/e2e-driving/notebooks/../mdn/mdn.py:136: TracerWarning: Converting a tensor to a Python boolean might cause the trace to be incorrect. We can't record the data flow of Python values, so this value will be treated as a constant in the future. This means that the trace might not generalize to other inputs!\n",
      "  if return_variances:\n"
     ]
    }
   ],
   "source": [
    "models = [\n",
    "    ('274bkloa', 'mdn-3-s1-90-0-90'),\n",
    "]\n",
    "\n",
    "for run_id, model_name in models:\n",
    "    config = {'normalize_inputs': False}\n",
    "    path_to_model_onnx, path_to_model_pt = download_model(run_id=run_id, config=config, return_pt_path=True)\n",
    "    if path_to_model_onnx is not None and path_to_model_pt is not None:\n",
    "        os.rename(path_to_model_onnx, f'../_models/{model_name}.onnx')\n",
    "        os.rename(path_to_model_pt, f'../_models/{model_name}.pt')\n",
    "    else:\n",
    "        print(f'Could not download {run_id} {model_name}. Check the run has the model file.')"
   ]
  },
  {
   "cell_type": "code",
   "execution_count": null,
   "metadata": {},
   "outputs": [],
   "source": []
  }
 ],
 "metadata": {
  "kernelspec": {
   "display_name": "Python 3.9.12 ('e2e')",
   "language": "python",
   "name": "python3"
  },
  "language_info": {
   "codemirror_mode": {
    "name": "ipython",
    "version": 3
   },
   "file_extension": ".py",
   "mimetype": "text/x-python",
   "name": "python",
   "nbconvert_exporter": "python",
   "pygments_lexer": "ipython3",
   "version": "3.9.12"
  },
  "orig_nbformat": 4,
  "vscode": {
   "interpreter": {
    "hash": "322c5c4facabdc6bcc8c78b7959ccdee3ccc8c0dc306e4585416789305ea23e7"
   }
  }
 },
 "nbformat": 4,
 "nbformat_minor": 2
}
